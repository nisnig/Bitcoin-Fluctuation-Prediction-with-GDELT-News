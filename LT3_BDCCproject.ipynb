{
 "cells": [
  {
   "cell_type": "markdown",
   "metadata": {},
   "source": [
    "# CrypTone: Predicting Bitcoin Currency Fluctuations Using GDELT News Data\n",
    "\n",
    "<br>\n",
    "<br>\n",
    "submitted by:\n",
    "Elmer Joaquin <br>\n",
    "Nisarg Nigam <br>\n",
    "Adrian Perez <br>\n",
    "Joanna Quinto <br>"
   ]
  },
  {
   "cell_type": "markdown",
   "metadata": {},
   "source": [
    "### Executive Summary"
   ]
  },
  {
   "cell_type": "markdown",
   "metadata": {},
   "source": [
    "Cryptocurrency, bitcoin in particular, has sparked the journey of decentralized payment system using blockchain technology. Today, big eCommerce  companies has already adapted accepting bitcoins as mode of payment for some of their products. While some traders and investors may see this as the currency of the future, others are still skeptic and intrigued with this cryptocurrency, primarily because of its extremely volatile behavior. As such, can we use Big Data and machine learning to effectively forecast bitcoin prices? In this project, the we aim to answer this problem by estimating bitcoin price based on the daily global news and events from GDELT and Bitcoin trading information. A total of 2.5TB of raw GDELT data was collected, which was reduced to 148GB after filtering. This data was then preprocessed to extract the average daily tone components of the global events. These features were included for the model training. The forecasting setup was done for a 1-day, 3-days, and 7-days ahead from our present information. The team found that using Gradient Boosting Regressor is the best model with an RMSE of 251.63. This surpassed the baseline MAE produced by ARIMA, which is at 272.60. On the other hand, XGBoost Regressor was the best predictor for the 3-days and 7-days forecast. It was found that our models get less accurate when our predictions get further into the future we may account this behavior to the reducing significance of a news article as time progresses. Lastly, the news structure (e.g. activity and self/group reference density) are found to be the most important sentiments from our news data.\n",
    "<br>\n",
    "<br>\n",
    "We believe that this project could serve as a guide for both new and experienced crypto traders. However, profitability may still be increased if we will further develop this project. As a recommendation, we are encouraging future researchers to expand the data that was used for training in order to capture more bitcoin movements, and incorporate neural networks in the model to further increase the performance of our models. Lastly, consider more journalistic parameters in our news data. This could unlock more insights and may lead us to conclusive factors that could ve correlated with the volatile movements of bitcoin data."
   ]
  },
  {
   "cell_type": "markdown",
   "metadata": {},
   "source": [
    "### Introduction"
   ]
  },
  {
   "cell_type": "markdown",
   "metadata": {},
   "source": [
    "**Bitcoin** (BTC) is the first cryptocurrency that was created, distributed, traded, and stored with the use of decentralized ledger system known as blockchain. It was released in the year 2009 and follows the ideas set out in the journal paper authored by the pseudonymous Satoshi Nakamoto [1]. As of this writing, there are already 18.5 million BTC circulating supply, out of the total 21 million BTC [2]. Bitcoin reached its all-time high price at about \\\\$42,000 on Friday, January 8, 2021. This beats December 2017's peak price at about \\\\$20,000 before it plunged back to $7,000 in the first quarter of 2018. Because cryptocurrencies are not really pegged to economic performances like the stock market, the perpetual crash and peak of cryptocurrencies are more likely driven by their intrinsic values. These fluctuations are often  attributed to by its mining rate, supply & demand, regulatory changes, competing cryptos, and information contained in the daily news [3].\n",
    "\n",
    "With the assumption that media influence and events have effects on the behavior of the bitcoin price performance, our team aims to predict as accurate as possible, the price of bitcoin tomorrow based on the overall sentiment of today's news and events. This will be done using Big Data analytics and Machine Learning technologies and procedures. The datasets used in this project are from GDELT, for world events, and Investing.com for the bitcoin prices over the years."
   ]
  },
  {
   "cell_type": "markdown",
   "metadata": {},
   "source": [
    "### Data Description"
   ]
  },
  {
   "cell_type": "markdown",
   "metadata": {},
   "source": [
    "**Global Database of Eevents, Language, and Tone** (GDELT) is a catalog that monitors the world's broadcast, print, and web news from nearly every corner of every country in over 100 languages and identifies the people, locations, counts, themes, sources and events every day [4]. To be specific, we have used the Global Knowledge Graph (GKG) version 2.1, which contains more information about the event than the ones contained in the standard events database. We have extraced the GDELT data from [`Registry of Open Data on AWS`](https://registry.opendata.aws/gdelt/), hosted by Amazon. For the purpose of this study, we have only used certain features as listed in Table 1.\n",
    "\n",
    "<br>\n",
    "<br>\n",
    "<center><b>Table 1. GDELT GKG Data</b></center>\n",
    "\n",
    "| Feature | Data Type| Description |\n",
    "| :-----: | :------: | :---------: |\n",
    "| GKGRECORDID | String | A globally unique identifier for each event, following the “YYYYMMDDHHMMSS-X” or “YYYYMMDDHHMMSS-TX” format |\n",
    "| V2.1DATE | Integer | The timestamp on which the news media used to contruct the GKG file was published in YYYYMMDDHHMMSS format |\n",
    "| V2SOURCECOLLECTIONIDENTIFIER | Integer | A numeric identifier for the source of the event (i.e., 1=web, 2=citationonly, 3=core, 4=dtic, 5=jstor, 6=nontextualsource) |\n",
    "| V2SOURCECOMMONNAME | String | The human-readable identifier of the event source |\n",
    "| V1THEMES | String | The list of all themes found in the document separated by semi-colon |\n",
    "| V1LOCATIONS | String | The list of all locations found in the document, with each element separated by semi-colon |\n",
    "| V1.5TONE | String | A comma-delimited list of six core emotional dimensions values (float and integer) |\n",
    "\n",
    "\n",
    "<br>\n",
    "<br>\n",
    "To further elaborate on the `Tone` features as this will be one of the primary elements that will be used for the prediction, see Table 2 for the description of each elements under the `Tone` component.\n",
    "\n",
    "<br>\n",
    "<br>\n",
    "<center><b>Table 2. V1.5TONE Data</b></center>\n",
    "\n",
    "| Feature | Data Type| Description |\n",
    "| :-----: | :------: | :---------: |\n",
    "| Positive Score | Float | The percentage of all words in the article that were found to have a positive emotional connotation | \n",
    "| Negative Score | Float | The percentage of all words in the article that were found to have a positive emotional connotation |\n",
    "| Tone | Float | The average \"tone\" of the document as a whole, calculated as `Positive Score` minus `Negative Score` |\n",
    "| Polarity | Float | The percentage of words that had matches in the tonal dictionary as an indicator of how emotionally polarized or charged the text is |\n",
    "| Activity Reference Density | Float | the percentage of words that were active words offering a very basic proxy of the overall “activeness” of the text |\n",
    "| Self/Group Reference Density | Float | The percentage of all words in the article that are pronouns, capturing a combination of self-references and group-based discourse |\n",
    "| Word Count | Integer | Total number of words in the document |\n",
    "\n",
    "The range of GDELT data used in this project is from 2016 to 2019. Table 3 shows the summary of the raw dataset size in Gigabyte unit. It can be observed that the 2019 data is only 234GB in size, compared to other years where it is about 1TB. This is because the GDELT dataset in the AWS public repository only contains entries for up to the first half of April 2019.\n",
    "\n",
    "<br>\n",
    "<br>\n",
    "<center><b>Table 3. Raw GDELT Data Size</b></center>\n",
    "\n",
    "| Year | Size (GB)|\n",
    "| :--: | :------: |\n",
    "| 2019 | 234 |\n",
    "| 2018 | 917 |\n",
    "| 2017 | 1023 |\n",
    "| 2016 | 1200 |\n",
    "| **Total** | 2554 |\n",
    "\n",
    "For the bitcoin dataset, we have extracted data from [**Investing.com**](https://ph.investing.com/crypto/bitcoin/btc-usd). It is an online news website that provides real-time financial information such as portfolio, streaming charts, financial news, live stock market, and of course, cryptocurrency data. We have also used 2016 to 2019 data and it totaled to  `152KB` in size. The features extracted for the bitcoin data are listed in Table 4.\n",
    "\n",
    "<br>\n",
    "<br>\n",
    "<center><b>Table 4. Bitcoin Data</b></center>\n",
    "\n",
    "| Feature | Data Type| Description |\n",
    "| :-----: | :------: | :---------: |\n",
    "| Timestamp | Datetime | Timestamp of the transaction\n",
    "| Price | Float | Closing price of the bitcoin |\n",
    "| Open | Float | Opening price of the bitcoin |\n",
    "| High | Float | Highest bitcoin price for the given timeframe |\n",
    "| Low | Float | Lowest bitcoin price for the given timeframe |\n",
    "| Volume | Float | Total trading volume for the given time frame |"
   ]
  },
  {
   "cell_type": "markdown",
   "metadata": {},
   "source": [
    "### Methodologies"
   ]
  },
  {
   "cell_type": "markdown",
   "metadata": {},
   "source": [
    "To achieve our objective of using Big Data to produce a forecasting model for Bitcoin prices, we designed a methodology pipeline as shown in Figure xx. The data that we have used for this methodology came from the `GDELT database` and `Historical bitcoin prices` from investing.com. On the other hand, we used Big Data tools such as `Dask`, `PySpark` and `Amazon Web Service` to make our data preprocessing faster. \n",
    "<br><br>\n",
    "Our methodology is shown below:\n",
    "   - `Data Collection` : Download and parse daily BTC and GDELT data from their dedicated repositories.\n",
    "   - `Data Clearning & Preprocessing` : Transform data for easier operability to our machine learning models. Here, dataframes for different forecasts are produced.\n",
    "   - `Exploratory Data Analysis`: Plots of the data shall be examined to understand the nature of the data and derive insights from them.\n",
    "   - `Model Training`: Machine Learning models are trained using the 70-30 train-test split of our produced data.\n",
    "   - `Model Evaluation`: Examine the performance of the machine learning models by computing their Root Mean Square Errors (RMSE) and Mean Absolute Error (MAE).\n",
    "<br><br>\n",
    "<img src='./img/methodology.PNG'>\n",
    "\n",
    "<center><b>Figure 1. Project Methodology</b></center>"
   ]
  },
  {
   "cell_type": "markdown",
   "metadata": {
    "ExecuteTime": {
     "end_time": "2021-01-25T06:33:55.387098Z",
     "start_time": "2021-01-25T06:13:48.857Z"
    }
   },
   "source": [
    "### Data Collection"
   ]
  },
  {
   "cell_type": "markdown",
   "metadata": {},
   "source": [
    "As mentioned in the previous `Data Description` section, the datasets were acquired from [`Registry of Open Data on AWS`](https://registry.opendata.aws/gdelt/) for the GDELT data, and [`Investing.com`](https://ph.investing.com/crypto/bitcoin/btc-usd) for the bitcoin data. The GDELT data however was further reduced by filtering news and events that have the following locations: `US`, `Romania`, `China`, `Spain`, `Japan`, `Switzerland`, `South Korea` because these are the countries that hold the most bitcoins [5]. Given this information, we hypothesize that events from these countries have bigger effect to the performance of the bitcoin. The summary of the filtered dataset size is displayed in Table 5.\n",
    "\n",
    "<br>\n",
    "<br>\n",
    "<center><b>Table 4. Filtered GDELT Data Size</b></center>\n",
    "\n",
    "| Year | Size (GB)|\n",
    "| :--: | :------: |\n",
    "| 2019 | 10 |\n",
    "| 2018 | 41 |\n",
    "| 2017 | 47 |\n",
    "| 2016 | 50 |\n",
    "| **Total** | 148 |\n",
    "\n",
    "For this study,we used `Distributed Dask` to perform our data computations. Having the local machine as a client, we have employed a dask scheduler with 10 workers. Each worker has a `t2.large` configuration which has 8 GB of memory and 2 CPUs [6] which gives us a total of 20 cores and approximately 80GB of computing power. Figure 2 displays the status of our dask cluster during the time of project implementation.\n",
    "\n",
    "<img src='./img/dask_cluster.PNG'>\n",
    "\n",
    "<center><b>Figure 2. Distributed Dask Cluster Summary</b></center>\n",
    "\n",
    "The codes used in the data collection and filtering can be found in the  `LT3_BDCC Final Project_Data Collection`notebook."
   ]
  },
  {
   "cell_type": "markdown",
   "metadata": {},
   "source": [
    "### Data Cleaning and Preprocessing"
   ]
  },
  {
   "cell_type": "markdown",
   "metadata": {},
   "source": [
    "For this procedures, Amazon Elastic Map-Reduce (EMR) or Spark clusters were employed. The cluster has 1 master and 8 cores in which all are of m4.large instance. Each instance has 2 CPUs and 8GB memory [7], which gives us a total of 16 cores (CPU) and approximately 64GB of computing power."
   ]
  },
  {
   "cell_type": "markdown",
   "metadata": {},
   "source": [
    "#### GDELT Data\n",
    "\n",
    "The GDELT entries are updated every 15 minutes. Since we are aiming to predict the next day's bticoin price based on the overall sentiment of today's news and events, we need to transform the data into day-interval instead of the current 15-minute interval. This could be done by aggregating the data per day and getting the average of the `Tone` components. But before we can do this, we need to do the following preprocessing procedures first:\n",
    "\n",
    "1. Convert the `Timestamp` value to per-day basis by simply removing the time component at the end of the string.\n",
    "2. Segment the `Tone` component which is initially in a comma-separated format.\n",
    "3. Convert each component values to `Float` data type.\n",
    "3. Perform the aggregation method.\n",
    "\n",
    "The resulting dataset should have 365 rows (366 for the year 2016 due to leap year), with each row corresponding to 1 day of the year. The averaged tone values are then saved into a separate  csv files for further processing.\n",
    "\n",
    "The codes used in this cleaning and preprocessing procedures can be found in the  `LT3_BDCC Final Project_Data Preprocessing` notebook."
   ]
  },
  {
   "cell_type": "markdown",
   "metadata": {},
   "source": [
    "#### Bitcoin Data"
   ]
  },
  {
   "cell_type": "markdown",
   "metadata": {},
   "source": [
    "The Bitcoin is a non-stop trading entity. As such, we cannot particularly bin values in reference to our preset timescale. However, we need to matched the timescale of our GDELT data and group the Bitcoin information on daily context. The data that was found in [**Investing.com**](https://ph.investing.com/crypto/bitcoin/btc-usd) was already binned per day. Thus, we used this information to relate daily news information with Bitcoin data."
   ]
  },
  {
   "cell_type": "markdown",
   "metadata": {},
   "source": [
    "### Exploratory Data Analysis"
   ]
  },
  {
   "cell_type": "code",
   "execution_count": 1,
   "metadata": {
    "ExecuteTime": {
     "end_time": "2021-01-25T06:40:04.581131Z",
     "start_time": "2021-01-25T06:40:03.494438Z"
    }
   },
   "outputs": [],
   "source": [
    "import pandas as pd\n",
    "import numpy as np\n",
    "import matplotlib.pyplot as plt\n",
    "import warnings\n",
    "import seaborn as sns\n",
    "\n",
    "import pandas as pd\n",
    "from numpy.random import seed\n",
    "from tqdm import tqdm\n",
    "import numpy as np\n",
    "import matplotlib.pyplot as plt\n",
    "from sklearn.metrics import mean_squared_error, r2_score, mean_absolute_error\n",
    "seed(42)\n",
    "\n",
    "# Get the best parameter\n",
    "from pandas import read_csv\n",
    "from statsmodels.tsa.arima_model import ARIMA\n",
    "from sklearn.metrics import mean_squared_error\n",
    "from scipy.stats import boxcox\n",
    "from math import sqrt\n",
    "import numpy\n",
    "\n",
    "# Run Arima\n",
    "from pandas import Series\n",
    "from statsmodels.tsa.stattools import adfuller\n",
    "from matplotlib import pyplot\n",
    "\n",
    "from pandas import read_csv\n",
    "from matplotlib import pyplot\n",
    "from statsmodels.tsa.arima_model import ARIMA\n",
    "from statsmodels.tsa.arima_model import ARIMAResults\n",
    "from sklearn.metrics import mean_squared_error\n",
    "from math import sqrt\n",
    "import numpy\n",
    "from sklearn.metrics import mean_absolute_error\n",
    "\n",
    "%matplotlib inline\n",
    "\n",
    "import warnings\n",
    "warnings.filterwarnings(\"ignore\")"
   ]
  },
  {
   "cell_type": "markdown",
   "metadata": {},
   "source": [
    "Here, we explore our data and determine any potential pattern or definitive behavior of our prepared data set. It is assumed that the insights that we will gather on this section will help us understand the performance results of our machine learning models"
   ]
  },
  {
   "cell_type": "code",
   "execution_count": 2,
   "metadata": {
    "ExecuteTime": {
     "end_time": "2021-01-25T06:40:06.796447Z",
     "start_time": "2021-01-25T06:40:06.752253Z"
    }
   },
   "outputs": [
    {
     "data": {
      "text/html": [
       "<div>\n",
       "<style scoped>\n",
       "    .dataframe tbody tr th:only-of-type {\n",
       "        vertical-align: middle;\n",
       "    }\n",
       "\n",
       "    .dataframe tbody tr th {\n",
       "        vertical-align: top;\n",
       "    }\n",
       "\n",
       "    .dataframe thead th {\n",
       "        text-align: right;\n",
       "    }\n",
       "</style>\n",
       "<table border=\"1\" class=\"dataframe\">\n",
       "  <thead>\n",
       "    <tr style=\"text-align: right;\">\n",
       "      <th></th>\n",
       "      <th>timestamp</th>\n",
       "      <th>tone_1</th>\n",
       "      <th>tone_2</th>\n",
       "      <th>tone_3</th>\n",
       "      <th>tone_4</th>\n",
       "      <th>tone_5</th>\n",
       "      <th>tone_6</th>\n",
       "      <th>tone_7</th>\n",
       "      <th>Price</th>\n",
       "      <th>Open</th>\n",
       "      <th>High</th>\n",
       "      <th>Low</th>\n",
       "      <th>Vol.</th>\n",
       "      <th>Change %</th>\n",
       "    </tr>\n",
       "  </thead>\n",
       "  <tbody>\n",
       "    <tr>\n",
       "      <th>0</th>\n",
       "      <td>2016-01-01</td>\n",
       "      <td>-1.343669</td>\n",
       "      <td>2.655836</td>\n",
       "      <td>3.999505</td>\n",
       "      <td>6.655342</td>\n",
       "      <td>21.979880</td>\n",
       "      <td>0.775952</td>\n",
       "      <td>607.957274</td>\n",
       "      <td>434.0</td>\n",
       "      <td>429.0</td>\n",
       "      <td>436.5</td>\n",
       "      <td>426.3</td>\n",
       "      <td>12.97</td>\n",
       "      <td>1.16</td>\n",
       "    </tr>\n",
       "    <tr>\n",
       "      <th>1</th>\n",
       "      <td>2016-01-02</td>\n",
       "      <td>-1.244109</td>\n",
       "      <td>2.645901</td>\n",
       "      <td>3.890009</td>\n",
       "      <td>6.535910</td>\n",
       "      <td>22.072250</td>\n",
       "      <td>0.821951</td>\n",
       "      <td>605.368377</td>\n",
       "      <td>432.7</td>\n",
       "      <td>434.0</td>\n",
       "      <td>435.8</td>\n",
       "      <td>430.0</td>\n",
       "      <td>6.38</td>\n",
       "      <td>-0.29</td>\n",
       "    </tr>\n",
       "    <tr>\n",
       "      <th>2</th>\n",
       "      <td>2016-01-03</td>\n",
       "      <td>-1.431284</td>\n",
       "      <td>2.522918</td>\n",
       "      <td>3.954202</td>\n",
       "      <td>6.477120</td>\n",
       "      <td>21.925045</td>\n",
       "      <td>0.843433</td>\n",
       "      <td>617.556213</td>\n",
       "      <td>428.7</td>\n",
       "      <td>432.7</td>\n",
       "      <td>433.1</td>\n",
       "      <td>422.0</td>\n",
       "      <td>19.18</td>\n",
       "      <td>-0.93</td>\n",
       "    </tr>\n",
       "    <tr>\n",
       "      <th>3</th>\n",
       "      <td>2016-01-04</td>\n",
       "      <td>-1.526447</td>\n",
       "      <td>2.471740</td>\n",
       "      <td>3.998187</td>\n",
       "      <td>6.469927</td>\n",
       "      <td>21.797835</td>\n",
       "      <td>0.768344</td>\n",
       "      <td>553.286337</td>\n",
       "      <td>432.9</td>\n",
       "      <td>428.6</td>\n",
       "      <td>435.7</td>\n",
       "      <td>427.0</td>\n",
       "      <td>13.02</td>\n",
       "      <td>0.99</td>\n",
       "    </tr>\n",
       "    <tr>\n",
       "      <th>4</th>\n",
       "      <td>2016-01-05</td>\n",
       "      <td>-1.598543</td>\n",
       "      <td>2.436420</td>\n",
       "      <td>4.034963</td>\n",
       "      <td>6.471383</td>\n",
       "      <td>22.078865</td>\n",
       "      <td>0.735785</td>\n",
       "      <td>538.866279</td>\n",
       "      <td>431.8</td>\n",
       "      <td>432.9</td>\n",
       "      <td>434.9</td>\n",
       "      <td>428.2</td>\n",
       "      <td>11.22</td>\n",
       "      <td>-0.24</td>\n",
       "    </tr>\n",
       "  </tbody>\n",
       "</table>\n",
       "</div>"
      ],
      "text/plain": [
       "   timestamp    tone_1    tone_2    tone_3    tone_4     tone_5    tone_6  \\\n",
       "0 2016-01-01 -1.343669  2.655836  3.999505  6.655342  21.979880  0.775952   \n",
       "1 2016-01-02 -1.244109  2.645901  3.890009  6.535910  22.072250  0.821951   \n",
       "2 2016-01-03 -1.431284  2.522918  3.954202  6.477120  21.925045  0.843433   \n",
       "3 2016-01-04 -1.526447  2.471740  3.998187  6.469927  21.797835  0.768344   \n",
       "4 2016-01-05 -1.598543  2.436420  4.034963  6.471383  22.078865  0.735785   \n",
       "\n",
       "       tone_7  Price   Open   High    Low   Vol.  Change %  \n",
       "0  607.957274  434.0  429.0  436.5  426.3  12.97      1.16  \n",
       "1  605.368377  432.7  434.0  435.8  430.0   6.38     -0.29  \n",
       "2  617.556213  428.7  432.7  433.1  422.0  19.18     -0.93  \n",
       "3  553.286337  432.9  428.6  435.7  427.0  13.02      0.99  \n",
       "4  538.866279  431.8  432.9  434.9  428.2  11.22     -0.24  "
      ]
     },
     "execution_count": 2,
     "metadata": {},
     "output_type": "execute_result"
    }
   ],
   "source": [
    "# load the data\n",
    "df = pd.read_csv('./preprocessed/df_unscaled.csv', parse_dates=['timestamp'],\n",
    "                 index_col=[0]).sort_values(by='timestamp')\n",
    "\n",
    "df.head()"
   ]
  },
  {
   "cell_type": "code",
   "execution_count": 3,
   "metadata": {
    "ExecuteTime": {
     "end_time": "2021-01-25T06:40:08.674363Z",
     "start_time": "2021-01-25T06:40:08.656738Z"
    }
   },
   "outputs": [
    {
     "name": "stdout",
     "output_type": "stream",
     "text": [
      "<class 'pandas.core.frame.DataFrame'>\n",
      "Int64Index: 1201 entries, 0 to 1200\n",
      "Data columns (total 14 columns):\n",
      " #   Column     Non-Null Count  Dtype         \n",
      "---  ------     --------------  -----         \n",
      " 0   timestamp  1201 non-null   datetime64[ns]\n",
      " 1   tone_1     1201 non-null   float64       \n",
      " 2   tone_2     1201 non-null   float64       \n",
      " 3   tone_3     1201 non-null   float64       \n",
      " 4   tone_4     1201 non-null   float64       \n",
      " 5   tone_5     1201 non-null   float64       \n",
      " 6   tone_6     1201 non-null   float64       \n",
      " 7   tone_7     1201 non-null   float64       \n",
      " 8   Price      1201 non-null   float64       \n",
      " 9   Open       1201 non-null   float64       \n",
      " 10  High       1201 non-null   float64       \n",
      " 11  Low        1201 non-null   float64       \n",
      " 12  Vol.       1201 non-null   float64       \n",
      " 13  Change %   1201 non-null   float64       \n",
      "dtypes: datetime64[ns](1), float64(13)\n",
      "memory usage: 140.7 KB\n"
     ]
    }
   ],
   "source": [
    "df.info()"
   ]
  },
  {
   "cell_type": "markdown",
   "metadata": {},
   "source": [
    "#### Percent Change"
   ]
  },
  {
   "cell_type": "code",
   "execution_count": 4,
   "metadata": {
    "ExecuteTime": {
     "end_time": "2021-01-25T06:40:10.654940Z",
     "start_time": "2021-01-25T06:40:10.342042Z"
    }
   },
   "outputs": [
    {
     "data": {
      "image/png": "[encoded data removed]",
      "text/plain": [
       "<Figure size 1440x720 with 1 Axes>"
      ]
     },
     "metadata": {
      "needs_background": "light"
     },
     "output_type": "display_data"
    }
   ],
   "source": [
    "# percent change beahviour\n",
    "fig, ax = plt.subplots(figsize=(20,10))\n",
    "plt.plot(df.timestamp[:], df['Change %'][:], 'b-', label='Change %')\n",
    "plt.title('Figure 3. Percent Change of Bitcoin Prices')\n",
    "plt.xlabel('Date')\n",
    "plt.ylabel('Percent')\n",
    "plt.show()"
   ]
  },
  {
   "cell_type": "markdown",
   "metadata": {},
   "source": [
    "Referring to Figure 3, it shows how volatile is the change of Bitcoin. Through visual observation, we may conclude that there is no obvious pattern that can be derived from the data. This observed volatility is a challenge in this project's objective of forecasting bitcoin prices."
   ]
  },
  {
   "cell_type": "markdown",
   "metadata": {},
   "source": [
    "#### Price Change"
   ]
  },
  {
   "cell_type": "code",
   "execution_count": 5,
   "metadata": {
    "ExecuteTime": {
     "end_time": "2021-01-25T06:40:13.294739Z",
     "start_time": "2021-01-25T06:40:12.991574Z"
    }
   },
   "outputs": [
    {
     "data": {
      "image/png": "[encoded data removed]",
      "text/plain": [
       "<Figure size 1440x720 with 1 Axes>"
      ]
     },
     "metadata": {
      "needs_background": "light"
     },
     "output_type": "display_data"
    }
   ],
   "source": [
    "fig, ax = plt.subplots(figsize=(20,10))\n",
    "plt.plot(df.timestamp[:], df['Price'][:], 'r-', label='Change %')\n",
    "plt.title('Figure 4. Bitcoin Prices')\n",
    "plt.xlabel('Date')\n",
    "plt.ylabel('Value')\n",
    "plt.show()"
   ]
  },
  {
   "cell_type": "markdown",
   "metadata": {},
   "source": [
    "Figure 4 shows that bitcoin is bullish on the last quarter of 2017 up to the first quarter of 2018. However, the prices started to crash on the same quarter, demonstrating the volatility of cryptocurrency."
   ]
  },
  {
   "cell_type": "markdown",
   "metadata": {},
   "source": [
    "#### Baseline Machine Learning Model"
   ]
  },
  {
   "cell_type": "markdown",
   "metadata": {},
   "source": [
    "**ARIMA** or Autoregressive integrated moving average is used as the baseline for this project for two primary reasons: first, it is the most basic forecasting model that is commonly used in some published papers and second, it predicts the next value by simply taking note of the values in the last timesteps with no regard to other features."
   ]
  },
  {
   "cell_type": "markdown",
   "metadata": {
    "heading_collapsed": true
   },
   "source": [
    "##### Data Preparation"
   ]
  },
  {
   "cell_type": "code",
   "execution_count": 6,
   "metadata": {
    "ExecuteTime": {
     "end_time": "2021-01-25T06:41:33.930195Z",
     "start_time": "2021-01-25T06:41:33.904512Z"
    },
    "hidden": true
   },
   "outputs": [
    {
     "data": {
      "text/html": [
       "<div>\n",
       "<style scoped>\n",
       "    .dataframe tbody tr th:only-of-type {\n",
       "        vertical-align: middle;\n",
       "    }\n",
       "\n",
       "    .dataframe tbody tr th {\n",
       "        vertical-align: top;\n",
       "    }\n",
       "\n",
       "    .dataframe thead th {\n",
       "        text-align: right;\n",
       "    }\n",
       "</style>\n",
       "<table border=\"1\" class=\"dataframe\">\n",
       "  <thead>\n",
       "    <tr style=\"text-align: right;\">\n",
       "      <th></th>\n",
       "      <th>tone_1</th>\n",
       "      <th>tone_2</th>\n",
       "      <th>tone_3</th>\n",
       "      <th>tone_4</th>\n",
       "      <th>tone_5</th>\n",
       "      <th>tone_6</th>\n",
       "      <th>tone_7</th>\n",
       "      <th>Price</th>\n",
       "      <th>Open</th>\n",
       "      <th>High</th>\n",
       "      <th>Low</th>\n",
       "      <th>Vol.</th>\n",
       "    </tr>\n",
       "  </thead>\n",
       "  <tbody>\n",
       "    <tr>\n",
       "      <th>0</th>\n",
       "      <td>-1.244109</td>\n",
       "      <td>2.645901</td>\n",
       "      <td>3.890009</td>\n",
       "      <td>6.535910</td>\n",
       "      <td>22.072250</td>\n",
       "      <td>0.821951</td>\n",
       "      <td>605.368377</td>\n",
       "      <td>432.7</td>\n",
       "      <td>434.0</td>\n",
       "      <td>435.8</td>\n",
       "      <td>430.0</td>\n",
       "      <td>6.38</td>\n",
       "    </tr>\n",
       "    <tr>\n",
       "      <th>1</th>\n",
       "      <td>-1.431284</td>\n",
       "      <td>2.522918</td>\n",
       "      <td>3.954202</td>\n",
       "      <td>6.477120</td>\n",
       "      <td>21.925045</td>\n",
       "      <td>0.843433</td>\n",
       "      <td>617.556213</td>\n",
       "      <td>428.7</td>\n",
       "      <td>432.7</td>\n",
       "      <td>433.1</td>\n",
       "      <td>422.0</td>\n",
       "      <td>19.18</td>\n",
       "    </tr>\n",
       "    <tr>\n",
       "      <th>2</th>\n",
       "      <td>-1.526447</td>\n",
       "      <td>2.471740</td>\n",
       "      <td>3.998187</td>\n",
       "      <td>6.469927</td>\n",
       "      <td>21.797835</td>\n",
       "      <td>0.768344</td>\n",
       "      <td>553.286337</td>\n",
       "      <td>432.9</td>\n",
       "      <td>428.6</td>\n",
       "      <td>435.7</td>\n",
       "      <td>427.0</td>\n",
       "      <td>13.02</td>\n",
       "    </tr>\n",
       "    <tr>\n",
       "      <th>3</th>\n",
       "      <td>-1.598543</td>\n",
       "      <td>2.436420</td>\n",
       "      <td>4.034963</td>\n",
       "      <td>6.471383</td>\n",
       "      <td>22.078865</td>\n",
       "      <td>0.735785</td>\n",
       "      <td>538.866279</td>\n",
       "      <td>431.8</td>\n",
       "      <td>432.9</td>\n",
       "      <td>434.9</td>\n",
       "      <td>428.2</td>\n",
       "      <td>11.22</td>\n",
       "    </tr>\n",
       "    <tr>\n",
       "      <th>4</th>\n",
       "      <td>-1.345954</td>\n",
       "      <td>2.521682</td>\n",
       "      <td>3.867636</td>\n",
       "      <td>6.389318</td>\n",
       "      <td>21.879311</td>\n",
       "      <td>0.758728</td>\n",
       "      <td>544.369746</td>\n",
       "      <td>428.0</td>\n",
       "      <td>431.8</td>\n",
       "      <td>432.2</td>\n",
       "      <td>425.0</td>\n",
       "      <td>8.74</td>\n",
       "    </tr>\n",
       "  </tbody>\n",
       "</table>\n",
       "</div>"
      ],
      "text/plain": [
       "     tone_1    tone_2    tone_3    tone_4     tone_5    tone_6      tone_7  \\\n",
       "0 -1.244109  2.645901  3.890009  6.535910  22.072250  0.821951  605.368377   \n",
       "1 -1.431284  2.522918  3.954202  6.477120  21.925045  0.843433  617.556213   \n",
       "2 -1.526447  2.471740  3.998187  6.469927  21.797835  0.768344  553.286337   \n",
       "3 -1.598543  2.436420  4.034963  6.471383  22.078865  0.735785  538.866279   \n",
       "4 -1.345954  2.521682  3.867636  6.389318  21.879311  0.758728  544.369746   \n",
       "\n",
       "   Price   Open   High    Low   Vol.  \n",
       "0  432.7  434.0  435.8  430.0   6.38  \n",
       "1  428.7  432.7  433.1  422.0  19.18  \n",
       "2  432.9  428.6  435.7  427.0  13.02  \n",
       "3  431.8  432.9  434.9  428.2  11.22  \n",
       "4  428.0  431.8  432.2  425.0   8.74  "
      ]
     },
     "execution_count": 6,
     "metadata": {},
     "output_type": "execute_result"
    }
   ],
   "source": [
    "# preparing the data\n",
    "# align prices tomorrow to sentiments/tone of today\n",
    "df1_feat_1 = df[1:].loc[:, 'tone_1':'Vol.'].reset_index(drop=True)\n",
    "df1_feat_1.head()"
   ]
  },
  {
   "cell_type": "code",
   "execution_count": 7,
   "metadata": {
    "ExecuteTime": {
     "end_time": "2021-01-25T06:41:42.574609Z",
     "start_time": "2021-01-25T06:41:42.563138Z"
    },
    "hidden": true
   },
   "outputs": [],
   "source": [
    "df1_time = df[:-1]['timestamp'].to_frame().reset_index(drop=True)\n",
    "df2 = pd.concat([df1_time, df1_feat_1, df[1:]['Change %'].reset_index(drop=True)],\n",
    "                axis=1)\n",
    "\n",
    "# drop unneccesasry ccolumn\n",
    "df2 = df2.drop(['tone_2', 'tone_3'], axis=1)"
   ]
  },
  {
   "cell_type": "code",
   "execution_count": 8,
   "metadata": {
    "ExecuteTime": {
     "end_time": "2021-01-25T06:41:43.779679Z",
     "start_time": "2021-01-25T06:41:43.773966Z"
    },
    "hidden": true
   },
   "outputs": [],
   "source": [
    "# split data\n",
    "series = df2['Price']\n",
    "\n",
    "split_point = round(len(series)*.70)\n",
    "dataset, val = series[0:split_point], series[split_point:]"
   ]
  },
  {
   "cell_type": "markdown",
   "metadata": {
    "heading_collapsed": true
   },
   "source": [
    "##### Build ARIMA Model"
   ]
  },
  {
   "cell_type": "code",
   "execution_count": 9,
   "metadata": {
    "ExecuteTime": {
     "end_time": "2021-01-25T06:41:53.034848Z",
     "start_time": "2021-01-25T06:41:52.001271Z"
    },
    "hidden": true
   },
   "outputs": [
    {
     "name": "stdout",
     "output_type": "stream",
     "text": [
      "ADF Statistic: -4.554540\n",
      "p-value: 0.000157\n",
      "Critical Values:\n",
      "\t1%: -3.438\n",
      "\t5%: -2.865\n",
      "\t10%: -2.569\n"
     ]
    },
    {
     "data": {
      "image/png": "[encoded data removed]",
      "text/plain": [
       "<Figure size 432x288 with 1 Axes>"
      ]
     },
     "metadata": {
      "needs_background": "light"
     },
     "output_type": "display_data"
    }
   ],
   "source": [
    "# create a differenced series\n",
    "def difference(dataset, interval=1):\n",
    "    diff = list()\n",
    "    for i in range(interval, len(dataset)):\n",
    "        value = dataset[i] - dataset[i - interval]\n",
    "        diff.append(value)\n",
    "    return Series(diff)\n",
    " \n",
    "series = dataset\n",
    "X = series.values\n",
    "X = X.astype('float32')\n",
    "# difference data\n",
    "days_in_week = 7\n",
    "stationary = difference(X, days_in_week)\n",
    "stationary.index = series.index[days_in_week:]\n",
    "\n",
    "# check if stationary\n",
    "result = adfuller(stationary)\n",
    "print('ADF Statistic: %f' % result[0])\n",
    "print('p-value: %f' % result[1])\n",
    "#p < \\alpha reject the null hypothesis (system has no unit root = stationary)\n",
    "print('Critical Values:')\n",
    "for key, value in result[4].items():\n",
    "    print('\\t%s: %.3f' % (key, value))\n",
    "# save\n",
    "stationary.to_csv('stationary.csv')\n",
    "# plot\n",
    "stationary.plot()\n",
    "pyplot.show()"
   ]
  },
  {
   "cell_type": "markdown",
   "metadata": {
    "heading_collapsed": true
   },
   "source": [
    "##### Parameter Tuning"
   ]
  },
  {
   "cell_type": "code",
   "execution_count": 10,
   "metadata": {
    "ExecuteTime": {
     "end_time": "2021-01-25T06:46:11.410626Z",
     "start_time": "2021-01-25T06:42:03.755842Z"
    },
    "hidden": true
   },
   "outputs": [
    {
     "name": "stdout",
     "output_type": "stream",
     "text": [
      "Estimation requires the inclusion of least one AR term, MA term, a constant or an exogenous variable.\n",
      "ARIMA(0, 0, 1) RMSE=1099.965\n",
      "Estimation requires the inclusion of least one AR term, MA term, a constant or an exogenous variable.\n",
      "ARIMA(0, 1, 1) RMSE=719.935\n",
      "ARIMA(1, 0, 0) RMSE=704.619\n",
      "The computed initial AR coefficients are not stationary\n",
      "You should induce stationarity, choose a different model order, or you can\n",
      "pass your own start_params.\n",
      "ARIMA(1, 1, 0) RMSE=720.632\n",
      "ARIMA(1, 1, 1) RMSE=719.675\n",
      "Best ARIMA(1, 0, 0) RMSE=704.619\n"
     ]
    }
   ],
   "source": [
    "def difference(dataset, interval=1):\n",
    "    \"\"\"compute for difference value\"\"\"\n",
    "    diff = list()\n",
    "    for i in range(interval, len(dataset)):\n",
    "        value = dataset[i] - dataset[i - interval]\n",
    "        diff.append(value)\n",
    "    return numpy.array(diff)\n",
    "\n",
    "\n",
    "def inverse_difference(history, yhat, interval=1):\n",
    "    \"\"\"invert differenced value\"\"\"\n",
    "    return yhat + history[-interval]\n",
    "\n",
    "\n",
    "def evaluate_arima_model(X, arima_order):\n",
    "    \"\"\"prepare training dataset\"\"\"\n",
    "    X = X.astype('float32')\n",
    "    train_size = int(len(X) * 0.50)\n",
    "    train, test = X[0:train_size], X[train_size:]\n",
    "    history = [x for x in train]\n",
    "    # make predictions\n",
    "    predictions = list()\n",
    "    for t in range(len(test)):\n",
    "        # difference data\n",
    "        months_in_year = 12\n",
    "        diff = difference(history, months_in_year)\n",
    "        model = ARIMA(diff, order=arima_order)\n",
    "        model_fit = model.fit(trend='nc', disp=0)\n",
    "        yhat = model_fit.forecast()[0]\n",
    "        yhat = inverse_difference(history, yhat, months_in_year)\n",
    "        predictions.append(yhat)\n",
    "        history.append(test[t])\n",
    "    # calculate out of sample error\n",
    "    mse = mean_squared_error(test, predictions)\n",
    "    rmse = sqrt(mse)\n",
    "    return rmse\n",
    "\n",
    "\n",
    "def evaluate_models(dataset, p_values, d_values, q_values):\n",
    "    \"\"\"evaluate combinations of p, d and q values for an ARIMA model\"\"\"\n",
    "    dataset = dataset.astype('float32')\n",
    "    best_score, best_cfg = float(\"inf\"), None\n",
    "    for p in p_values:\n",
    "        for d in d_values:\n",
    "            for q in q_values:\n",
    "                order = (p, d, q)\n",
    "                try:\n",
    "                    mse = evaluate_arima_model(dataset, order)\n",
    "                    if mse < best_score:\n",
    "                        best_score, best_cfg = mse, order\n",
    "                    print('ARIMA%s RMSE=%.3f' % (order, mse))\n",
    "                except Exception as e:\n",
    "                    print(e)\n",
    "    print('Best ARIMA%s RMSE=%.3f' % (best_cfg, best_score))\n",
    "\n",
    "\n",
    "# load dataset\n",
    "series = dataset\n",
    "#series = Series.from_csv('dataset.csv')\n",
    "# evaluate parameters\n",
    "p_values = range(0, 2)\n",
    "d_values = range(0, 2)\n",
    "q_values = range(0, 2)\n",
    "warnings.filterwarnings(\"ignore\")\n",
    "evaluate_models(series.values, p_values, d_values, q_values)"
   ]
  },
  {
   "cell_type": "markdown",
   "metadata": {
    "heading_collapsed": true
   },
   "source": [
    "##### Create optimal ARIMA model"
   ]
  },
  {
   "cell_type": "code",
   "execution_count": 11,
   "metadata": {
    "ExecuteTime": {
     "end_time": "2021-01-25T06:48:26.282261Z",
     "start_time": "2021-01-25T06:48:26.247795Z"
    },
    "hidden": true
   },
   "outputs": [],
   "source": [
    "# monkey patch around bug in ARIMA class\n",
    "def __getnewargs__(self):\n",
    "    return ((self.endog),(self.k_lags, self.k_diff, self.k_ma))\n",
    "\n",
    "ARIMA.__getnewargs__ = __getnewargs__\n",
    "\n",
    "# create a differenced series\n",
    "def difference(dataset, interval=1):\n",
    "    diff = list()\n",
    "    for i in range(interval, len(dataset)):\n",
    "        value = dataset[i] - dataset[i - interval]\n",
    "        diff.append(value)\n",
    "    return diff\n",
    "\n",
    "# load data\n",
    "series = dataset\n",
    "# prepare data\n",
    "X = series.values\n",
    "X = X.astype('float32')\n",
    "# difference data\n",
    "months_in_year = 12\n",
    "diff = difference(X, months_in_year)\n",
    "# fit model\n",
    "model = ARIMA(diff, order=(1, 0, 0))\n",
    "model_fit = model.fit(trend='nc', disp=0)\n",
    "# save model\n",
    "model_fit.save('model.pkl')\n",
    "# numpy.save('model_bias.npy', [bias])"
   ]
  },
  {
   "cell_type": "markdown",
   "metadata": {},
   "source": [
    "##### ARIMA Model Validation"
   ]
  },
  {
   "cell_type": "code",
   "execution_count": 12,
   "metadata": {
    "ExecuteTime": {
     "end_time": "2021-01-25T06:49:32.557797Z",
     "start_time": "2021-01-25T06:49:26.973860Z"
    }
   },
   "outputs": [
    {
     "name": "stdout",
     "output_type": "stream",
     "text": [
      ">Predicted=8822.454, Expected=8800\n",
      ">Predicted=8747.800, Expected=8940\n",
      ">Predicted=9750.574, Expected=9644\n",
      ">Predicted=9480.579, Expected=8878\n",
      ">Predicted=8915.893, Expected=9279\n",
      ">Predicted=9528.467, Expected=8920\n",
      ">Predicted=8576.635, Expected=9345\n",
      ">Predicted=9075.628, Expected=9399\n",
      ">Predicted=9554.477, Expected=9240\n",
      ">Predicted=9260.358, Expected=9067\n",
      ">Predicted=9596.463, Expected=9236\n",
      ">Predicted=9259.560, Expected=9762\n",
      ">Predicted=9575.180, Expected=9703\n",
      ">Predicted=9770.241, Expected=9860\n",
      ">Predicted=10490.146, Expected=9659\n",
      ">Predicted=8891.544, Expected=9370\n",
      ">Predicted=9731.148, Expected=9185\n",
      ">Predicted=8833.168, Expected=9318\n",
      ">Predicted=9711.119, Expected=9019\n",
      ">Predicted=9098.549, Expected=8412\n",
      ">Predicted=8333.811, Expected=8463\n",
      ">Predicted=8352.833, Expected=8684\n",
      ">Predicted=8884.211, Expected=8671\n",
      ">Predicted=9242.508, Expected=8468\n",
      ">Predicted=8513.102, Expected=8336\n",
      ">Predicted=8603.416, Expected=8052\n",
      ">Predicted=7996.104, Expected=8239\n",
      ">Predicted=8064.778, Expected=8232\n",
      ">Predicted=8138.932, Expected=8524\n",
      ">Predicted=8710.820, Expected=8393\n",
      ">Predicted=8168.779, Expected=7977\n",
      ">Predicted=7455.186, Expected=7495\n",
      ">Predicted=7619.304, Expected=7577\n",
      ">Predicted=7869.223, Expected=7458\n",
      ">Predicted=7543.956, Expected=7330\n",
      ">Predicted=7234.763, Expected=7340\n",
      ">Predicted=7299.075, Expected=7098\n",
      ">Predicted=6913.060, Expected=7460\n",
      ">Predicted=7695.023, Expected=7375\n",
      ">Predicted=7438.093, Expected=7486\n",
      ">Predicted=7837.444, Expected=7521\n",
      ">Predicted=7471.450, Expected=7638\n",
      ">Predicted=7282.915, Expected=7718\n",
      ">Predicted=7256.473, Expected=7488\n",
      ">Predicted=7570.726, Expected=7622\n",
      ">Predicted=7499.358, Expected=7654\n",
      ">Predicted=7510.440, Expected=7689\n",
      ">Predicted=7669.292, Expected=7615\n",
      ">Predicted=7351.019, Expected=7499\n",
      ">Predicted=7828.294, Expected=6757\n",
      ">Predicted=6729.448, Expected=6873\n",
      ">Predicted=7024.773, Expected=6544\n",
      ">Predicted=6655.473, Expected=6295\n",
      ">Predicted=6511.397, Expected=6634\n",
      ">Predicted=6794.904, Expected=6385\n",
      ">Predicted=6262.814, Expected=6486\n",
      ">Predicted=6700.359, Expected=6436\n",
      ">Predicted=6563.683, Expected=6709\n",
      ">Predicted=6820.438, Expected=6738\n",
      ">Predicted=6740.517, Expected=6760\n",
      ">Predicted=6712.920, Expected=6714\n",
      ">Predicted=6035.598, Expected=6043\n",
      ">Predicted=6216.316, Expected=6152\n",
      ">Predicted=5880.825, Expected=6148\n",
      ">Predicted=5931.311, Expected=6247\n",
      ">Predicted=6589.034, Expected=6078\n",
      ">Predicted=5874.730, Expected=6133\n",
      ">Predicted=6254.411, Expected=5850\n",
      ">Predicted=5851.279, Expected=6208\n",
      ">Predicted=6500.062, Expected=6392\n",
      ">Predicted=6445.564, Expected=6350\n",
      ">Predicted=6404.040, Expected=6581\n",
      ">Predicted=6548.929, Expected=6500\n",
      ">Predicted=5846.418, Expected=6590\n",
      ">Predicted=6654.937, Expected=6540\n",
      ">Predicted=6504.652, Expected=6602\n",
      ">Predicted=6663.809, Expected=6762\n",
      ">Predicted=6551.769, Expected=6707\n",
      ">Predicted=6710.596, Expected=6667\n",
      ">Predicted=6340.288, Expected=6302\n",
      ">Predicted=6622.946, Expected=6378\n",
      ">Predicted=6547.410, Expected=6249\n",
      ">Predicted=6218.785, Expected=6220\n",
      ">Predicted=6462.144, Expected=6250\n",
      ">Predicted=6195.718, Expected=6347\n",
      ">Predicted=6449.624, Expected=6729\n",
      ">Predicted=6668.078, Expected=7320\n",
      ">Predicted=7318.338, Expected=7379\n",
      ">Predicted=7475.852, Expected=7474\n",
      ">Predicted=7360.973, Expected=7333\n",
      ">Predicted=7241.927, Expected=7403\n",
      ">Predicted=6978.301, Expected=7400\n",
      ">Predicted=7387.821, Expected=7720\n",
      ">Predicted=7482.691, Expected=8394\n",
      ">Predicted=8194.173, Expected=8176\n",
      ">Predicted=8049.855, Expected=7939\n",
      ">Predicted=7900.938, Expected=8186\n",
      ">Predicted=8421.180, Expected=8246\n",
      ">Predicted=8715.750, Expected=8221\n",
      ">Predicted=8208.111, Expected=8180\n",
      ">Predicted=8209.322, Expected=7731\n",
      ">Predicted=7569.448, Expected=7609\n",
      ">Predicted=7656.748, Expected=7535\n",
      ">Predicted=7521.752, Expected=7420\n",
      ">Predicted=7737.725, Expected=7013\n",
      ">Predicted=7744.959, Expected=7026\n",
      ">Predicted=6917.345, Expected=6941\n",
      ">Predicted=6803.598, Expected=6720\n",
      ">Predicted=7065.108, Expected=6279\n",
      ">Predicted=6491.836, Expected=6529\n",
      ">Predicted=6640.640, Expected=6147\n",
      ">Predicted=6269.595, Expected=6233\n",
      ">Predicted=5937.714, Expected=6314\n",
      ">Predicted=6304.877, Expected=6252\n",
      ">Predicted=6286.247, Expected=6189\n",
      ">Predicted=6180.773, Expected=6270\n",
      ">Predicted=5954.768, Expected=6314\n",
      ">Predicted=6382.412, Expected=6583\n",
      ">Predicted=6534.163, Expected=6391\n",
      ">Predicted=6214.339, Expected=6485\n",
      ">Predicted=6062.626, Expected=6256\n",
      ">Predicted=6507.664, Expected=6479\n",
      ">Predicted=6100.800, Expected=6355\n",
      ">Predicted=6424.150, Expected=6527\n",
      ">Predicted=6584.841, Expected=6696\n",
      ">Predicted=6603.350, Expected=6733\n",
      ">Predicted=6631.550, Expected=6708\n",
      ">Predicted=6747.994, Expected=6910\n",
      ">Predicted=6902.341, Expected=7080\n",
      ">Predicted=7287.915, Expected=7046\n",
      ">Predicted=6816.654, Expected=6995\n",
      ">Predicted=7040.414, Expected=7026\n",
      ">Predicted=6753.517, Expected=7198\n",
      ">Predicted=7345.667, Expected=7290\n",
      ">Predicted=7101.522, Expected=7268\n",
      ">Predicted=7367.591, Expected=7359\n",
      ">Predicted=7461.369, Expected=6710\n",
      ">Predicted=6746.331, Expected=6516\n",
      ">Predicted=6508.497, Expected=6404\n",
      ">Predicted=6629.557, Expected=6185\n",
      ">Predicted=6413.124, Expected=6240\n",
      ">Predicted=6272.970, Expected=6308\n",
      ">Predicted=6315.930, Expected=6291\n",
      ">Predicted=6378.220, Expected=6332\n",
      ">Predicted=6559.006, Expected=6476\n",
      ">Predicted=6626.113, Expected=6485\n",
      ">Predicted=6526.821, Expected=6514\n",
      ">Predicted=6664.648, Expected=6498\n",
      ">Predicted=5918.626, Expected=6254\n",
      ">Predicted=6095.730, Expected=6343\n",
      ">Predicted=6245.109, Expected=6391\n",
      ">Predicted=6172.855, Expected=6500\n",
      ">Predicted=6530.181, Expected=6763\n",
      ">Predicted=6789.038, Expected=6723\n",
      ">Predicted=6672.640, Expected=6710\n",
      ">Predicted=6717.709, Expected=6585\n",
      ">Predicted=6708.378, Expected=6435\n",
      ">Predicted=6447.371, Expected=6462\n",
      ">Predicted=6492.807, Expected=6692\n",
      ">Predicted=6663.092, Expected=6635\n",
      ">Predicted=6379.875, Expected=6605\n",
      ">Predicted=6665.182, Expected=6618\n",
      ">Predicted=6644.185, Expected=6602\n",
      ">Predicted=6694.625, Expected=6533\n",
      ">Predicted=6792.876, Expected=6503\n",
      ">Predicted=6484.261, Expected=6580\n",
      ">Predicted=6578.535, Expected=6645\n",
      ">Predicted=6524.926, Expected=6592\n",
      ">Predicted=6441.140, Expected=6601\n",
      ">Predicted=6615.392, Expected=6673\n",
      ">Predicted=6886.433, Expected=6663\n",
      ">Predicted=6607.962, Expected=6630\n",
      ">Predicted=6600.092, Expected=6252\n",
      ">Predicted=6293.724, Expected=6293\n",
      ">Predicted=6303.007, Expected=6326\n",
      ">Predicted=6279.946, Expected=6335\n",
      ">Predicted=6320.960, Expected=6742\n",
      ">Predicted=6799.768, Expected=6754\n",
      ">Predicted=6804.759, Expected=6737\n",
      ">Predicted=6676.996, Expected=6613\n",
      ">Predicted=6620.317, Expected=6527\n",
      ">Predicted=6605.406, Expected=6587\n",
      ">Predicted=6583.431, Expected=6592\n",
      ">Predicted=6564.522, Expected=6567\n",
      ">Predicted=6194.048, Expected=6550\n",
      ">Predicted=6567.317, Expected=6554\n",
      ">Predicted=6566.490, Expected=6528\n",
      ">Predicted=6520.642, Expected=6532\n",
      ">Predicted=6922.567, Expected=6500\n",
      ">Predicted=6531.694, Expected=6490\n",
      ">Predicted=6494.272, Expected=6344\n",
      ">Predicted=6251.415, Expected=6330\n",
      ">Predicted=6267.085, Expected=6368\n",
      ">Predicted=6440.545, Expected=6400\n",
      ">Predicted=6419.598, Expected=6427\n",
      ">Predicted=6415.709, Expected=6388\n",
      ">Predicted=6385.079, Expected=6485\n",
      ">Predicted=6494.498, Expected=6470\n",
      ">Predicted=6450.838, Expected=6515\n",
      ">Predicted=6519.635, Expected=6573\n",
      ">Predicted=6538.096, Expected=6480\n",
      ">Predicted=6471.152, Expected=6420\n",
      ">Predicted=6279.707, Expected=6431\n",
      ">Predicted=6410.213, Expected=6450\n",
      ">Predicted=6478.682, Expected=6447\n",
      ">Predicted=6471.903, Expected=6464\n",
      ">Predicted=6486.410, Expected=5885\n",
      ">Predicted=5889.115, Expected=5753\n",
      ">Predicted=5901.581, Expected=5660\n",
      ">Predicted=5711.448, Expected=5627\n",
      ">Predicted=5739.306, Expected=5659\n",
      ">Predicted=5785.358, Expected=4938\n",
      ">Predicted=4974.966, Expected=4600\n",
      ">Predicted=4689.367, Expected=4667\n",
      ">Predicted=4816.156, Expected=4392\n",
      ">Predicted=4571.489, Expected=4423\n",
      ">Predicted=4578.484, Expected=3930\n",
      ">Predicted=4142.380, Expected=4088\n",
      ">Predicted=3691.973, Expected=3858\n",
      ">Predicted=3884.203, Expected=3884\n",
      ">Predicted=3936.662, Expected=4306\n",
      ">Predicted=4378.290, Expected=4313\n",
      ">Predicted=4448.156, Expected=4038\n",
      ">Predicted=3442.975, Expected=4243\n",
      ">Predicted=3959.604, Expected=4160\n",
      ">Predicted=4260.836, Expected=3901\n",
      ">Predicted=3687.116, Expected=3982\n",
      ">Predicted=4044.502, Expected=3765\n",
      ">Predicted=3324.081, Expected=3531\n",
      ">Predicted=3720.663, Expected=3460\n",
      ">Predicted=3279.566, Expected=3506\n",
      ">Predicted=3560.111, Expected=3640\n",
      ">Predicted=4080.776, Expected=3525\n",
      ">Predicted=3592.961, Expected=3435\n",
      ">Predicted=3229.657, Expected=3536\n",
      ">Predicted=3779.887, Expected=3354\n",
      ">Predicted=3340.952, Expected=3283\n",
      ">Predicted=3093.202, Expected=3285\n",
      ">Predicted=3414.277, Expected=3300\n",
      ">Predicted=3136.930, Expected=3625\n",
      ">Predicted=3402.155, Expected=3780\n",
      ">Predicted=3689.173, Expected=3810\n",
      ">Predicted=3828.397, Expected=4214\n",
      ">Predicted=4292.285, Expected=3976\n",
      ">Predicted=3834.842, Expected=4135\n",
      ">Predicted=3997.289, Expected=4076\n",
      ">Predicted=4125.520, Expected=4145\n",
      ">Predicted=3915.953, Expected=3910\n",
      ">Predicted=3794.332, Expected=3930\n",
      ">Predicted=3881.137, Expected=3715\n",
      ">Predicted=3695.631, Expected=4037\n",
      ">Predicted=4303.882, Expected=3887\n",
      ">Predicted=4021.325, Expected=3978\n",
      ">Predicted=3992.552, Expected=3830\n",
      ">Predicted=4233.381, Expected=3963\n",
      ">Predicted=3744.461, Expected=4048\n",
      ">Predicted=4201.679, Expected=3923\n",
      ">Predicted=3880.639, Expected=3955\n",
      ">Predicted=4033.948, Expected=3911\n",
      ">Predicted=3694.009, Expected=4172\n",
      ">Predicted=4170.891, Expected=4114\n",
      ">Predicted=3884.235, Expected=4100\n",
      ">Predicted=4391.528, Expected=4083\n",
      ">Predicted=3929.819, Expected=3713\n",
      ">Predicted=3817.891, Expected=3716\n",
      ">Predicted=3589.055, Expected=3702\n",
      ">Predicted=3844.674, Expected=3591\n",
      ">Predicted=3705.945, Expected=3749\n",
      ">Predicted=3647.686, Expected=3656\n",
      ">Predicted=3709.313, Expected=3671\n",
      ">Predicted=3649.757, Expected=3723\n",
      ">Predicted=3998.384, Expected=3676\n",
      ">Predicted=3657.333, Expected=3762\n",
      ">Predicted=3776.234, Expected=3586\n",
      ">Predicted=3609.960, Expected=3579\n",
      ">Predicted=3248.855, Expected=3639\n",
      ">Predicted=3648.240, Expected=3620\n",
      ">Predicted=3613.422, Expected=3653\n",
      ">Predicted=3545.514, Expected=3629\n",
      ">Predicted=3784.197, Expected=3631\n",
      ">Predicted=3547.298, Expected=3597\n",
      ">Predicted=3616.507, Expected=3502\n",
      ">Predicted=3567.115, Expected=3478\n",
      ">Predicted=3450.019, Expected=3530\n",
      ">Predicted=3627.777, Expected=3501\n",
      ">Predicted=3345.594, Expected=3536\n",
      ">Predicted=3533.455, Expected=3564\n",
      ">Predicted=3625.197, Expected=3502\n",
      ">Predicted=3493.390, Expected=3490\n",
      ">Predicted=3533.456, Expected=3513\n",
      ">Predicted=3499.995, Expected=3452\n",
      ">Predicted=3467.819, Expected=3436\n",
      ">Predicted=3417.921, Expected=3724\n",
      ">Predicted=3618.739, Expected=3718\n",
      ">Predicted=3677.237, Expected=3746\n",
      ">Predicted=3776.726, Expected=3681\n",
      ">Predicted=3640.589, Expected=3694\n",
      ">Predicted=3713.992, Expected=3666\n",
      ">Predicted=3683.902, Expected=3657\n",
      ">Predicted=3586.774, Expected=3670\n",
      ">Predicted=3645.458, Expected=3676\n",
      ">Predicted=3683.764, Expected=3734\n",
      ">Predicted=3656.311, Expected=3978\n",
      ">Predicted=3920.524, Expected=3990\n",
      ">Predicted=4233.943, Expected=4055\n",
      ">Predicted=4023.166, Expected=4009\n",
      ">Predicted=4013.684, Expected=4058\n",
      ">Predicted=3968.374, Expected=4212\n",
      ">Predicted=4182.777, Expected=3832\n",
      ">Predicted=3792.970, Expected=3922\n",
      ">Predicted=3892.121, Expected=3897\n",
      ">Predicted=3891.059, Expected=3903\n",
      ">Predicted=3890.646, Expected=3894\n",
      ">Predicted=3934.844, Expected=3914\n",
      ">Predicted=4143.365, Expected=3913\n",
      ">Predicted=3929.964, Expected=3885\n",
      ">Predicted=3958.238, Expected=3800\n",
      ">Predicted=3774.026, Expected=3952\n",
      ">Predicted=4005.639, Expected=3951\n",
      ">Predicted=4113.282, Expected=3965\n",
      ">Predicted=3604.595, Expected=3940\n",
      ">Predicted=4021.687, Expected=4017\n",
      ">Predicted=3984.719, Expected=4000\n",
      ">Predicted=3997.708, Expected=3949\n",
      ">Predicted=3936.624, Expected=3954\n",
      ">Predicted=3969.329, Expected=3948\n",
      ">Predicted=3944.209, Expected=3948\n",
      ">Predicted=3917.298, Expected=4003\n",
      ">Predicted=3908.909, Expected=4088\n",
      ">Predicted=4216.742, Expected=4069\n",
      ">Predicted=4059.387, Expected=4074\n",
      ">Predicted=4077.106, Expected=4105\n",
      ">Predicted=4069.386, Expected=4127\n",
      ">Predicted=4189.179, Expected=4045\n",
      ">Predicted=4025.316, Expected=4045\n",
      ">Predicted=3990.703, Expected=4063\n",
      ">Predicted=4059.233, Expected=4041\n",
      ">Predicted=4028.268, Expected=3970\n",
      ">Predicted=3968.645, Expected=3992\n",
      ">Predicted=4043.054, Expected=4102\n",
      ">Predicted=4179.508, Expected=4093\n",
      ">Predicted=4073.135, Expected=4179\n",
      ">Predicted=4174.858, Expected=4165\n",
      ">Predicted=4189.027, Expected=4168\n",
      ">Predicted=4185.106, Expected=4197\n",
      ">Predicted=4108.873, Expected=4927\n",
      ">Predicted=4857.576, Expected=4978\n",
      ">Predicted=4921.941, Expected=4939\n",
      ">Predicted=4847.670, Expected=5080\n",
      ">Predicted=4926.760, Expected=5090\n",
      ">Predicted=5023.632, Expected=5238\n",
      ">Predicted=5250.574, Expected=5312\n",
      ">Predicted=5207.207, Expected=5216\n",
      ">Predicted=5214.119, Expected=5312\n",
      ">Predicted=5208.590, Expected=5066\n",
      ">Predicted=4997.269, Expected=5114\n",
      ">Predicted=5068.629, Expected=5102\n",
      ">Predicted=5760.810, Expected=5194\n",
      ">Predicted=5224.064, Expected=5049\n",
      ">Predicted=5004.466, Expected=5234\n",
      "MSE: 74309.729\n",
      "RMSE: 272.598\n",
      "MAE: 192.419\n"
     ]
    },
    {
     "data": {
      "image/png": "[encoded data removed]",
      "text/plain": [
       "<Figure size 432x288 with 1 Axes>"
      ]
     },
     "metadata": {
      "needs_background": "light"
     },
     "output_type": "display_data"
    }
   ],
   "source": [
    "def difference(dataset, interval=1):\n",
    "    \"\"\"create a differenced series\"\"\"\n",
    "    diff = list()\n",
    "    for i in range(interval, len(dataset)):\n",
    "        value = dataset[i] - dataset[i - interval]\n",
    "        diff.append(value)\n",
    "    return diff\n",
    "\n",
    "\n",
    "def inverse_difference(history, yhat, interval=1):\n",
    "    \"\"\"invert differenced value\"\"\"\n",
    "    return yhat + history[-interval]\n",
    "\n",
    "\n",
    "# load and prepare datasets\n",
    "series = dataset\n",
    "X = series.values.astype('float32')\n",
    "history = [x for x in X]\n",
    "months_in_year = 12\n",
    "validation = val\n",
    "y = validation.values.astype('float32')\n",
    "# load model\n",
    "model_fit = ARIMAResults.load('model.pkl')\n",
    "\n",
    "# make first prediction\n",
    "predictions = list()\n",
    "yhat = float(model_fit.forecast()[0])\n",
    "yhat = inverse_difference(history, yhat, months_in_year)\n",
    "predictions.append(yhat)\n",
    "history.append(y[0])\n",
    "print('>Predicted=%.3f, Expected=%3.f' % (yhat, y[0]))\n",
    "# rolling forecasts\n",
    "for i in range(1, len(y)):\n",
    "    # difference data\n",
    "    months_in_year = 12\n",
    "    diff = difference(history, months_in_year)\n",
    "    # predict\n",
    "    model = ARIMA(diff, order=(1, 0, 0))\n",
    "    model_fit = model.fit(trend='nc', disp=0)\n",
    "    yhat = model_fit.forecast()[0]\n",
    "    yhat = inverse_difference(history, yhat, months_in_year)\n",
    "    predictions.append(yhat)\n",
    "    # observation\n",
    "    obs = y[i]\n",
    "    history.append(obs)\n",
    "    print('>Predicted=%.3f, Expected=%3.f' % (yhat, obs))\n",
    "    # rport performance\n",
    "\n",
    "mse = mean_squared_error(y, predictions)\n",
    "rmse = sqrt(mse)\n",
    "mae = mean_absolute_error(y, predictions)\n",
    "print('MSE: %.3f' % mse)\n",
    "print('RMSE: %.3f' % rmse)\n",
    "print('MAE: %.3f' % mae)\n",
    "pyplot.plot(y)\n",
    "pyplot.plot(predictions, color='red')\n",
    "pyplot.show()"
   ]
  },
  {
   "cell_type": "markdown",
   "metadata": {},
   "source": [
    "Our results show that the best ARIMA model that we have identified has an `RMSE` of 272.60 and a `MAE` of 192.42. This performance shall then be used as a baseline standard to assess our proposed models."
   ]
  },
  {
   "cell_type": "markdown",
   "metadata": {},
   "source": [
    "#### Prepare data for Machine Learning models"
   ]
  },
  {
   "cell_type": "code",
   "execution_count": 14,
   "metadata": {
    "ExecuteTime": {
     "end_time": "2021-01-25T06:58:46.349380Z",
     "start_time": "2021-01-25T06:58:46.329290Z"
    }
   },
   "outputs": [],
   "source": [
    "import pandas as pd\n",
    "from numpy.random import seed\n",
    "from tqdm import tqdm\n",
    "import numpy as np\n",
    "import matplotlib.pyplot as plt\n",
    "from sklearn.metrics import mean_squared_error, r2_score, mean_absolute_error\n",
    "seed(42)\n",
    "\n",
    "import warnings\n",
    "warnings.filterwarnings(\"ignore\")\n",
    "\n",
    "%matplotlib inline"
   ]
  },
  {
   "cell_type": "markdown",
   "metadata": {},
   "source": [
    "Following these procedures, we transformed the `timestamp` column into a format that uniform for all of our GDELT year data. Moreover, we have selected `tone_1`, `tone_4`, `tone_5`, `tone_6`, and `tone_7` which translates to the `Tone`, `Polarity`, `Activity  Reference  Density`, and `Self/Group  Reference  Density`."
   ]
  },
  {
   "cell_type": "markdown",
   "metadata": {
    "heading_collapsed": true
   },
   "source": [
    "##### GDELT 2016 data"
   ]
  },
  {
   "cell_type": "code",
   "execution_count": 19,
   "metadata": {
    "ExecuteTime": {
     "end_time": "2021-01-25T06:59:05.478252Z",
     "start_time": "2021-01-25T06:59:05.405942Z"
    },
    "hidden": true
   },
   "outputs": [
    {
     "data": {
      "text/html": [
       "<div>\n",
       "<style scoped>\n",
       "    .dataframe tbody tr th:only-of-type {\n",
       "        vertical-align: middle;\n",
       "    }\n",
       "\n",
       "    .dataframe tbody tr th {\n",
       "        vertical-align: top;\n",
       "    }\n",
       "\n",
       "    .dataframe thead th {\n",
       "        text-align: right;\n",
       "    }\n",
       "</style>\n",
       "<table border=\"1\" class=\"dataframe\">\n",
       "  <thead>\n",
       "    <tr style=\"text-align: right;\">\n",
       "      <th></th>\n",
       "      <th>timestamp</th>\n",
       "      <th>tone_avg_str</th>\n",
       "      <th>tone_1</th>\n",
       "      <th>tone_4</th>\n",
       "      <th>tone_5</th>\n",
       "      <th>tone_6</th>\n",
       "      <th>tone_7</th>\n",
       "    </tr>\n",
       "  </thead>\n",
       "  <tbody>\n",
       "    <tr>\n",
       "      <th>137</th>\n",
       "      <td>2016-01-01</td>\n",
       "      <td>-1.343669125828536,2.655836254864804,3.9995053...</td>\n",
       "      <td>-1.343669</td>\n",
       "      <td>6.655342</td>\n",
       "      <td>21.979880</td>\n",
       "      <td>0.775952</td>\n",
       "      <td>607.957274</td>\n",
       "    </tr>\n",
       "    <tr>\n",
       "      <th>268</th>\n",
       "      <td>2016-01-02</td>\n",
       "      <td>-1.244108808232518,2.6459006405849093,3.890009...</td>\n",
       "      <td>-1.244109</td>\n",
       "      <td>6.535910</td>\n",
       "      <td>22.072250</td>\n",
       "      <td>0.821951</td>\n",
       "      <td>605.368377</td>\n",
       "    </tr>\n",
       "    <tr>\n",
       "      <th>331</th>\n",
       "      <td>2016-01-03</td>\n",
       "      <td>-1.4312840642824494,2.522918052802079,3.954202...</td>\n",
       "      <td>-1.431284</td>\n",
       "      <td>6.477120</td>\n",
       "      <td>21.925045</td>\n",
       "      <td>0.843433</td>\n",
       "      <td>617.556213</td>\n",
       "    </tr>\n",
       "    <tr>\n",
       "      <th>58</th>\n",
       "      <td>2016-01-04</td>\n",
       "      <td>-1.5264466457541412,2.4717399497096024,3.99818...</td>\n",
       "      <td>-1.526447</td>\n",
       "      <td>6.469927</td>\n",
       "      <td>21.797835</td>\n",
       "      <td>0.768344</td>\n",
       "      <td>553.286337</td>\n",
       "    </tr>\n",
       "    <tr>\n",
       "      <th>57</th>\n",
       "      <td>2016-01-05</td>\n",
       "      <td>-1.5985432030514883,2.4364196737682997,4.03496...</td>\n",
       "      <td>-1.598543</td>\n",
       "      <td>6.471383</td>\n",
       "      <td>22.078865</td>\n",
       "      <td>0.735785</td>\n",
       "      <td>538.866279</td>\n",
       "    </tr>\n",
       "    <tr>\n",
       "      <th>...</th>\n",
       "      <td>...</td>\n",
       "      <td>...</td>\n",
       "      <td>...</td>\n",
       "      <td>...</td>\n",
       "      <td>...</td>\n",
       "      <td>...</td>\n",
       "      <td>...</td>\n",
       "    </tr>\n",
       "    <tr>\n",
       "      <th>169</th>\n",
       "      <td>2016-12-27</td>\n",
       "      <td>-1.1237732721734248,2.7332262467561472,3.85699...</td>\n",
       "      <td>-1.123773</td>\n",
       "      <td>6.590226</td>\n",
       "      <td>21.515258</td>\n",
       "      <td>0.737149</td>\n",
       "      <td>668.584280</td>\n",
       "    </tr>\n",
       "    <tr>\n",
       "      <th>26</th>\n",
       "      <td>2016-12-28</td>\n",
       "      <td>-1.1169575321714602,2.688876976508874,3.805834...</td>\n",
       "      <td>-1.116958</td>\n",
       "      <td>6.494711</td>\n",
       "      <td>21.602900</td>\n",
       "      <td>0.769894</td>\n",
       "      <td>533.925349</td>\n",
       "    </tr>\n",
       "    <tr>\n",
       "      <th>289</th>\n",
       "      <td>2016-12-29</td>\n",
       "      <td>-1.1672518560819047,2.6724975895596423,3.83974...</td>\n",
       "      <td>-1.167252</td>\n",
       "      <td>6.512247</td>\n",
       "      <td>21.481621</td>\n",
       "      <td>0.757599</td>\n",
       "      <td>539.163295</td>\n",
       "    </tr>\n",
       "    <tr>\n",
       "      <th>146</th>\n",
       "      <td>2016-12-30</td>\n",
       "      <td>-1.4869667138911464,2.4688303493439663,3.95579...</td>\n",
       "      <td>-1.486967</td>\n",
       "      <td>6.424627</td>\n",
       "      <td>21.564865</td>\n",
       "      <td>0.776261</td>\n",
       "      <td>562.009135</td>\n",
       "    </tr>\n",
       "    <tr>\n",
       "      <th>338</th>\n",
       "      <td>2016-12-31</td>\n",
       "      <td>-1.208902160205116,2.5988859647446647,3.807788...</td>\n",
       "      <td>-1.208902</td>\n",
       "      <td>6.406674</td>\n",
       "      <td>21.547764</td>\n",
       "      <td>0.794039</td>\n",
       "      <td>603.176906</td>\n",
       "    </tr>\n",
       "  </tbody>\n",
       "</table>\n",
       "<p>366 rows × 7 columns</p>\n",
       "</div>"
      ],
      "text/plain": [
       "      timestamp                                       tone_avg_str    tone_1  \\\n",
       "137  2016-01-01  -1.343669125828536,2.655836254864804,3.9995053... -1.343669   \n",
       "268  2016-01-02  -1.244108808232518,2.6459006405849093,3.890009... -1.244109   \n",
       "331  2016-01-03  -1.4312840642824494,2.522918052802079,3.954202... -1.431284   \n",
       "58   2016-01-04  -1.5264466457541412,2.4717399497096024,3.99818... -1.526447   \n",
       "57   2016-01-05  -1.5985432030514883,2.4364196737682997,4.03496... -1.598543   \n",
       "..          ...                                                ...       ...   \n",
       "169  2016-12-27  -1.1237732721734248,2.7332262467561472,3.85699... -1.123773   \n",
       "26   2016-12-28  -1.1169575321714602,2.688876976508874,3.805834... -1.116958   \n",
       "289  2016-12-29  -1.1672518560819047,2.6724975895596423,3.83974... -1.167252   \n",
       "146  2016-12-30  -1.4869667138911464,2.4688303493439663,3.95579... -1.486967   \n",
       "338  2016-12-31  -1.208902160205116,2.5988859647446647,3.807788... -1.208902   \n",
       "\n",
       "       tone_4     tone_5    tone_6      tone_7  \n",
       "137  6.655342  21.979880  0.775952  607.957274  \n",
       "268  6.535910  22.072250  0.821951  605.368377  \n",
       "331  6.477120  21.925045  0.843433  617.556213  \n",
       "58   6.469927  21.797835  0.768344  553.286337  \n",
       "57   6.471383  22.078865  0.735785  538.866279  \n",
       "..        ...        ...       ...         ...  \n",
       "169  6.590226  21.515258  0.737149  668.584280  \n",
       "26   6.494711  21.602900  0.769894  533.925349  \n",
       "289  6.512247  21.481621  0.757599  539.163295  \n",
       "146  6.424627  21.564865  0.776261  562.009135  \n",
       "338  6.406674  21.547764  0.794039  603.176906  \n",
       "\n",
       "[366 rows x 7 columns]"
      ]
     },
     "execution_count": 19,
     "metadata": {},
     "output_type": "execute_result"
    }
   ],
   "source": [
    "df2 = pd.read_csv(\"data/gdelt_tones2016.csv\").drop_duplicates()\n",
    "df2[\"timestamp\"] = df2[\"timestamp\"].apply(lambda x: str(x)[:4]+\"-\"+str(x)[4:6]+\"-\"+str(x)[6:])\n",
    "\n",
    "for i in range(1,8):\n",
    "    if i not in [2,3]:\n",
    "        df2[\"tone_\"+str(i)] = df2[\"tone_avg_str\"].apply(lambda x: float(x.split(\",\")[i-1]))\n",
    "    \n",
    "df2.sort_values(\"timestamp\")"
   ]
  },
  {
   "cell_type": "markdown",
   "metadata": {
    "heading_collapsed": true
   },
   "source": [
    "##### GDELT 2017 data"
   ]
  },
  {
   "cell_type": "code",
   "execution_count": 20,
   "metadata": {
    "ExecuteTime": {
     "end_time": "2021-01-25T06:59:11.369560Z",
     "start_time": "2021-01-25T06:59:11.321118Z"
    },
    "hidden": true
   },
   "outputs": [
    {
     "data": {
      "text/html": [
       "<div>\n",
       "<style scoped>\n",
       "    .dataframe tbody tr th:only-of-type {\n",
       "        vertical-align: middle;\n",
       "    }\n",
       "\n",
       "    .dataframe tbody tr th {\n",
       "        vertical-align: top;\n",
       "    }\n",
       "\n",
       "    .dataframe thead th {\n",
       "        text-align: right;\n",
       "    }\n",
       "</style>\n",
       "<table border=\"1\" class=\"dataframe\">\n",
       "  <thead>\n",
       "    <tr style=\"text-align: right;\">\n",
       "      <th></th>\n",
       "      <th>timestamp</th>\n",
       "      <th>tone_avg_str</th>\n",
       "      <th>tone_1</th>\n",
       "      <th>tone_4</th>\n",
       "      <th>tone_5</th>\n",
       "      <th>tone_6</th>\n",
       "      <th>tone_7</th>\n",
       "    </tr>\n",
       "  </thead>\n",
       "  <tbody>\n",
       "    <tr>\n",
       "      <th>80</th>\n",
       "      <td>2017-01-01</td>\n",
       "      <td>-1.2719315118484043,2.58824259527035,3.8601741...</td>\n",
       "      <td>-1.271932</td>\n",
       "      <td>6.448417</td>\n",
       "      <td>21.328459</td>\n",
       "      <td>0.801317</td>\n",
       "      <td>680.406914</td>\n",
       "    </tr>\n",
       "    <tr>\n",
       "      <th>321</th>\n",
       "      <td>2017-01-02</td>\n",
       "      <td>-1.4426873277312238,2.4471191750453,3.88980650...</td>\n",
       "      <td>-1.442687</td>\n",
       "      <td>6.336926</td>\n",
       "      <td>21.557796</td>\n",
       "      <td>0.755571</td>\n",
       "      <td>560.896473</td>\n",
       "    </tr>\n",
       "    <tr>\n",
       "      <th>85</th>\n",
       "      <td>2017-01-03</td>\n",
       "      <td>-1.1847022623848569,2.4422147144654325,3.62691...</td>\n",
       "      <td>-1.184702</td>\n",
       "      <td>6.069132</td>\n",
       "      <td>21.783911</td>\n",
       "      <td>0.756801</td>\n",
       "      <td>514.945857</td>\n",
       "    </tr>\n",
       "    <tr>\n",
       "      <th>293</th>\n",
       "      <td>2017-01-04</td>\n",
       "      <td>-0.9560225490161227,2.5842385944973256,3.54026...</td>\n",
       "      <td>-0.956023</td>\n",
       "      <td>6.124500</td>\n",
       "      <td>21.826709</td>\n",
       "      <td>0.767244</td>\n",
       "      <td>512.429200</td>\n",
       "    </tr>\n",
       "    <tr>\n",
       "      <th>244</th>\n",
       "      <td>2017-01-05</td>\n",
       "      <td>-1.1293169158896876,2.5299739214521253,3.65929...</td>\n",
       "      <td>-1.129317</td>\n",
       "      <td>6.189265</td>\n",
       "      <td>21.828723</td>\n",
       "      <td>0.769687</td>\n",
       "      <td>517.632606</td>\n",
       "    </tr>\n",
       "    <tr>\n",
       "      <th>...</th>\n",
       "      <td>...</td>\n",
       "      <td>...</td>\n",
       "      <td>...</td>\n",
       "      <td>...</td>\n",
       "      <td>...</td>\n",
       "      <td>...</td>\n",
       "      <td>...</td>\n",
       "    </tr>\n",
       "    <tr>\n",
       "      <th>93</th>\n",
       "      <td>2017-12-27</td>\n",
       "      <td>-1.3973029728543265,2.444733304822432,3.842036...</td>\n",
       "      <td>-1.397303</td>\n",
       "      <td>6.286770</td>\n",
       "      <td>22.127338</td>\n",
       "      <td>0.771252</td>\n",
       "      <td>531.899360</td>\n",
       "    </tr>\n",
       "    <tr>\n",
       "      <th>261</th>\n",
       "      <td>2017-12-28</td>\n",
       "      <td>-1.4419291906997762,2.4923967914854446,3.93432...</td>\n",
       "      <td>-1.441929</td>\n",
       "      <td>6.426723</td>\n",
       "      <td>21.995450</td>\n",
       "      <td>0.755419</td>\n",
       "      <td>537.158542</td>\n",
       "    </tr>\n",
       "    <tr>\n",
       "      <th>150</th>\n",
       "      <td>2017-12-29</td>\n",
       "      <td>-1.6105565651149456,2.3830437911931686,3.99360...</td>\n",
       "      <td>-1.610557</td>\n",
       "      <td>6.376644</td>\n",
       "      <td>22.272055</td>\n",
       "      <td>0.733027</td>\n",
       "      <td>535.332284</td>\n",
       "    </tr>\n",
       "    <tr>\n",
       "      <th>100</th>\n",
       "      <td>2017-12-30</td>\n",
       "      <td>-1.7285310884135454,2.3562012931335654,4.08473...</td>\n",
       "      <td>-1.728531</td>\n",
       "      <td>6.440934</td>\n",
       "      <td>22.253264</td>\n",
       "      <td>0.760869</td>\n",
       "      <td>580.592638</td>\n",
       "    </tr>\n",
       "    <tr>\n",
       "      <th>68</th>\n",
       "      <td>2017-12-31</td>\n",
       "      <td>-1.5552146379277725,2.4265205533042855,3.98173...</td>\n",
       "      <td>-1.555215</td>\n",
       "      <td>6.408256</td>\n",
       "      <td>22.001733</td>\n",
       "      <td>0.788401</td>\n",
       "      <td>628.183487</td>\n",
       "    </tr>\n",
       "  </tbody>\n",
       "</table>\n",
       "<p>365 rows × 7 columns</p>\n",
       "</div>"
      ],
      "text/plain": [
       "      timestamp                                       tone_avg_str    tone_1  \\\n",
       "80   2017-01-01  -1.2719315118484043,2.58824259527035,3.8601741... -1.271932   \n",
       "321  2017-01-02  -1.4426873277312238,2.4471191750453,3.88980650... -1.442687   \n",
       "85   2017-01-03  -1.1847022623848569,2.4422147144654325,3.62691... -1.184702   \n",
       "293  2017-01-04  -0.9560225490161227,2.5842385944973256,3.54026... -0.956023   \n",
       "244  2017-01-05  -1.1293169158896876,2.5299739214521253,3.65929... -1.129317   \n",
       "..          ...                                                ...       ...   \n",
       "93   2017-12-27  -1.3973029728543265,2.444733304822432,3.842036... -1.397303   \n",
       "261  2017-12-28  -1.4419291906997762,2.4923967914854446,3.93432... -1.441929   \n",
       "150  2017-12-29  -1.6105565651149456,2.3830437911931686,3.99360... -1.610557   \n",
       "100  2017-12-30  -1.7285310884135454,2.3562012931335654,4.08473... -1.728531   \n",
       "68   2017-12-31  -1.5552146379277725,2.4265205533042855,3.98173... -1.555215   \n",
       "\n",
       "       tone_4     tone_5    tone_6      tone_7  \n",
       "80   6.448417  21.328459  0.801317  680.406914  \n",
       "321  6.336926  21.557796  0.755571  560.896473  \n",
       "85   6.069132  21.783911  0.756801  514.945857  \n",
       "293  6.124500  21.826709  0.767244  512.429200  \n",
       "244  6.189265  21.828723  0.769687  517.632606  \n",
       "..        ...        ...       ...         ...  \n",
       "93   6.286770  22.127338  0.771252  531.899360  \n",
       "261  6.426723  21.995450  0.755419  537.158542  \n",
       "150  6.376644  22.272055  0.733027  535.332284  \n",
       "100  6.440934  22.253264  0.760869  580.592638  \n",
       "68   6.408256  22.001733  0.788401  628.183487  \n",
       "\n",
       "[365 rows x 7 columns]"
      ]
     },
     "execution_count": 20,
     "metadata": {},
     "output_type": "execute_result"
    }
   ],
   "source": [
    "df1 = pd.read_csv(\"data/gdelt_tones2017.csv\").drop_duplicates()\n",
    "df1[\"timestamp\"] = df1[\"timestamp\"].apply(lambda x: str(x)[:4]+\"-\"+str(x)[4:6]+\"-\"+str(x)[6:])\n",
    "\n",
    "for i in range(1,8):\n",
    "    if i not in [2,3]:\n",
    "        df1[\"tone_\"+str(i)] = df1[\"tone_avg_str\"].apply(lambda x: float(x.split(\",\")[i-1]))\n",
    "    \n",
    "df1.sort_values(\"timestamp\")"
   ]
  },
  {
   "cell_type": "markdown",
   "metadata": {
    "heading_collapsed": true
   },
   "source": [
    "##### GDELT 2018-2019 data"
   ]
  },
  {
   "cell_type": "code",
   "execution_count": 21,
   "metadata": {
    "ExecuteTime": {
     "end_time": "2021-01-25T06:59:14.561550Z",
     "start_time": "2021-01-25T06:59:14.505655Z"
    },
    "hidden": true
   },
   "outputs": [
    {
     "data": {
      "text/html": [
       "<div>\n",
       "<style scoped>\n",
       "    .dataframe tbody tr th:only-of-type {\n",
       "        vertical-align: middle;\n",
       "    }\n",
       "\n",
       "    .dataframe tbody tr th {\n",
       "        vertical-align: top;\n",
       "    }\n",
       "\n",
       "    .dataframe thead th {\n",
       "        text-align: right;\n",
       "    }\n",
       "</style>\n",
       "<table border=\"1\" class=\"dataframe\">\n",
       "  <thead>\n",
       "    <tr style=\"text-align: right;\">\n",
       "      <th></th>\n",
       "      <th>timestamp</th>\n",
       "      <th>tone_avg_str</th>\n",
       "      <th>tone_1</th>\n",
       "      <th>tone_4</th>\n",
       "      <th>tone_5</th>\n",
       "      <th>tone_6</th>\n",
       "      <th>tone_7</th>\n",
       "    </tr>\n",
       "  </thead>\n",
       "  <tbody>\n",
       "    <tr>\n",
       "      <th>0</th>\n",
       "      <td>2018-12-03</td>\n",
       "      <td>-0.7096127271652222,2.7281906604766846,3.43780...</td>\n",
       "      <td>-0.709613</td>\n",
       "      <td>6.165994</td>\n",
       "      <td>22.123594</td>\n",
       "      <td>0.774525</td>\n",
       "      <td>527.157898</td>\n",
       "    </tr>\n",
       "    <tr>\n",
       "      <th>1</th>\n",
       "      <td>2018-08-04</td>\n",
       "      <td>-1.5860674381256104,2.3365070819854736,3.92257...</td>\n",
       "      <td>-1.586067</td>\n",
       "      <td>6.259082</td>\n",
       "      <td>22.171841</td>\n",
       "      <td>0.915246</td>\n",
       "      <td>580.626282</td>\n",
       "    </tr>\n",
       "    <tr>\n",
       "      <th>2</th>\n",
       "      <td>2019-02-09</td>\n",
       "      <td>-1.4202598333358765,2.596038341522217,4.016298...</td>\n",
       "      <td>-1.420260</td>\n",
       "      <td>6.612337</td>\n",
       "      <td>22.477619</td>\n",
       "      <td>0.795376</td>\n",
       "      <td>552.240417</td>\n",
       "    </tr>\n",
       "    <tr>\n",
       "      <th>3</th>\n",
       "      <td>2018-08-25</td>\n",
       "      <td>-2.0202689170837402,2.422907590866089,4.443176...</td>\n",
       "      <td>-2.020269</td>\n",
       "      <td>6.866084</td>\n",
       "      <td>22.373550</td>\n",
       "      <td>0.701497</td>\n",
       "      <td>569.803040</td>\n",
       "    </tr>\n",
       "    <tr>\n",
       "      <th>4</th>\n",
       "      <td>2018-12-08</td>\n",
       "      <td>-1.6012974977493286,2.4649887084960938,4.06628...</td>\n",
       "      <td>-1.601297</td>\n",
       "      <td>6.531275</td>\n",
       "      <td>22.462433</td>\n",
       "      <td>0.723243</td>\n",
       "      <td>562.106995</td>\n",
       "    </tr>\n",
       "    <tr>\n",
       "      <th>...</th>\n",
       "      <td>...</td>\n",
       "      <td>...</td>\n",
       "      <td>...</td>\n",
       "      <td>...</td>\n",
       "      <td>...</td>\n",
       "      <td>...</td>\n",
       "      <td>...</td>\n",
       "    </tr>\n",
       "    <tr>\n",
       "      <th>466</th>\n",
       "      <td>2019-03-27</td>\n",
       "      <td>-1.5367451906204224,2.593646764755249,4.130392...</td>\n",
       "      <td>-1.536745</td>\n",
       "      <td>6.724039</td>\n",
       "      <td>22.280561</td>\n",
       "      <td>0.744202</td>\n",
       "      <td>534.811218</td>\n",
       "    </tr>\n",
       "    <tr>\n",
       "      <th>467</th>\n",
       "      <td>2019-01-03</td>\n",
       "      <td>-1.180585503578186,2.4531712532043457,3.633756...</td>\n",
       "      <td>-1.180586</td>\n",
       "      <td>6.086928</td>\n",
       "      <td>22.030870</td>\n",
       "      <td>0.731885</td>\n",
       "      <td>495.599182</td>\n",
       "    </tr>\n",
       "    <tr>\n",
       "      <th>468</th>\n",
       "      <td>2018-05-09</td>\n",
       "      <td>-1.0803531408309937,2.5715484619140625,3.65190...</td>\n",
       "      <td>-1.080353</td>\n",
       "      <td>6.223450</td>\n",
       "      <td>22.248278</td>\n",
       "      <td>0.872334</td>\n",
       "      <td>559.240051</td>\n",
       "    </tr>\n",
       "    <tr>\n",
       "      <th>469</th>\n",
       "      <td>2018-04-07</td>\n",
       "      <td>-1.5739831924438477,2.398348331451416,3.972331...</td>\n",
       "      <td>-1.573983</td>\n",
       "      <td>6.370680</td>\n",
       "      <td>22.394314</td>\n",
       "      <td>0.796611</td>\n",
       "      <td>567.909790</td>\n",
       "    </tr>\n",
       "    <tr>\n",
       "      <th>470</th>\n",
       "      <td>2018-04-10</td>\n",
       "      <td>-1.4370931386947632,2.4605133533477783,3.89760...</td>\n",
       "      <td>-1.437093</td>\n",
       "      <td>6.358120</td>\n",
       "      <td>22.288225</td>\n",
       "      <td>0.816627</td>\n",
       "      <td>534.464417</td>\n",
       "    </tr>\n",
       "  </tbody>\n",
       "</table>\n",
       "<p>471 rows × 7 columns</p>\n",
       "</div>"
      ],
      "text/plain": [
       "      timestamp                                       tone_avg_str    tone_1  \\\n",
       "0    2018-12-03  -0.7096127271652222,2.7281906604766846,3.43780... -0.709613   \n",
       "1    2018-08-04  -1.5860674381256104,2.3365070819854736,3.92257... -1.586067   \n",
       "2    2019-02-09  -1.4202598333358765,2.596038341522217,4.016298... -1.420260   \n",
       "3    2018-08-25  -2.0202689170837402,2.422907590866089,4.443176... -2.020269   \n",
       "4    2018-12-08  -1.6012974977493286,2.4649887084960938,4.06628... -1.601297   \n",
       "..          ...                                                ...       ...   \n",
       "466  2019-03-27  -1.5367451906204224,2.593646764755249,4.130392... -1.536745   \n",
       "467  2019-01-03  -1.180585503578186,2.4531712532043457,3.633756... -1.180586   \n",
       "468  2018-05-09  -1.0803531408309937,2.5715484619140625,3.65190... -1.080353   \n",
       "469  2018-04-07  -1.5739831924438477,2.398348331451416,3.972331... -1.573983   \n",
       "470  2018-04-10  -1.4370931386947632,2.4605133533477783,3.89760... -1.437093   \n",
       "\n",
       "       tone_4     tone_5    tone_6      tone_7  \n",
       "0    6.165994  22.123594  0.774525  527.157898  \n",
       "1    6.259082  22.171841  0.915246  580.626282  \n",
       "2    6.612337  22.477619  0.795376  552.240417  \n",
       "3    6.866084  22.373550  0.701497  569.803040  \n",
       "4    6.531275  22.462433  0.723243  562.106995  \n",
       "..        ...        ...       ...         ...  \n",
       "466  6.724039  22.280561  0.744202  534.811218  \n",
       "467  6.086928  22.030870  0.731885  495.599182  \n",
       "468  6.223450  22.248278  0.872334  559.240051  \n",
       "469  6.370680  22.394314  0.796611  567.909790  \n",
       "470  6.358120  22.288225  0.816627  534.464417  \n",
       "\n",
       "[471 rows x 7 columns]"
      ]
     },
     "execution_count": 21,
     "metadata": {},
     "output_type": "execute_result"
    }
   ],
   "source": [
    "df = pd.read_csv(\"data/gdelt_tones.csv\").drop_duplicates()\n",
    "\n",
    "for i in range(1,8):\n",
    "    if i not in [2,3]:\n",
    "        df[\"tone_\"+str(i)] = df[\"tone_avg_str\"].apply(lambda x: float(x.split(\",\")[i-1]))\n",
    "    \n",
    "df"
   ]
  },
  {
   "cell_type": "markdown",
   "metadata": {
    "heading_collapsed": true
   },
   "source": [
    "##### Append GDELT data"
   ]
  },
  {
   "cell_type": "markdown",
   "metadata": {
    "hidden": true
   },
   "source": [
    "We concatenated these datasets. As such, we have produced a dataset from year 2016 to 2019 of GDELT data."
   ]
  },
  {
   "cell_type": "code",
   "execution_count": 22,
   "metadata": {
    "ExecuteTime": {
     "end_time": "2021-01-25T06:59:17.663980Z",
     "start_time": "2021-01-25T06:59:17.637651Z"
    },
    "hidden": true
   },
   "outputs": [
    {
     "data": {
      "text/html": [
       "<div>\n",
       "<style scoped>\n",
       "    .dataframe tbody tr th:only-of-type {\n",
       "        vertical-align: middle;\n",
       "    }\n",
       "\n",
       "    .dataframe tbody tr th {\n",
       "        vertical-align: top;\n",
       "    }\n",
       "\n",
       "    .dataframe thead th {\n",
       "        text-align: right;\n",
       "    }\n",
       "</style>\n",
       "<table border=\"1\" class=\"dataframe\">\n",
       "  <thead>\n",
       "    <tr style=\"text-align: right;\">\n",
       "      <th></th>\n",
       "      <th>timestamp</th>\n",
       "      <th>tone_avg_str</th>\n",
       "      <th>tone_1</th>\n",
       "      <th>tone_4</th>\n",
       "      <th>tone_5</th>\n",
       "      <th>tone_6</th>\n",
       "      <th>tone_7</th>\n",
       "    </tr>\n",
       "  </thead>\n",
       "  <tbody>\n",
       "    <tr>\n",
       "      <th>0</th>\n",
       "      <td>2016-01-01</td>\n",
       "      <td>-1.343669125828536,2.655836254864804,3.9995053...</td>\n",
       "      <td>-1.343669</td>\n",
       "      <td>6.655342</td>\n",
       "      <td>21.979880</td>\n",
       "      <td>0.775952</td>\n",
       "      <td>607.957274</td>\n",
       "    </tr>\n",
       "    <tr>\n",
       "      <th>1</th>\n",
       "      <td>2016-01-02</td>\n",
       "      <td>-1.244108808232518,2.6459006405849093,3.890009...</td>\n",
       "      <td>-1.244109</td>\n",
       "      <td>6.535910</td>\n",
       "      <td>22.072250</td>\n",
       "      <td>0.821951</td>\n",
       "      <td>605.368377</td>\n",
       "    </tr>\n",
       "    <tr>\n",
       "      <th>2</th>\n",
       "      <td>2016-01-03</td>\n",
       "      <td>-1.4312840642824494,2.522918052802079,3.954202...</td>\n",
       "      <td>-1.431284</td>\n",
       "      <td>6.477120</td>\n",
       "      <td>21.925045</td>\n",
       "      <td>0.843433</td>\n",
       "      <td>617.556213</td>\n",
       "    </tr>\n",
       "    <tr>\n",
       "      <th>3</th>\n",
       "      <td>2016-01-04</td>\n",
       "      <td>-1.5264466457541412,2.4717399497096024,3.99818...</td>\n",
       "      <td>-1.526447</td>\n",
       "      <td>6.469927</td>\n",
       "      <td>21.797835</td>\n",
       "      <td>0.768344</td>\n",
       "      <td>553.286337</td>\n",
       "    </tr>\n",
       "    <tr>\n",
       "      <th>4</th>\n",
       "      <td>2016-01-05</td>\n",
       "      <td>-1.5985432030514883,2.4364196737682997,4.03496...</td>\n",
       "      <td>-1.598543</td>\n",
       "      <td>6.471383</td>\n",
       "      <td>22.078865</td>\n",
       "      <td>0.735785</td>\n",
       "      <td>538.866279</td>\n",
       "    </tr>\n",
       "    <tr>\n",
       "      <th>...</th>\n",
       "      <td>...</td>\n",
       "      <td>...</td>\n",
       "      <td>...</td>\n",
       "      <td>...</td>\n",
       "      <td>...</td>\n",
       "      <td>...</td>\n",
       "      <td>...</td>\n",
       "    </tr>\n",
       "    <tr>\n",
       "      <th>1197</th>\n",
       "      <td>2019-04-12</td>\n",
       "      <td>-1.6584209203720093,2.5250768661499023,4.18349...</td>\n",
       "      <td>-1.658421</td>\n",
       "      <td>6.708574</td>\n",
       "      <td>22.262007</td>\n",
       "      <td>0.742972</td>\n",
       "      <td>522.282959</td>\n",
       "    </tr>\n",
       "    <tr>\n",
       "      <th>1198</th>\n",
       "      <td>2019-04-13</td>\n",
       "      <td>-1.784899353981018,2.4057552814483643,4.190654...</td>\n",
       "      <td>-1.784899</td>\n",
       "      <td>6.596410</td>\n",
       "      <td>22.344313</td>\n",
       "      <td>0.772733</td>\n",
       "      <td>542.421143</td>\n",
       "    </tr>\n",
       "    <tr>\n",
       "      <th>1199</th>\n",
       "      <td>2019-04-14</td>\n",
       "      <td>-1.454345703125,2.4467334747314453,3.901079177...</td>\n",
       "      <td>-1.454346</td>\n",
       "      <td>6.347813</td>\n",
       "      <td>22.210037</td>\n",
       "      <td>0.764803</td>\n",
       "      <td>553.637451</td>\n",
       "    </tr>\n",
       "    <tr>\n",
       "      <th>1200</th>\n",
       "      <td>2019-04-15</td>\n",
       "      <td>-1.3322839736938477,2.582634925842285,3.914918...</td>\n",
       "      <td>-1.332284</td>\n",
       "      <td>6.497554</td>\n",
       "      <td>22.145336</td>\n",
       "      <td>0.759225</td>\n",
       "      <td>520.021301</td>\n",
       "    </tr>\n",
       "    <tr>\n",
       "      <th>1201</th>\n",
       "      <td>2019-04-16</td>\n",
       "      <td>-0.8725813031196594,2.7526817321777344,3.62526...</td>\n",
       "      <td>-0.872581</td>\n",
       "      <td>6.377944</td>\n",
       "      <td>21.891800</td>\n",
       "      <td>0.773487</td>\n",
       "      <td>543.894043</td>\n",
       "    </tr>\n",
       "  </tbody>\n",
       "</table>\n",
       "<p>1202 rows × 7 columns</p>\n",
       "</div>"
      ],
      "text/plain": [
       "       timestamp                                       tone_avg_str    tone_1  \\\n",
       "0     2016-01-01  -1.343669125828536,2.655836254864804,3.9995053... -1.343669   \n",
       "1     2016-01-02  -1.244108808232518,2.6459006405849093,3.890009... -1.244109   \n",
       "2     2016-01-03  -1.4312840642824494,2.522918052802079,3.954202... -1.431284   \n",
       "3     2016-01-04  -1.5264466457541412,2.4717399497096024,3.99818... -1.526447   \n",
       "4     2016-01-05  -1.5985432030514883,2.4364196737682997,4.03496... -1.598543   \n",
       "...          ...                                                ...       ...   \n",
       "1197  2019-04-12  -1.6584209203720093,2.5250768661499023,4.18349... -1.658421   \n",
       "1198  2019-04-13  -1.784899353981018,2.4057552814483643,4.190654... -1.784899   \n",
       "1199  2019-04-14  -1.454345703125,2.4467334747314453,3.901079177... -1.454346   \n",
       "1200  2019-04-15  -1.3322839736938477,2.582634925842285,3.914918... -1.332284   \n",
       "1201  2019-04-16  -0.8725813031196594,2.7526817321777344,3.62526... -0.872581   \n",
       "\n",
       "        tone_4     tone_5    tone_6      tone_7  \n",
       "0     6.655342  21.979880  0.775952  607.957274  \n",
       "1     6.535910  22.072250  0.821951  605.368377  \n",
       "2     6.477120  21.925045  0.843433  617.556213  \n",
       "3     6.469927  21.797835  0.768344  553.286337  \n",
       "4     6.471383  22.078865  0.735785  538.866279  \n",
       "...        ...        ...       ...         ...  \n",
       "1197  6.708574  22.262007  0.742972  522.282959  \n",
       "1198  6.596410  22.344313  0.772733  542.421143  \n",
       "1199  6.347813  22.210037  0.764803  553.637451  \n",
       "1200  6.497554  22.145336  0.759225  520.021301  \n",
       "1201  6.377944  21.891800  0.773487  543.894043  \n",
       "\n",
       "[1202 rows x 7 columns]"
      ]
     },
     "execution_count": 22,
     "metadata": {},
     "output_type": "execute_result"
    }
   ],
   "source": [
    "df = pd.concat([df,df1, df2], ignore_index=True).sort_values([\"timestamp\"]).reset_index().iloc[:,1:]\n",
    "df"
   ]
  },
  {
   "cell_type": "markdown",
   "metadata": {
    "heading_collapsed": true
   },
   "source": [
    "##### For BTC data"
   ]
  },
  {
   "cell_type": "markdown",
   "metadata": {
    "hidden": true
   },
   "source": [
    "For our bitcoin data, we collected it from the `investing.com`. The code in the cell below shows how we transformed the `timestamp` column into the same format as our GDELT data. We used the `Open`, `Price`,`High`, `Low`, and `Vol.`. These features are as follows:\n",
    "- `Open` : Openning(early day) price of BTC\n",
    "- `Price` : Closing(late day) price of BTC\n",
    "- `High` : Highest BTC price experienced throughout the day\n",
    "- `Low` : Lowest BTC price experienced throughout the day\n",
    "- `Vol.`: total quantity of shares or contracts traded"
   ]
  },
  {
   "cell_type": "code",
   "execution_count": 23,
   "metadata": {
    "ExecuteTime": {
     "end_time": "2021-01-25T06:59:24.931370Z",
     "start_time": "2021-01-25T06:59:24.841608Z"
    },
    "hidden": true
   },
   "outputs": [
    {
     "data": {
      "text/html": [
       "<div>\n",
       "<style scoped>\n",
       "    .dataframe tbody tr th:only-of-type {\n",
       "        vertical-align: middle;\n",
       "    }\n",
       "\n",
       "    .dataframe tbody tr th {\n",
       "        vertical-align: top;\n",
       "    }\n",
       "\n",
       "    .dataframe thead th {\n",
       "        text-align: right;\n",
       "    }\n",
       "</style>\n",
       "<table border=\"1\" class=\"dataframe\">\n",
       "  <thead>\n",
       "    <tr style=\"text-align: right;\">\n",
       "      <th></th>\n",
       "      <th>timestamp</th>\n",
       "      <th>Open</th>\n",
       "      <th>Price</th>\n",
       "      <th>High</th>\n",
       "      <th>Low</th>\n",
       "      <th>Vol.</th>\n",
       "    </tr>\n",
       "  </thead>\n",
       "  <tbody>\n",
       "    <tr>\n",
       "      <th>0</th>\n",
       "      <td>2021-01-06</td>\n",
       "      <td>33986.0</td>\n",
       "      <td>34073.0</td>\n",
       "      <td>35081.0</td>\n",
       "      <td>33901.0</td>\n",
       "      <td>17.85</td>\n",
       "    </tr>\n",
       "    <tr>\n",
       "      <th>1</th>\n",
       "      <td>2021-01-05</td>\n",
       "      <td>32020.0</td>\n",
       "      <td>33996.0</td>\n",
       "      <td>33996.0</td>\n",
       "      <td>30979.1</td>\n",
       "      <td>14.48</td>\n",
       "    </tr>\n",
       "    <tr>\n",
       "      <th>2</th>\n",
       "      <td>2021-01-04</td>\n",
       "      <td>32971.0</td>\n",
       "      <td>32020.0</td>\n",
       "      <td>33403.0</td>\n",
       "      <td>29178.0</td>\n",
       "      <td>24.68</td>\n",
       "    </tr>\n",
       "    <tr>\n",
       "      <th>3</th>\n",
       "      <td>2021-01-03</td>\n",
       "      <td>32183.0</td>\n",
       "      <td>32971.0</td>\n",
       "      <td>34253.0</td>\n",
       "      <td>32110.0</td>\n",
       "      <td>18.91</td>\n",
       "    </tr>\n",
       "    <tr>\n",
       "      <th>4</th>\n",
       "      <td>2021-01-02</td>\n",
       "      <td>29346.0</td>\n",
       "      <td>32185.0</td>\n",
       "      <td>33168.0</td>\n",
       "      <td>29192.0</td>\n",
       "      <td>22.01</td>\n",
       "    </tr>\n",
       "    <tr>\n",
       "      <th>...</th>\n",
       "      <td>...</td>\n",
       "      <td>...</td>\n",
       "      <td>...</td>\n",
       "      <td>...</td>\n",
       "      <td>...</td>\n",
       "      <td>...</td>\n",
       "    </tr>\n",
       "    <tr>\n",
       "      <th>2191</th>\n",
       "      <td>2015-01-05</td>\n",
       "      <td>261.0</td>\n",
       "      <td>273.2</td>\n",
       "      <td>276.5</td>\n",
       "      <td>260.5</td>\n",
       "      <td>2.68</td>\n",
       "    </tr>\n",
       "    <tr>\n",
       "      <th>2192</th>\n",
       "      <td>2015-01-04</td>\n",
       "      <td>282.0</td>\n",
       "      <td>258.8</td>\n",
       "      <td>288.9</td>\n",
       "      <td>258.8</td>\n",
       "      <td>2.38</td>\n",
       "    </tr>\n",
       "    <tr>\n",
       "      <th>2193</th>\n",
       "      <td>2015-01-03</td>\n",
       "      <td>314.8</td>\n",
       "      <td>282.0</td>\n",
       "      <td>314.8</td>\n",
       "      <td>282.0</td>\n",
       "      <td>1.30</td>\n",
       "    </tr>\n",
       "    <tr>\n",
       "      <th>2194</th>\n",
       "      <td>2015-01-02</td>\n",
       "      <td>313.6</td>\n",
       "      <td>315.1</td>\n",
       "      <td>316.0</td>\n",
       "      <td>313.0</td>\n",
       "      <td>1.32</td>\n",
       "    </tr>\n",
       "    <tr>\n",
       "      <th>2195</th>\n",
       "      <td>2015-01-01</td>\n",
       "      <td>317.5</td>\n",
       "      <td>313.9</td>\n",
       "      <td>317.5</td>\n",
       "      <td>312.9</td>\n",
       "      <td>0.93</td>\n",
       "    </tr>\n",
       "  </tbody>\n",
       "</table>\n",
       "<p>2196 rows × 6 columns</p>\n",
       "</div>"
      ],
      "text/plain": [
       "       timestamp     Open    Price     High      Low   Vol.\n",
       "0     2021-01-06  33986.0  34073.0  35081.0  33901.0  17.85\n",
       "1     2021-01-05  32020.0  33996.0  33996.0  30979.1  14.48\n",
       "2     2021-01-04  32971.0  32020.0  33403.0  29178.0  24.68\n",
       "3     2021-01-03  32183.0  32971.0  34253.0  32110.0  18.91\n",
       "4     2021-01-02  29346.0  32185.0  33168.0  29192.0  22.01\n",
       "...          ...      ...      ...      ...      ...    ...\n",
       "2191  2015-01-05    261.0    273.2    276.5    260.5   2.68\n",
       "2192  2015-01-04    282.0    258.8    288.9    258.8   2.38\n",
       "2193  2015-01-03    314.8    282.0    314.8    282.0   1.30\n",
       "2194  2015-01-02    313.6    315.1    316.0    313.0   1.32\n",
       "2195  2015-01-01    317.5    313.9    317.5    312.9   0.93\n",
       "\n",
       "[2196 rows x 6 columns]"
      ]
     },
     "execution_count": 23,
     "metadata": {},
     "output_type": "execute_result"
    }
   ],
   "source": [
    "df_btc = pd.read_csv(\"data/BTC_USD Data.csv\")\n",
    "\n",
    "\n",
    "def conv_date(date):\n",
    "    \"\"\"Convert date\"\"\"\n",
    "    date = date.split()\n",
    "    months = [\"Jan\", \"Feb\", \"Mar\", \"Apr\", \"May\", \"Jun\",\n",
    "              \"Jul\", \"Aug\", \"Sep\", \"Oct\", \"Nov\", \"Dec\"]\n",
    "\n",
    "    m = str(months.index(date[0])+1)\n",
    "    m = \"0\"+m if len(m) == 1 else m\n",
    "    d = str(date[1][:-1])\n",
    "    y = str(date[2])\n",
    "\n",
    "    return y+\"-\"+m+\"-\"+d\n",
    "\n",
    "\n",
    "df_btc[\"Date\"] = df_btc[\"Date\"].apply(lambda x: conv_date(x))\n",
    "df_btc[\"Vol.\"] = df_btc[\"Vol.\"].replace(\n",
    "    \"-\", \"0\").apply(lambda x: float(x.split(\"K\")[0]))\n",
    "df_btc[\"Change %\"] = df_btc[\"Change %\"].replace(\n",
    "    \"-\", \"0\").apply(lambda x: float(x.split(\"%\")[0]))\n",
    "for i in [\"Price\", \"Open\", \"High\", \"Low\"]:\n",
    "    df_btc[i] = df_btc[i].replace(\",\", \"\").apply(\n",
    "        lambda x: float(x.replace(\",\", \"\")))\n",
    "\n",
    "#df_btc = df_btc[[\"Date\", \"Vol.\", target]]\n",
    "df_btc.columns = [\"timestamp\"] + df_btc.columns.to_list()[1:]\n",
    "df_btc = df_btc[[\"timestamp\", \"Open\", \"Price\", \"High\", \"Low\", \"Vol.\"]]\n",
    "\n",
    "df_btc "
   ]
  },
  {
   "cell_type": "markdown",
   "metadata": {
    "ExecuteTime": {
     "end_time": "2021-01-06T09:58:17.561499Z",
     "start_time": "2021-01-06T09:58:17.494634Z"
    }
   },
   "source": [
    "##### Merge dataset"
   ]
  },
  {
   "cell_type": "markdown",
   "metadata": {},
   "source": [
    "Finalizing our dataset, we combined our GDELT and BTC data. Shown in the table below, we also parsed the date information from the BTC data. By doing so, we have preserved the time information of our data. This is in the interest to preserve the time locality of the GDELT and BTC information."
   ]
  },
  {
   "cell_type": "code",
   "execution_count": 24,
   "metadata": {
    "ExecuteTime": {
     "end_time": "2021-01-25T06:59:28.316416Z",
     "start_time": "2021-01-25T06:59:28.243977Z"
    }
   },
   "outputs": [
    {
     "data": {
      "text/html": [
       "<div>\n",
       "<style scoped>\n",
       "    .dataframe tbody tr th:only-of-type {\n",
       "        vertical-align: middle;\n",
       "    }\n",
       "\n",
       "    .dataframe tbody tr th {\n",
       "        vertical-align: top;\n",
       "    }\n",
       "\n",
       "    .dataframe thead th {\n",
       "        text-align: right;\n",
       "    }\n",
       "</style>\n",
       "<table border=\"1\" class=\"dataframe\">\n",
       "  <thead>\n",
       "    <tr style=\"text-align: right;\">\n",
       "      <th></th>\n",
       "      <th>timestamp</th>\n",
       "      <th>tone_1</th>\n",
       "      <th>tone_4</th>\n",
       "      <th>tone_5</th>\n",
       "      <th>tone_6</th>\n",
       "      <th>tone_7</th>\n",
       "      <th>Open</th>\n",
       "      <th>Price</th>\n",
       "      <th>High</th>\n",
       "      <th>Low</th>\n",
       "      <th>Vol.</th>\n",
       "      <th>year</th>\n",
       "      <th>month</th>\n",
       "      <th>day</th>\n",
       "    </tr>\n",
       "  </thead>\n",
       "  <tbody>\n",
       "    <tr>\n",
       "      <th>0</th>\n",
       "      <td>2016-01-01</td>\n",
       "      <td>-1.343669</td>\n",
       "      <td>6.655342</td>\n",
       "      <td>21.979880</td>\n",
       "      <td>0.775952</td>\n",
       "      <td>607.957274</td>\n",
       "      <td>429.0</td>\n",
       "      <td>434.0</td>\n",
       "      <td>436.5</td>\n",
       "      <td>426.3</td>\n",
       "      <td>12.97</td>\n",
       "      <td>2016</td>\n",
       "      <td>1</td>\n",
       "      <td>1</td>\n",
       "    </tr>\n",
       "    <tr>\n",
       "      <th>1</th>\n",
       "      <td>2016-01-02</td>\n",
       "      <td>-1.244109</td>\n",
       "      <td>6.535910</td>\n",
       "      <td>22.072250</td>\n",
       "      <td>0.821951</td>\n",
       "      <td>605.368377</td>\n",
       "      <td>434.0</td>\n",
       "      <td>432.7</td>\n",
       "      <td>435.8</td>\n",
       "      <td>430.0</td>\n",
       "      <td>6.38</td>\n",
       "      <td>2016</td>\n",
       "      <td>1</td>\n",
       "      <td>2</td>\n",
       "    </tr>\n",
       "    <tr>\n",
       "      <th>2</th>\n",
       "      <td>2016-01-03</td>\n",
       "      <td>-1.431284</td>\n",
       "      <td>6.477120</td>\n",
       "      <td>21.925045</td>\n",
       "      <td>0.843433</td>\n",
       "      <td>617.556213</td>\n",
       "      <td>432.7</td>\n",
       "      <td>428.7</td>\n",
       "      <td>433.1</td>\n",
       "      <td>422.0</td>\n",
       "      <td>19.18</td>\n",
       "      <td>2016</td>\n",
       "      <td>1</td>\n",
       "      <td>3</td>\n",
       "    </tr>\n",
       "    <tr>\n",
       "      <th>3</th>\n",
       "      <td>2016-01-04</td>\n",
       "      <td>-1.526447</td>\n",
       "      <td>6.469927</td>\n",
       "      <td>21.797835</td>\n",
       "      <td>0.768344</td>\n",
       "      <td>553.286337</td>\n",
       "      <td>428.6</td>\n",
       "      <td>432.9</td>\n",
       "      <td>435.7</td>\n",
       "      <td>427.0</td>\n",
       "      <td>13.02</td>\n",
       "      <td>2016</td>\n",
       "      <td>1</td>\n",
       "      <td>4</td>\n",
       "    </tr>\n",
       "    <tr>\n",
       "      <th>4</th>\n",
       "      <td>2016-01-05</td>\n",
       "      <td>-1.598543</td>\n",
       "      <td>6.471383</td>\n",
       "      <td>22.078865</td>\n",
       "      <td>0.735785</td>\n",
       "      <td>538.866279</td>\n",
       "      <td>432.9</td>\n",
       "      <td>431.8</td>\n",
       "      <td>434.9</td>\n",
       "      <td>428.2</td>\n",
       "      <td>11.22</td>\n",
       "      <td>2016</td>\n",
       "      <td>1</td>\n",
       "      <td>5</td>\n",
       "    </tr>\n",
       "    <tr>\n",
       "      <th>...</th>\n",
       "      <td>...</td>\n",
       "      <td>...</td>\n",
       "      <td>...</td>\n",
       "      <td>...</td>\n",
       "      <td>...</td>\n",
       "      <td>...</td>\n",
       "      <td>...</td>\n",
       "      <td>...</td>\n",
       "      <td>...</td>\n",
       "      <td>...</td>\n",
       "      <td>...</td>\n",
       "      <td>...</td>\n",
       "      <td>...</td>\n",
       "      <td>...</td>\n",
       "    </tr>\n",
       "    <tr>\n",
       "      <th>1196</th>\n",
       "      <td>2019-04-12</td>\n",
       "      <td>-1.658421</td>\n",
       "      <td>6.708574</td>\n",
       "      <td>22.262007</td>\n",
       "      <td>0.742972</td>\n",
       "      <td>522.282959</td>\n",
       "      <td>5059.0</td>\n",
       "      <td>5114.0</td>\n",
       "      <td>5134.9</td>\n",
       "      <td>4935.2</td>\n",
       "      <td>9.22</td>\n",
       "      <td>2019</td>\n",
       "      <td>4</td>\n",
       "      <td>12</td>\n",
       "    </tr>\n",
       "    <tr>\n",
       "      <th>1197</th>\n",
       "      <td>2019-04-13</td>\n",
       "      <td>-1.784899</td>\n",
       "      <td>6.596410</td>\n",
       "      <td>22.344313</td>\n",
       "      <td>0.772733</td>\n",
       "      <td>542.421143</td>\n",
       "      <td>5114.1</td>\n",
       "      <td>5101.8</td>\n",
       "      <td>5160.8</td>\n",
       "      <td>5075.3</td>\n",
       "      <td>5.21</td>\n",
       "      <td>2019</td>\n",
       "      <td>4</td>\n",
       "      <td>13</td>\n",
       "    </tr>\n",
       "    <tr>\n",
       "      <th>1198</th>\n",
       "      <td>2019-04-14</td>\n",
       "      <td>-1.454346</td>\n",
       "      <td>6.347813</td>\n",
       "      <td>22.210037</td>\n",
       "      <td>0.764803</td>\n",
       "      <td>553.637451</td>\n",
       "      <td>5103.7</td>\n",
       "      <td>5194.3</td>\n",
       "      <td>5209.0</td>\n",
       "      <td>5064.2</td>\n",
       "      <td>4.15</td>\n",
       "      <td>2019</td>\n",
       "      <td>4</td>\n",
       "      <td>14</td>\n",
       "    </tr>\n",
       "    <tr>\n",
       "      <th>1199</th>\n",
       "      <td>2019-04-15</td>\n",
       "      <td>-1.332284</td>\n",
       "      <td>6.497554</td>\n",
       "      <td>22.145336</td>\n",
       "      <td>0.759225</td>\n",
       "      <td>520.021301</td>\n",
       "      <td>5190.1</td>\n",
       "      <td>5049.2</td>\n",
       "      <td>5217.1</td>\n",
       "      <td>5000.7</td>\n",
       "      <td>9.52</td>\n",
       "      <td>2019</td>\n",
       "      <td>4</td>\n",
       "      <td>15</td>\n",
       "    </tr>\n",
       "    <tr>\n",
       "      <th>1200</th>\n",
       "      <td>2019-04-16</td>\n",
       "      <td>-0.872581</td>\n",
       "      <td>6.377944</td>\n",
       "      <td>21.891800</td>\n",
       "      <td>0.773487</td>\n",
       "      <td>543.894043</td>\n",
       "      <td>5042.8</td>\n",
       "      <td>5234.3</td>\n",
       "      <td>5256.2</td>\n",
       "      <td>5030.0</td>\n",
       "      <td>8.38</td>\n",
       "      <td>2019</td>\n",
       "      <td>4</td>\n",
       "      <td>16</td>\n",
       "    </tr>\n",
       "  </tbody>\n",
       "</table>\n",
       "<p>1201 rows × 14 columns</p>\n",
       "</div>"
      ],
      "text/plain": [
       "       timestamp    tone_1    tone_4     tone_5    tone_6      tone_7    Open  \\\n",
       "0     2016-01-01 -1.343669  6.655342  21.979880  0.775952  607.957274   429.0   \n",
       "1     2016-01-02 -1.244109  6.535910  22.072250  0.821951  605.368377   434.0   \n",
       "2     2016-01-03 -1.431284  6.477120  21.925045  0.843433  617.556213   432.7   \n",
       "3     2016-01-04 -1.526447  6.469927  21.797835  0.768344  553.286337   428.6   \n",
       "4     2016-01-05 -1.598543  6.471383  22.078865  0.735785  538.866279   432.9   \n",
       "...          ...       ...       ...        ...       ...         ...     ...   \n",
       "1196  2019-04-12 -1.658421  6.708574  22.262007  0.742972  522.282959  5059.0   \n",
       "1197  2019-04-13 -1.784899  6.596410  22.344313  0.772733  542.421143  5114.1   \n",
       "1198  2019-04-14 -1.454346  6.347813  22.210037  0.764803  553.637451  5103.7   \n",
       "1199  2019-04-15 -1.332284  6.497554  22.145336  0.759225  520.021301  5190.1   \n",
       "1200  2019-04-16 -0.872581  6.377944  21.891800  0.773487  543.894043  5042.8   \n",
       "\n",
       "       Price    High     Low   Vol.  year  month  day  \n",
       "0      434.0   436.5   426.3  12.97  2016      1    1  \n",
       "1      432.7   435.8   430.0   6.38  2016      1    2  \n",
       "2      428.7   433.1   422.0  19.18  2016      1    3  \n",
       "3      432.9   435.7   427.0  13.02  2016      1    4  \n",
       "4      431.8   434.9   428.2  11.22  2016      1    5  \n",
       "...      ...     ...     ...    ...   ...    ...  ...  \n",
       "1196  5114.0  5134.9  4935.2   9.22  2019      4   12  \n",
       "1197  5101.8  5160.8  5075.3   5.21  2019      4   13  \n",
       "1198  5194.3  5209.0  5064.2   4.15  2019      4   14  \n",
       "1199  5049.2  5217.1  5000.7   9.52  2019      4   15  \n",
       "1200  5234.3  5256.2  5030.0   8.38  2019      4   16  \n",
       "\n",
       "[1201 rows x 14 columns]"
      ]
     },
     "execution_count": 24,
     "metadata": {},
     "output_type": "execute_result"
    }
   ],
   "source": [
    "df_ml = df.merge(df_btc, how=\"inner\", on=\"timestamp\").sort_values(\n",
    "    \"timestamp\").reset_index().drop([\"index\", \"tone_avg_str\"], axis=1)\n",
    "df_ml[\"year\"] = df_ml[\"timestamp\"].apply(lambda x: int(x.split(\"-\")[0]))\n",
    "df_ml[\"month\"] = df_ml[\"timestamp\"].apply(lambda x: int(x.split(\"-\")[1]))\n",
    "df_ml[\"day\"] = df_ml[\"timestamp\"].apply(lambda x: int(x.split(\"-\")[2]))\n",
    "df_ml.to_csv(\"df_unscaled.csv\")\n",
    "#df_ml.to_csv(\"data.csv\")\n",
    "df_ml"
   ]
  },
  {
   "cell_type": "markdown",
   "metadata": {},
   "source": [
    "From these data features, we may plotted a heat map  to visualize the correlation of our variables (referto Figure 5). Here, we saw that the data features that are of the same nature (e.g. Price) is highly correlated with each other. We may assume that these components shall be interpreted as the best indicator of the forecasted price. This insight, however, is derivative. As such, we will examine in the proceeding sections how the news-related features plays their role in our best machine learning forecast model."
   ]
  },
  {
   "cell_type": "code",
   "execution_count": 78,
   "metadata": {
    "ExecuteTime": {
     "end_time": "2021-01-25T08:19:06.882653Z",
     "start_time": "2021-01-25T08:19:05.534402Z"
    }
   },
   "outputs": [
    {
     "data": {
      "image/png": "[encoded data removed]",
      "text/plain": [
       "<Figure size 864x576 with 2 Axes>"
      ]
     },
     "metadata": {
      "needs_background": "light"
     },
     "output_type": "display_data"
    }
   ],
   "source": [
    "import matplotlib.pyplot as plt\n",
    "import seaborn as sns\n",
    "fig, ax = plt.subplots(figsize=(12, 8))\n",
    "\n",
    "# we drop the Target column because it is not part of the features\n",
    "df_corr = df_ml.corr()\n",
    "ax = sns.heatmap(df_corr, annot=True, cmap='coolwarm')\n",
    "plt.title(\"Figure 5. Plot the heat map of data features\")\n",
    "plt.show()"
   ]
  },
  {
   "cell_type": "code",
   "execution_count": null,
   "metadata": {},
   "outputs": [],
   "source": []
  },
  {
   "cell_type": "markdown",
   "metadata": {},
   "source": [
    "#### Prepare Prediction dataset"
   ]
  },
  {
   "cell_type": "markdown",
   "metadata": {},
   "source": [
    "Recalling our objective, we intend to forecast the bitcoin prices at 1-day, 3-days, and 7-days ahead. Therefore, we further process the final dataframe from the preprocessing section. We matched the GDELT and Bitcoin data of each day to their intended target forecast. As shown in the proceeding cells, we have successfully produced three datasets on which we used in training our models: 1-day, 3-day, and 7-day forecast."
   ]
  },
  {
   "cell_type": "markdown",
   "metadata": {
    "ExecuteTime": {
     "end_time": "2021-01-07T04:17:47.601043Z",
     "start_time": "2021-01-07T04:17:47.595401Z"
    },
    "heading_collapsed": true
   },
   "source": [
    "##### 1-day forecast"
   ]
  },
  {
   "cell_type": "code",
   "execution_count": 26,
   "metadata": {
    "ExecuteTime": {
     "end_time": "2021-01-25T06:59:32.449745Z",
     "start_time": "2021-01-25T06:59:32.411527Z"
    },
    "hidden": true
   },
   "outputs": [
    {
     "data": {
      "text/html": [
       "<div>\n",
       "<style scoped>\n",
       "    .dataframe tbody tr th:only-of-type {\n",
       "        vertical-align: middle;\n",
       "    }\n",
       "\n",
       "    .dataframe tbody tr th {\n",
       "        vertical-align: top;\n",
       "    }\n",
       "\n",
       "    .dataframe thead th {\n",
       "        text-align: right;\n",
       "    }\n",
       "</style>\n",
       "<table border=\"1\" class=\"dataframe\">\n",
       "  <thead>\n",
       "    <tr style=\"text-align: right;\">\n",
       "      <th></th>\n",
       "      <th>tone_1</th>\n",
       "      <th>tone_4</th>\n",
       "      <th>tone_5</th>\n",
       "      <th>tone_6</th>\n",
       "      <th>tone_7</th>\n",
       "      <th>Open</th>\n",
       "      <th>Price</th>\n",
       "      <th>High</th>\n",
       "      <th>Low</th>\n",
       "      <th>Vol.</th>\n",
       "      <th>year</th>\n",
       "      <th>month</th>\n",
       "      <th>day</th>\n",
       "      <th>Close_price_tomorrow</th>\n",
       "    </tr>\n",
       "  </thead>\n",
       "  <tbody>\n",
       "    <tr>\n",
       "      <th>0</th>\n",
       "      <td>-1.343669</td>\n",
       "      <td>6.655342</td>\n",
       "      <td>21.979880</td>\n",
       "      <td>0.775952</td>\n",
       "      <td>607.957274</td>\n",
       "      <td>429.0</td>\n",
       "      <td>434.0</td>\n",
       "      <td>436.5</td>\n",
       "      <td>426.3</td>\n",
       "      <td>12.97</td>\n",
       "      <td>2016</td>\n",
       "      <td>1</td>\n",
       "      <td>1</td>\n",
       "      <td>432.7</td>\n",
       "    </tr>\n",
       "    <tr>\n",
       "      <th>1</th>\n",
       "      <td>-1.244109</td>\n",
       "      <td>6.535910</td>\n",
       "      <td>22.072250</td>\n",
       "      <td>0.821951</td>\n",
       "      <td>605.368377</td>\n",
       "      <td>434.0</td>\n",
       "      <td>432.7</td>\n",
       "      <td>435.8</td>\n",
       "      <td>430.0</td>\n",
       "      <td>6.38</td>\n",
       "      <td>2016</td>\n",
       "      <td>1</td>\n",
       "      <td>2</td>\n",
       "      <td>428.7</td>\n",
       "    </tr>\n",
       "    <tr>\n",
       "      <th>2</th>\n",
       "      <td>-1.431284</td>\n",
       "      <td>6.477120</td>\n",
       "      <td>21.925045</td>\n",
       "      <td>0.843433</td>\n",
       "      <td>617.556213</td>\n",
       "      <td>432.7</td>\n",
       "      <td>428.7</td>\n",
       "      <td>433.1</td>\n",
       "      <td>422.0</td>\n",
       "      <td>19.18</td>\n",
       "      <td>2016</td>\n",
       "      <td>1</td>\n",
       "      <td>3</td>\n",
       "      <td>432.9</td>\n",
       "    </tr>\n",
       "    <tr>\n",
       "      <th>3</th>\n",
       "      <td>-1.526447</td>\n",
       "      <td>6.469927</td>\n",
       "      <td>21.797835</td>\n",
       "      <td>0.768344</td>\n",
       "      <td>553.286337</td>\n",
       "      <td>428.6</td>\n",
       "      <td>432.9</td>\n",
       "      <td>435.7</td>\n",
       "      <td>427.0</td>\n",
       "      <td>13.02</td>\n",
       "      <td>2016</td>\n",
       "      <td>1</td>\n",
       "      <td>4</td>\n",
       "      <td>431.8</td>\n",
       "    </tr>\n",
       "    <tr>\n",
       "      <th>4</th>\n",
       "      <td>-1.598543</td>\n",
       "      <td>6.471383</td>\n",
       "      <td>22.078865</td>\n",
       "      <td>0.735785</td>\n",
       "      <td>538.866279</td>\n",
       "      <td>432.9</td>\n",
       "      <td>431.8</td>\n",
       "      <td>434.9</td>\n",
       "      <td>428.2</td>\n",
       "      <td>11.22</td>\n",
       "      <td>2016</td>\n",
       "      <td>1</td>\n",
       "      <td>5</td>\n",
       "      <td>428.0</td>\n",
       "    </tr>\n",
       "    <tr>\n",
       "      <th>...</th>\n",
       "      <td>...</td>\n",
       "      <td>...</td>\n",
       "      <td>...</td>\n",
       "      <td>...</td>\n",
       "      <td>...</td>\n",
       "      <td>...</td>\n",
       "      <td>...</td>\n",
       "      <td>...</td>\n",
       "      <td>...</td>\n",
       "      <td>...</td>\n",
       "      <td>...</td>\n",
       "      <td>...</td>\n",
       "      <td>...</td>\n",
       "      <td>...</td>\n",
       "    </tr>\n",
       "    <tr>\n",
       "      <th>1195</th>\n",
       "      <td>-1.600174</td>\n",
       "      <td>6.664594</td>\n",
       "      <td>22.248266</td>\n",
       "      <td>0.751029</td>\n",
       "      <td>535.301331</td>\n",
       "      <td>5315.5</td>\n",
       "      <td>5065.8</td>\n",
       "      <td>5340.0</td>\n",
       "      <td>5001.1</td>\n",
       "      <td>19.39</td>\n",
       "      <td>2019</td>\n",
       "      <td>4</td>\n",
       "      <td>11</td>\n",
       "      <td>5114.0</td>\n",
       "    </tr>\n",
       "    <tr>\n",
       "      <th>1196</th>\n",
       "      <td>-1.658421</td>\n",
       "      <td>6.708574</td>\n",
       "      <td>22.262007</td>\n",
       "      <td>0.742972</td>\n",
       "      <td>522.282959</td>\n",
       "      <td>5059.0</td>\n",
       "      <td>5114.0</td>\n",
       "      <td>5134.9</td>\n",
       "      <td>4935.2</td>\n",
       "      <td>9.22</td>\n",
       "      <td>2019</td>\n",
       "      <td>4</td>\n",
       "      <td>12</td>\n",
       "      <td>5101.8</td>\n",
       "    </tr>\n",
       "    <tr>\n",
       "      <th>1197</th>\n",
       "      <td>-1.784899</td>\n",
       "      <td>6.596410</td>\n",
       "      <td>22.344313</td>\n",
       "      <td>0.772733</td>\n",
       "      <td>542.421143</td>\n",
       "      <td>5114.1</td>\n",
       "      <td>5101.8</td>\n",
       "      <td>5160.8</td>\n",
       "      <td>5075.3</td>\n",
       "      <td>5.21</td>\n",
       "      <td>2019</td>\n",
       "      <td>4</td>\n",
       "      <td>13</td>\n",
       "      <td>5194.3</td>\n",
       "    </tr>\n",
       "    <tr>\n",
       "      <th>1198</th>\n",
       "      <td>-1.454346</td>\n",
       "      <td>6.347813</td>\n",
       "      <td>22.210037</td>\n",
       "      <td>0.764803</td>\n",
       "      <td>553.637451</td>\n",
       "      <td>5103.7</td>\n",
       "      <td>5194.3</td>\n",
       "      <td>5209.0</td>\n",
       "      <td>5064.2</td>\n",
       "      <td>4.15</td>\n",
       "      <td>2019</td>\n",
       "      <td>4</td>\n",
       "      <td>14</td>\n",
       "      <td>5049.2</td>\n",
       "    </tr>\n",
       "    <tr>\n",
       "      <th>1199</th>\n",
       "      <td>-1.332284</td>\n",
       "      <td>6.497554</td>\n",
       "      <td>22.145336</td>\n",
       "      <td>0.759225</td>\n",
       "      <td>520.021301</td>\n",
       "      <td>5190.1</td>\n",
       "      <td>5049.2</td>\n",
       "      <td>5217.1</td>\n",
       "      <td>5000.7</td>\n",
       "      <td>9.52</td>\n",
       "      <td>2019</td>\n",
       "      <td>4</td>\n",
       "      <td>15</td>\n",
       "      <td>5234.3</td>\n",
       "    </tr>\n",
       "  </tbody>\n",
       "</table>\n",
       "<p>1200 rows × 14 columns</p>\n",
       "</div>"
      ],
      "text/plain": [
       "        tone_1    tone_4     tone_5    tone_6      tone_7    Open   Price  \\\n",
       "0    -1.343669  6.655342  21.979880  0.775952  607.957274   429.0   434.0   \n",
       "1    -1.244109  6.535910  22.072250  0.821951  605.368377   434.0   432.7   \n",
       "2    -1.431284  6.477120  21.925045  0.843433  617.556213   432.7   428.7   \n",
       "3    -1.526447  6.469927  21.797835  0.768344  553.286337   428.6   432.9   \n",
       "4    -1.598543  6.471383  22.078865  0.735785  538.866279   432.9   431.8   \n",
       "...        ...       ...        ...       ...         ...     ...     ...   \n",
       "1195 -1.600174  6.664594  22.248266  0.751029  535.301331  5315.5  5065.8   \n",
       "1196 -1.658421  6.708574  22.262007  0.742972  522.282959  5059.0  5114.0   \n",
       "1197 -1.784899  6.596410  22.344313  0.772733  542.421143  5114.1  5101.8   \n",
       "1198 -1.454346  6.347813  22.210037  0.764803  553.637451  5103.7  5194.3   \n",
       "1199 -1.332284  6.497554  22.145336  0.759225  520.021301  5190.1  5049.2   \n",
       "\n",
       "        High     Low   Vol.  year  month  day  Close_price_tomorrow  \n",
       "0      436.5   426.3  12.97  2016      1    1                 432.7  \n",
       "1      435.8   430.0   6.38  2016      1    2                 428.7  \n",
       "2      433.1   422.0  19.18  2016      1    3                 432.9  \n",
       "3      435.7   427.0  13.02  2016      1    4                 431.8  \n",
       "4      434.9   428.2  11.22  2016      1    5                 428.0  \n",
       "...      ...     ...    ...   ...    ...  ...                   ...  \n",
       "1195  5340.0  5001.1  19.39  2019      4   11                5114.0  \n",
       "1196  5134.9  4935.2   9.22  2019      4   12                5101.8  \n",
       "1197  5160.8  5075.3   5.21  2019      4   13                5194.3  \n",
       "1198  5209.0  5064.2   4.15  2019      4   14                5049.2  \n",
       "1199  5217.1  5000.7   9.52  2019      4   15                5234.3  \n",
       "\n",
       "[1200 rows x 14 columns]"
      ]
     },
     "execution_count": 26,
     "metadata": {},
     "output_type": "execute_result"
    }
   ],
   "source": [
    "df_0 = df_ml.iloc[:,1:].copy()\n",
    "changes1 = df_ml[\"Price\"].values\n",
    "df_0[\"Close_price_tomorrow\"] = [changes1[i+1] if i<df_ml.shape[0]-1 else None for i in range(df_ml.shape[0])] \n",
    "\n",
    "df_0 = df_0.dropna()\n",
    "df_0"
   ]
  },
  {
   "cell_type": "markdown",
   "metadata": {
    "heading_collapsed": true
   },
   "source": [
    "##### 3-day forecast"
   ]
  },
  {
   "cell_type": "code",
   "execution_count": 27,
   "metadata": {
    "ExecuteTime": {
     "end_time": "2021-01-25T06:59:33.050340Z",
     "start_time": "2021-01-25T06:59:33.012297Z"
    },
    "hidden": true
   },
   "outputs": [
    {
     "data": {
      "text/html": [
       "<div>\n",
       "<style scoped>\n",
       "    .dataframe tbody tr th:only-of-type {\n",
       "        vertical-align: middle;\n",
       "    }\n",
       "\n",
       "    .dataframe tbody tr th {\n",
       "        vertical-align: top;\n",
       "    }\n",
       "\n",
       "    .dataframe thead th {\n",
       "        text-align: right;\n",
       "    }\n",
       "</style>\n",
       "<table border=\"1\" class=\"dataframe\">\n",
       "  <thead>\n",
       "    <tr style=\"text-align: right;\">\n",
       "      <th></th>\n",
       "      <th>tone_1</th>\n",
       "      <th>tone_4</th>\n",
       "      <th>tone_5</th>\n",
       "      <th>tone_6</th>\n",
       "      <th>tone_7</th>\n",
       "      <th>Open</th>\n",
       "      <th>Price</th>\n",
       "      <th>High</th>\n",
       "      <th>Low</th>\n",
       "      <th>Vol.</th>\n",
       "      <th>year</th>\n",
       "      <th>month</th>\n",
       "      <th>day</th>\n",
       "      <th>Close_price_next_3days</th>\n",
       "    </tr>\n",
       "  </thead>\n",
       "  <tbody>\n",
       "    <tr>\n",
       "      <th>0</th>\n",
       "      <td>-1.343669</td>\n",
       "      <td>6.655342</td>\n",
       "      <td>21.979880</td>\n",
       "      <td>0.775952</td>\n",
       "      <td>607.957274</td>\n",
       "      <td>429.0</td>\n",
       "      <td>434.0</td>\n",
       "      <td>436.5</td>\n",
       "      <td>426.3</td>\n",
       "      <td>12.97</td>\n",
       "      <td>2016</td>\n",
       "      <td>1</td>\n",
       "      <td>1</td>\n",
       "      <td>432.9</td>\n",
       "    </tr>\n",
       "    <tr>\n",
       "      <th>1</th>\n",
       "      <td>-1.244109</td>\n",
       "      <td>6.535910</td>\n",
       "      <td>22.072250</td>\n",
       "      <td>0.821951</td>\n",
       "      <td>605.368377</td>\n",
       "      <td>434.0</td>\n",
       "      <td>432.7</td>\n",
       "      <td>435.8</td>\n",
       "      <td>430.0</td>\n",
       "      <td>6.38</td>\n",
       "      <td>2016</td>\n",
       "      <td>1</td>\n",
       "      <td>2</td>\n",
       "      <td>431.8</td>\n",
       "    </tr>\n",
       "    <tr>\n",
       "      <th>2</th>\n",
       "      <td>-1.431284</td>\n",
       "      <td>6.477120</td>\n",
       "      <td>21.925045</td>\n",
       "      <td>0.843433</td>\n",
       "      <td>617.556213</td>\n",
       "      <td>432.7</td>\n",
       "      <td>428.7</td>\n",
       "      <td>433.1</td>\n",
       "      <td>422.0</td>\n",
       "      <td>19.18</td>\n",
       "      <td>2016</td>\n",
       "      <td>1</td>\n",
       "      <td>3</td>\n",
       "      <td>428.0</td>\n",
       "    </tr>\n",
       "    <tr>\n",
       "      <th>3</th>\n",
       "      <td>-1.526447</td>\n",
       "      <td>6.469927</td>\n",
       "      <td>21.797835</td>\n",
       "      <td>0.768344</td>\n",
       "      <td>553.286337</td>\n",
       "      <td>428.6</td>\n",
       "      <td>432.9</td>\n",
       "      <td>435.7</td>\n",
       "      <td>427.0</td>\n",
       "      <td>13.02</td>\n",
       "      <td>2016</td>\n",
       "      <td>1</td>\n",
       "      <td>4</td>\n",
       "      <td>459.0</td>\n",
       "    </tr>\n",
       "    <tr>\n",
       "      <th>4</th>\n",
       "      <td>-1.598543</td>\n",
       "      <td>6.471383</td>\n",
       "      <td>22.078865</td>\n",
       "      <td>0.735785</td>\n",
       "      <td>538.866279</td>\n",
       "      <td>432.9</td>\n",
       "      <td>431.8</td>\n",
       "      <td>434.9</td>\n",
       "      <td>428.2</td>\n",
       "      <td>11.22</td>\n",
       "      <td>2016</td>\n",
       "      <td>1</td>\n",
       "      <td>5</td>\n",
       "      <td>454.0</td>\n",
       "    </tr>\n",
       "    <tr>\n",
       "      <th>...</th>\n",
       "      <td>...</td>\n",
       "      <td>...</td>\n",
       "      <td>...</td>\n",
       "      <td>...</td>\n",
       "      <td>...</td>\n",
       "      <td>...</td>\n",
       "      <td>...</td>\n",
       "      <td>...</td>\n",
       "      <td>...</td>\n",
       "      <td>...</td>\n",
       "      <td>...</td>\n",
       "      <td>...</td>\n",
       "      <td>...</td>\n",
       "      <td>...</td>\n",
       "    </tr>\n",
       "    <tr>\n",
       "      <th>1193</th>\n",
       "      <td>-1.593917</td>\n",
       "      <td>6.643074</td>\n",
       "      <td>22.156372</td>\n",
       "      <td>0.719125</td>\n",
       "      <td>502.867004</td>\n",
       "      <td>5312.4</td>\n",
       "      <td>5216.3</td>\n",
       "      <td>5312.5</td>\n",
       "      <td>5173.5</td>\n",
       "      <td>11.90</td>\n",
       "      <td>2019</td>\n",
       "      <td>4</td>\n",
       "      <td>9</td>\n",
       "      <td>5114.0</td>\n",
       "    </tr>\n",
       "    <tr>\n",
       "      <th>1194</th>\n",
       "      <td>-1.370507</td>\n",
       "      <td>6.542384</td>\n",
       "      <td>22.540806</td>\n",
       "      <td>0.776257</td>\n",
       "      <td>515.239929</td>\n",
       "      <td>5213.0</td>\n",
       "      <td>5311.7</td>\n",
       "      <td>5487.4</td>\n",
       "      <td>5200.5</td>\n",
       "      <td>15.78</td>\n",
       "      <td>2019</td>\n",
       "      <td>4</td>\n",
       "      <td>10</td>\n",
       "      <td>5101.8</td>\n",
       "    </tr>\n",
       "    <tr>\n",
       "      <th>1195</th>\n",
       "      <td>-1.600174</td>\n",
       "      <td>6.664594</td>\n",
       "      <td>22.248266</td>\n",
       "      <td>0.751029</td>\n",
       "      <td>535.301331</td>\n",
       "      <td>5315.5</td>\n",
       "      <td>5065.8</td>\n",
       "      <td>5340.0</td>\n",
       "      <td>5001.1</td>\n",
       "      <td>19.39</td>\n",
       "      <td>2019</td>\n",
       "      <td>4</td>\n",
       "      <td>11</td>\n",
       "      <td>5194.3</td>\n",
       "    </tr>\n",
       "    <tr>\n",
       "      <th>1196</th>\n",
       "      <td>-1.658421</td>\n",
       "      <td>6.708574</td>\n",
       "      <td>22.262007</td>\n",
       "      <td>0.742972</td>\n",
       "      <td>522.282959</td>\n",
       "      <td>5059.0</td>\n",
       "      <td>5114.0</td>\n",
       "      <td>5134.9</td>\n",
       "      <td>4935.2</td>\n",
       "      <td>9.22</td>\n",
       "      <td>2019</td>\n",
       "      <td>4</td>\n",
       "      <td>12</td>\n",
       "      <td>5049.2</td>\n",
       "    </tr>\n",
       "    <tr>\n",
       "      <th>1197</th>\n",
       "      <td>-1.784899</td>\n",
       "      <td>6.596410</td>\n",
       "      <td>22.344313</td>\n",
       "      <td>0.772733</td>\n",
       "      <td>542.421143</td>\n",
       "      <td>5114.1</td>\n",
       "      <td>5101.8</td>\n",
       "      <td>5160.8</td>\n",
       "      <td>5075.3</td>\n",
       "      <td>5.21</td>\n",
       "      <td>2019</td>\n",
       "      <td>4</td>\n",
       "      <td>13</td>\n",
       "      <td>5234.3</td>\n",
       "    </tr>\n",
       "  </tbody>\n",
       "</table>\n",
       "<p>1198 rows × 14 columns</p>\n",
       "</div>"
      ],
      "text/plain": [
       "        tone_1    tone_4     tone_5    tone_6      tone_7    Open   Price  \\\n",
       "0    -1.343669  6.655342  21.979880  0.775952  607.957274   429.0   434.0   \n",
       "1    -1.244109  6.535910  22.072250  0.821951  605.368377   434.0   432.7   \n",
       "2    -1.431284  6.477120  21.925045  0.843433  617.556213   432.7   428.7   \n",
       "3    -1.526447  6.469927  21.797835  0.768344  553.286337   428.6   432.9   \n",
       "4    -1.598543  6.471383  22.078865  0.735785  538.866279   432.9   431.8   \n",
       "...        ...       ...        ...       ...         ...     ...     ...   \n",
       "1193 -1.593917  6.643074  22.156372  0.719125  502.867004  5312.4  5216.3   \n",
       "1194 -1.370507  6.542384  22.540806  0.776257  515.239929  5213.0  5311.7   \n",
       "1195 -1.600174  6.664594  22.248266  0.751029  535.301331  5315.5  5065.8   \n",
       "1196 -1.658421  6.708574  22.262007  0.742972  522.282959  5059.0  5114.0   \n",
       "1197 -1.784899  6.596410  22.344313  0.772733  542.421143  5114.1  5101.8   \n",
       "\n",
       "        High     Low   Vol.  year  month  day  Close_price_next_3days  \n",
       "0      436.5   426.3  12.97  2016      1    1                   432.9  \n",
       "1      435.8   430.0   6.38  2016      1    2                   431.8  \n",
       "2      433.1   422.0  19.18  2016      1    3                   428.0  \n",
       "3      435.7   427.0  13.02  2016      1    4                   459.0  \n",
       "4      434.9   428.2  11.22  2016      1    5                   454.0  \n",
       "...      ...     ...    ...   ...    ...  ...                     ...  \n",
       "1193  5312.5  5173.5  11.90  2019      4    9                  5114.0  \n",
       "1194  5487.4  5200.5  15.78  2019      4   10                  5101.8  \n",
       "1195  5340.0  5001.1  19.39  2019      4   11                  5194.3  \n",
       "1196  5134.9  4935.2   9.22  2019      4   12                  5049.2  \n",
       "1197  5160.8  5075.3   5.21  2019      4   13                  5234.3  \n",
       "\n",
       "[1198 rows x 14 columns]"
      ]
     },
     "execution_count": 27,
     "metadata": {},
     "output_type": "execute_result"
    }
   ],
   "source": [
    "df_3 = df_ml.iloc[:,1:].copy()\n",
    "changes2 = list(df_ml[\"Price\"].values) + [None]*3\n",
    "df_3[\"Close_price_next_3days\"] = [changes2[i+3] if i<df_ml.shape[0]-1 else None for i in range(df_ml.shape[0])] \n",
    "\n",
    "df_3 = df_3.dropna()\n",
    "df_3"
   ]
  },
  {
   "cell_type": "markdown",
   "metadata": {
    "heading_collapsed": true
   },
   "source": [
    "##### 7-day forecast"
   ]
  },
  {
   "cell_type": "code",
   "execution_count": 28,
   "metadata": {
    "ExecuteTime": {
     "end_time": "2021-01-25T06:59:33.721276Z",
     "start_time": "2021-01-25T06:59:33.682128Z"
    },
    "hidden": true
   },
   "outputs": [
    {
     "data": {
      "text/html": [
       "<div>\n",
       "<style scoped>\n",
       "    .dataframe tbody tr th:only-of-type {\n",
       "        vertical-align: middle;\n",
       "    }\n",
       "\n",
       "    .dataframe tbody tr th {\n",
       "        vertical-align: top;\n",
       "    }\n",
       "\n",
       "    .dataframe thead th {\n",
       "        text-align: right;\n",
       "    }\n",
       "</style>\n",
       "<table border=\"1\" class=\"dataframe\">\n",
       "  <thead>\n",
       "    <tr style=\"text-align: right;\">\n",
       "      <th></th>\n",
       "      <th>tone_1</th>\n",
       "      <th>tone_4</th>\n",
       "      <th>tone_5</th>\n",
       "      <th>tone_6</th>\n",
       "      <th>tone_7</th>\n",
       "      <th>Open</th>\n",
       "      <th>Price</th>\n",
       "      <th>High</th>\n",
       "      <th>Low</th>\n",
       "      <th>Vol.</th>\n",
       "      <th>year</th>\n",
       "      <th>month</th>\n",
       "      <th>day</th>\n",
       "      <th>Close_price_next_7days</th>\n",
       "    </tr>\n",
       "  </thead>\n",
       "  <tbody>\n",
       "    <tr>\n",
       "      <th>0</th>\n",
       "      <td>-1.343669</td>\n",
       "      <td>6.655342</td>\n",
       "      <td>21.979880</td>\n",
       "      <td>0.775952</td>\n",
       "      <td>607.957274</td>\n",
       "      <td>429.0</td>\n",
       "      <td>434.0</td>\n",
       "      <td>436.5</td>\n",
       "      <td>426.3</td>\n",
       "      <td>12.97</td>\n",
       "      <td>2016</td>\n",
       "      <td>1</td>\n",
       "      <td>1</td>\n",
       "      <td>454.0</td>\n",
       "    </tr>\n",
       "    <tr>\n",
       "      <th>1</th>\n",
       "      <td>-1.244109</td>\n",
       "      <td>6.535910</td>\n",
       "      <td>22.072250</td>\n",
       "      <td>0.821951</td>\n",
       "      <td>605.368377</td>\n",
       "      <td>434.0</td>\n",
       "      <td>432.7</td>\n",
       "      <td>435.8</td>\n",
       "      <td>430.0</td>\n",
       "      <td>6.38</td>\n",
       "      <td>2016</td>\n",
       "      <td>1</td>\n",
       "      <td>2</td>\n",
       "      <td>449.2</td>\n",
       "    </tr>\n",
       "    <tr>\n",
       "      <th>2</th>\n",
       "      <td>-1.431284</td>\n",
       "      <td>6.477120</td>\n",
       "      <td>21.925045</td>\n",
       "      <td>0.843433</td>\n",
       "      <td>617.556213</td>\n",
       "      <td>432.7</td>\n",
       "      <td>428.7</td>\n",
       "      <td>433.1</td>\n",
       "      <td>422.0</td>\n",
       "      <td>19.18</td>\n",
       "      <td>2016</td>\n",
       "      <td>1</td>\n",
       "      <td>3</td>\n",
       "      <td>449.4</td>\n",
       "    </tr>\n",
       "    <tr>\n",
       "      <th>3</th>\n",
       "      <td>-1.526447</td>\n",
       "      <td>6.469927</td>\n",
       "      <td>21.797835</td>\n",
       "      <td>0.768344</td>\n",
       "      <td>553.286337</td>\n",
       "      <td>428.6</td>\n",
       "      <td>432.9</td>\n",
       "      <td>435.7</td>\n",
       "      <td>427.0</td>\n",
       "      <td>13.02</td>\n",
       "      <td>2016</td>\n",
       "      <td>1</td>\n",
       "      <td>4</td>\n",
       "      <td>449.3</td>\n",
       "    </tr>\n",
       "    <tr>\n",
       "      <th>4</th>\n",
       "      <td>-1.598543</td>\n",
       "      <td>6.471383</td>\n",
       "      <td>22.078865</td>\n",
       "      <td>0.735785</td>\n",
       "      <td>538.866279</td>\n",
       "      <td>432.9</td>\n",
       "      <td>431.8</td>\n",
       "      <td>434.9</td>\n",
       "      <td>428.2</td>\n",
       "      <td>11.22</td>\n",
       "      <td>2016</td>\n",
       "      <td>1</td>\n",
       "      <td>5</td>\n",
       "      <td>432.0</td>\n",
       "    </tr>\n",
       "    <tr>\n",
       "      <th>...</th>\n",
       "      <td>...</td>\n",
       "      <td>...</td>\n",
       "      <td>...</td>\n",
       "      <td>...</td>\n",
       "      <td>...</td>\n",
       "      <td>...</td>\n",
       "      <td>...</td>\n",
       "      <td>...</td>\n",
       "      <td>...</td>\n",
       "      <td>...</td>\n",
       "      <td>...</td>\n",
       "      <td>...</td>\n",
       "      <td>...</td>\n",
       "      <td>...</td>\n",
       "    </tr>\n",
       "    <tr>\n",
       "      <th>1189</th>\n",
       "      <td>-1.578340</td>\n",
       "      <td>6.508352</td>\n",
       "      <td>22.514711</td>\n",
       "      <td>0.731412</td>\n",
       "      <td>516.285278</td>\n",
       "      <td>4939.3</td>\n",
       "      <td>5080.4</td>\n",
       "      <td>5130.0</td>\n",
       "      <td>4930.1</td>\n",
       "      <td>11.36</td>\n",
       "      <td>2019</td>\n",
       "      <td>4</td>\n",
       "      <td>5</td>\n",
       "      <td>5114.0</td>\n",
       "    </tr>\n",
       "    <tr>\n",
       "      <th>1190</th>\n",
       "      <td>-1.623582</td>\n",
       "      <td>6.561295</td>\n",
       "      <td>22.208412</td>\n",
       "      <td>0.815077</td>\n",
       "      <td>556.772400</td>\n",
       "      <td>5080.4</td>\n",
       "      <td>5090.5</td>\n",
       "      <td>5280.0</td>\n",
       "      <td>4968.1</td>\n",
       "      <td>14.20</td>\n",
       "      <td>2019</td>\n",
       "      <td>4</td>\n",
       "      <td>6</td>\n",
       "      <td>5101.8</td>\n",
       "    </tr>\n",
       "    <tr>\n",
       "      <th>1191</th>\n",
       "      <td>-1.286160</td>\n",
       "      <td>6.579202</td>\n",
       "      <td>22.162724</td>\n",
       "      <td>0.828345</td>\n",
       "      <td>553.663635</td>\n",
       "      <td>5091.1</td>\n",
       "      <td>5238.1</td>\n",
       "      <td>5313.1</td>\n",
       "      <td>5075.0</td>\n",
       "      <td>9.95</td>\n",
       "      <td>2019</td>\n",
       "      <td>4</td>\n",
       "      <td>7</td>\n",
       "      <td>5194.3</td>\n",
       "    </tr>\n",
       "    <tr>\n",
       "      <th>1192</th>\n",
       "      <td>-1.303974</td>\n",
       "      <td>6.478998</td>\n",
       "      <td>22.117823</td>\n",
       "      <td>0.754297</td>\n",
       "      <td>521.377441</td>\n",
       "      <td>5238.9</td>\n",
       "      <td>5312.5</td>\n",
       "      <td>5361.7</td>\n",
       "      <td>5148.5</td>\n",
       "      <td>17.82</td>\n",
       "      <td>2019</td>\n",
       "      <td>4</td>\n",
       "      <td>8</td>\n",
       "      <td>5049.2</td>\n",
       "    </tr>\n",
       "    <tr>\n",
       "      <th>1193</th>\n",
       "      <td>-1.593917</td>\n",
       "      <td>6.643074</td>\n",
       "      <td>22.156372</td>\n",
       "      <td>0.719125</td>\n",
       "      <td>502.867004</td>\n",
       "      <td>5312.4</td>\n",
       "      <td>5216.3</td>\n",
       "      <td>5312.5</td>\n",
       "      <td>5173.5</td>\n",
       "      <td>11.90</td>\n",
       "      <td>2019</td>\n",
       "      <td>4</td>\n",
       "      <td>9</td>\n",
       "      <td>5234.3</td>\n",
       "    </tr>\n",
       "  </tbody>\n",
       "</table>\n",
       "<p>1194 rows × 14 columns</p>\n",
       "</div>"
      ],
      "text/plain": [
       "        tone_1    tone_4     tone_5    tone_6      tone_7    Open   Price  \\\n",
       "0    -1.343669  6.655342  21.979880  0.775952  607.957274   429.0   434.0   \n",
       "1    -1.244109  6.535910  22.072250  0.821951  605.368377   434.0   432.7   \n",
       "2    -1.431284  6.477120  21.925045  0.843433  617.556213   432.7   428.7   \n",
       "3    -1.526447  6.469927  21.797835  0.768344  553.286337   428.6   432.9   \n",
       "4    -1.598543  6.471383  22.078865  0.735785  538.866279   432.9   431.8   \n",
       "...        ...       ...        ...       ...         ...     ...     ...   \n",
       "1189 -1.578340  6.508352  22.514711  0.731412  516.285278  4939.3  5080.4   \n",
       "1190 -1.623582  6.561295  22.208412  0.815077  556.772400  5080.4  5090.5   \n",
       "1191 -1.286160  6.579202  22.162724  0.828345  553.663635  5091.1  5238.1   \n",
       "1192 -1.303974  6.478998  22.117823  0.754297  521.377441  5238.9  5312.5   \n",
       "1193 -1.593917  6.643074  22.156372  0.719125  502.867004  5312.4  5216.3   \n",
       "\n",
       "        High     Low   Vol.  year  month  day  Close_price_next_7days  \n",
       "0      436.5   426.3  12.97  2016      1    1                   454.0  \n",
       "1      435.8   430.0   6.38  2016      1    2                   449.2  \n",
       "2      433.1   422.0  19.18  2016      1    3                   449.4  \n",
       "3      435.7   427.0  13.02  2016      1    4                   449.3  \n",
       "4      434.9   428.2  11.22  2016      1    5                   432.0  \n",
       "...      ...     ...    ...   ...    ...  ...                     ...  \n",
       "1189  5130.0  4930.1  11.36  2019      4    5                  5114.0  \n",
       "1190  5280.0  4968.1  14.20  2019      4    6                  5101.8  \n",
       "1191  5313.1  5075.0   9.95  2019      4    7                  5194.3  \n",
       "1192  5361.7  5148.5  17.82  2019      4    8                  5049.2  \n",
       "1193  5312.5  5173.5  11.90  2019      4    9                  5234.3  \n",
       "\n",
       "[1194 rows x 14 columns]"
      ]
     },
     "execution_count": 28,
     "metadata": {},
     "output_type": "execute_result"
    }
   ],
   "source": [
    "df_7 = df_ml.iloc[:,1:].copy()\n",
    "changes2 = list(df_ml[\"Price\"].values) + [None]*7\n",
    "df_7[\"Close_price_next_7days\"] = [changes2[i+7] if i<df_ml.shape[0]-1 else None for i in range(df_ml.shape[0])] \n",
    "\n",
    "df_7 = df_7.dropna()\n",
    "df_7"
   ]
  },
  {
   "cell_type": "markdown",
   "metadata": {
    "ExecuteTime": {
     "end_time": "2021-01-06T10:21:18.371660Z",
     "start_time": "2021-01-06T10:21:18.367354Z"
    }
   },
   "source": [
    "### Build and Evaluate ML models"
   ]
  },
  {
   "cell_type": "markdown",
   "metadata": {},
   "source": [
    "In this section, we developed three machine learning models: `Random Forest`, `XGBoost`, and `Gradient Boosting Regressor`. We trained these models using different forecasting setup that we have mentioned in the previous section. Moreover, we will evaluate the performance of each of these models using their `RMSE` and `MAE` scores."
   ]
  },
  {
   "cell_type": "code",
   "execution_count": 29,
   "metadata": {
    "ExecuteTime": {
     "end_time": "2021-01-25T06:59:34.896853Z",
     "start_time": "2021-01-25T06:59:34.629049Z"
    }
   },
   "outputs": [],
   "source": [
    "from sklearn.metrics import mean_squared_error, mean_absolute_error\n",
    "from sklearn.ensemble import RandomForestRegressor, GradientBoostingRegressor\n",
    "from xgboost import XGBRegressor\n",
    "from sklearn.model_selection import GridSearchCV\n",
    "\n",
    "#!pip install xgboost\n",
    "#!pip install --upgrade xgboost"
   ]
  },
  {
   "cell_type": "markdown",
   "metadata": {},
   "source": [
    "#### ML for predicting price tomorrow"
   ]
  },
  {
   "cell_type": "code",
   "execution_count": 30,
   "metadata": {
    "ExecuteTime": {
     "end_time": "2021-01-25T06:59:35.393919Z",
     "start_time": "2021-01-25T06:59:35.359847Z"
    }
   },
   "outputs": [
    {
     "name": "stdout",
     "output_type": "stream",
     "text": [
      "shape of train and test df: (840, 14) (360, 14)\n"
     ]
    },
    {
     "data": {
      "text/html": [
       "<div>\n",
       "<style scoped>\n",
       "    .dataframe tbody tr th:only-of-type {\n",
       "        vertical-align: middle;\n",
       "    }\n",
       "\n",
       "    .dataframe tbody tr th {\n",
       "        vertical-align: top;\n",
       "    }\n",
       "\n",
       "    .dataframe thead th {\n",
       "        text-align: right;\n",
       "    }\n",
       "</style>\n",
       "<table border=\"1\" class=\"dataframe\">\n",
       "  <thead>\n",
       "    <tr style=\"text-align: right;\">\n",
       "      <th></th>\n",
       "      <th>tone_1</th>\n",
       "      <th>tone_4</th>\n",
       "      <th>tone_5</th>\n",
       "      <th>tone_6</th>\n",
       "      <th>tone_7</th>\n",
       "      <th>Open</th>\n",
       "      <th>Price</th>\n",
       "      <th>High</th>\n",
       "      <th>Low</th>\n",
       "      <th>Vol.</th>\n",
       "      <th>year</th>\n",
       "      <th>month</th>\n",
       "      <th>day</th>\n",
       "      <th>Close_price_tomorrow</th>\n",
       "    </tr>\n",
       "  </thead>\n",
       "  <tbody>\n",
       "    <tr>\n",
       "      <th>0</th>\n",
       "      <td>-1.343669</td>\n",
       "      <td>6.655342</td>\n",
       "      <td>21.979880</td>\n",
       "      <td>0.775952</td>\n",
       "      <td>607.957274</td>\n",
       "      <td>429.0</td>\n",
       "      <td>434.0</td>\n",
       "      <td>436.5</td>\n",
       "      <td>426.3</td>\n",
       "      <td>12.97</td>\n",
       "      <td>2016</td>\n",
       "      <td>1</td>\n",
       "      <td>1</td>\n",
       "      <td>432.7</td>\n",
       "    </tr>\n",
       "    <tr>\n",
       "      <th>1</th>\n",
       "      <td>-1.244109</td>\n",
       "      <td>6.535910</td>\n",
       "      <td>22.072250</td>\n",
       "      <td>0.821951</td>\n",
       "      <td>605.368377</td>\n",
       "      <td>434.0</td>\n",
       "      <td>432.7</td>\n",
       "      <td>435.8</td>\n",
       "      <td>430.0</td>\n",
       "      <td>6.38</td>\n",
       "      <td>2016</td>\n",
       "      <td>1</td>\n",
       "      <td>2</td>\n",
       "      <td>428.7</td>\n",
       "    </tr>\n",
       "    <tr>\n",
       "      <th>2</th>\n",
       "      <td>-1.431284</td>\n",
       "      <td>6.477120</td>\n",
       "      <td>21.925045</td>\n",
       "      <td>0.843433</td>\n",
       "      <td>617.556213</td>\n",
       "      <td>432.7</td>\n",
       "      <td>428.7</td>\n",
       "      <td>433.1</td>\n",
       "      <td>422.0</td>\n",
       "      <td>19.18</td>\n",
       "      <td>2016</td>\n",
       "      <td>1</td>\n",
       "      <td>3</td>\n",
       "      <td>432.9</td>\n",
       "    </tr>\n",
       "    <tr>\n",
       "      <th>3</th>\n",
       "      <td>-1.526447</td>\n",
       "      <td>6.469927</td>\n",
       "      <td>21.797835</td>\n",
       "      <td>0.768344</td>\n",
       "      <td>553.286337</td>\n",
       "      <td>428.6</td>\n",
       "      <td>432.9</td>\n",
       "      <td>435.7</td>\n",
       "      <td>427.0</td>\n",
       "      <td>13.02</td>\n",
       "      <td>2016</td>\n",
       "      <td>1</td>\n",
       "      <td>4</td>\n",
       "      <td>431.8</td>\n",
       "    </tr>\n",
       "    <tr>\n",
       "      <th>4</th>\n",
       "      <td>-1.598543</td>\n",
       "      <td>6.471383</td>\n",
       "      <td>22.078865</td>\n",
       "      <td>0.735785</td>\n",
       "      <td>538.866279</td>\n",
       "      <td>432.9</td>\n",
       "      <td>431.8</td>\n",
       "      <td>434.9</td>\n",
       "      <td>428.2</td>\n",
       "      <td>11.22</td>\n",
       "      <td>2016</td>\n",
       "      <td>1</td>\n",
       "      <td>5</td>\n",
       "      <td>428.0</td>\n",
       "    </tr>\n",
       "    <tr>\n",
       "      <th>...</th>\n",
       "      <td>...</td>\n",
       "      <td>...</td>\n",
       "      <td>...</td>\n",
       "      <td>...</td>\n",
       "      <td>...</td>\n",
       "      <td>...</td>\n",
       "      <td>...</td>\n",
       "      <td>...</td>\n",
       "      <td>...</td>\n",
       "      <td>...</td>\n",
       "      <td>...</td>\n",
       "      <td>...</td>\n",
       "      <td>...</td>\n",
       "      <td>...</td>\n",
       "    </tr>\n",
       "    <tr>\n",
       "      <th>1195</th>\n",
       "      <td>-1.600174</td>\n",
       "      <td>6.664594</td>\n",
       "      <td>22.248266</td>\n",
       "      <td>0.751029</td>\n",
       "      <td>535.301331</td>\n",
       "      <td>5315.5</td>\n",
       "      <td>5065.8</td>\n",
       "      <td>5340.0</td>\n",
       "      <td>5001.1</td>\n",
       "      <td>19.39</td>\n",
       "      <td>2019</td>\n",
       "      <td>4</td>\n",
       "      <td>11</td>\n",
       "      <td>5114.0</td>\n",
       "    </tr>\n",
       "    <tr>\n",
       "      <th>1196</th>\n",
       "      <td>-1.658421</td>\n",
       "      <td>6.708574</td>\n",
       "      <td>22.262007</td>\n",
       "      <td>0.742972</td>\n",
       "      <td>522.282959</td>\n",
       "      <td>5059.0</td>\n",
       "      <td>5114.0</td>\n",
       "      <td>5134.9</td>\n",
       "      <td>4935.2</td>\n",
       "      <td>9.22</td>\n",
       "      <td>2019</td>\n",
       "      <td>4</td>\n",
       "      <td>12</td>\n",
       "      <td>5101.8</td>\n",
       "    </tr>\n",
       "    <tr>\n",
       "      <th>1197</th>\n",
       "      <td>-1.784899</td>\n",
       "      <td>6.596410</td>\n",
       "      <td>22.344313</td>\n",
       "      <td>0.772733</td>\n",
       "      <td>542.421143</td>\n",
       "      <td>5114.1</td>\n",
       "      <td>5101.8</td>\n",
       "      <td>5160.8</td>\n",
       "      <td>5075.3</td>\n",
       "      <td>5.21</td>\n",
       "      <td>2019</td>\n",
       "      <td>4</td>\n",
       "      <td>13</td>\n",
       "      <td>5194.3</td>\n",
       "    </tr>\n",
       "    <tr>\n",
       "      <th>1198</th>\n",
       "      <td>-1.454346</td>\n",
       "      <td>6.347813</td>\n",
       "      <td>22.210037</td>\n",
       "      <td>0.764803</td>\n",
       "      <td>553.637451</td>\n",
       "      <td>5103.7</td>\n",
       "      <td>5194.3</td>\n",
       "      <td>5209.0</td>\n",
       "      <td>5064.2</td>\n",
       "      <td>4.15</td>\n",
       "      <td>2019</td>\n",
       "      <td>4</td>\n",
       "      <td>14</td>\n",
       "      <td>5049.2</td>\n",
       "    </tr>\n",
       "    <tr>\n",
       "      <th>1199</th>\n",
       "      <td>-1.332284</td>\n",
       "      <td>6.497554</td>\n",
       "      <td>22.145336</td>\n",
       "      <td>0.759225</td>\n",
       "      <td>520.021301</td>\n",
       "      <td>5190.1</td>\n",
       "      <td>5049.2</td>\n",
       "      <td>5217.1</td>\n",
       "      <td>5000.7</td>\n",
       "      <td>9.52</td>\n",
       "      <td>2019</td>\n",
       "      <td>4</td>\n",
       "      <td>15</td>\n",
       "      <td>5234.3</td>\n",
       "    </tr>\n",
       "  </tbody>\n",
       "</table>\n",
       "<p>1200 rows × 14 columns</p>\n",
       "</div>"
      ],
      "text/plain": [
       "        tone_1    tone_4     tone_5    tone_6      tone_7    Open   Price  \\\n",
       "0    -1.343669  6.655342  21.979880  0.775952  607.957274   429.0   434.0   \n",
       "1    -1.244109  6.535910  22.072250  0.821951  605.368377   434.0   432.7   \n",
       "2    -1.431284  6.477120  21.925045  0.843433  617.556213   432.7   428.7   \n",
       "3    -1.526447  6.469927  21.797835  0.768344  553.286337   428.6   432.9   \n",
       "4    -1.598543  6.471383  22.078865  0.735785  538.866279   432.9   431.8   \n",
       "...        ...       ...        ...       ...         ...     ...     ...   \n",
       "1195 -1.600174  6.664594  22.248266  0.751029  535.301331  5315.5  5065.8   \n",
       "1196 -1.658421  6.708574  22.262007  0.742972  522.282959  5059.0  5114.0   \n",
       "1197 -1.784899  6.596410  22.344313  0.772733  542.421143  5114.1  5101.8   \n",
       "1198 -1.454346  6.347813  22.210037  0.764803  553.637451  5103.7  5194.3   \n",
       "1199 -1.332284  6.497554  22.145336  0.759225  520.021301  5190.1  5049.2   \n",
       "\n",
       "        High     Low   Vol.  year  month  day  Close_price_tomorrow  \n",
       "0      436.5   426.3  12.97  2016      1    1                 432.7  \n",
       "1      435.8   430.0   6.38  2016      1    2                 428.7  \n",
       "2      433.1   422.0  19.18  2016      1    3                 432.9  \n",
       "3      435.7   427.0  13.02  2016      1    4                 431.8  \n",
       "4      434.9   428.2  11.22  2016      1    5                 428.0  \n",
       "...      ...     ...    ...   ...    ...  ...                   ...  \n",
       "1195  5340.0  5001.1  19.39  2019      4   11                5114.0  \n",
       "1196  5134.9  4935.2   9.22  2019      4   12                5101.8  \n",
       "1197  5160.8  5075.3   5.21  2019      4   13                5194.3  \n",
       "1198  5209.0  5064.2   4.15  2019      4   14                5049.2  \n",
       "1199  5217.1  5000.7   9.52  2019      4   15                5234.3  \n",
       "\n",
       "[1200 rows x 14 columns]"
      ]
     },
     "execution_count": 30,
     "metadata": {},
     "output_type": "execute_result"
    }
   ],
   "source": [
    "shape = df_0.shape\n",
    "train_0 = df_0.iloc[:int(shape[0]*0.7)]\n",
    "test_0 = df_0.iloc[int(shape[0]*0.7):]\n",
    "columns = train_0.columns\n",
    "print(\"shape of train and test df:\", train_0.shape, test_0.shape)\n",
    "\n",
    "df_0"
   ]
  },
  {
   "cell_type": "markdown",
   "metadata": {
    "heading_collapsed": true
   },
   "source": [
    "##### Random Forest"
   ]
  },
  {
   "cell_type": "code",
   "execution_count": 31,
   "metadata": {
    "ExecuteTime": {
     "end_time": "2021-01-25T06:59:35.871664Z",
     "start_time": "2021-01-25T06:59:35.696235Z"
    },
    "hidden": true
   },
   "outputs": [
    {
     "data": {
      "text/plain": [
       "RandomForestRegressor(n_estimators=50, n_jobs=-1)"
      ]
     },
     "execution_count": 31,
     "metadata": {},
     "output_type": "execute_result"
    }
   ],
   "source": [
    "rf0 = RandomForestRegressor(n_estimators=50, n_jobs=-1)\n",
    "rf0.fit(train_0[columns[:-1]], train_0[columns[-1]])"
   ]
  },
  {
   "cell_type": "code",
   "execution_count": 32,
   "metadata": {
    "ExecuteTime": {
     "end_time": "2021-01-25T06:59:36.179235Z",
     "start_time": "2021-01-25T06:59:36.149193Z"
    },
    "hidden": true
   },
   "outputs": [
    {
     "data": {
      "text/plain": [
       "301.65228552849817"
      ]
     },
     "execution_count": 32,
     "metadata": {},
     "output_type": "execute_result"
    }
   ],
   "source": [
    "# rmse\n",
    "np.sqrt(mean_squared_error(test_0[columns[-1]], rf0.predict(test_0[columns[:-1]])))"
   ]
  },
  {
   "cell_type": "code",
   "execution_count": 33,
   "metadata": {
    "ExecuteTime": {
     "end_time": "2021-01-25T06:59:36.714777Z",
     "start_time": "2021-01-25T06:59:36.676958Z"
    },
    "hidden": true
   },
   "outputs": [
    {
     "data": {
      "text/plain": [
       "222.50999444444443"
      ]
     },
     "execution_count": 33,
     "metadata": {},
     "output_type": "execute_result"
    }
   ],
   "source": [
    "mean_absolute_error(test_0[columns[-1]], rf0.predict(test_0[columns[:-1]]))"
   ]
  },
  {
   "cell_type": "markdown",
   "metadata": {
    "hidden": true
   },
   "source": [
    "###### Hyperparameter Tuning"
   ]
  },
  {
   "cell_type": "code",
   "execution_count": 34,
   "metadata": {
    "ExecuteTime": {
     "end_time": "2021-01-25T07:08:56.153624Z",
     "start_time": "2021-01-25T06:59:37.871095Z"
    },
    "hidden": true
   },
   "outputs": [
    {
     "name": "stdout",
     "output_type": "stream",
     "text": [
      "Fitting 3 folds for each of 1440 candidates, totalling 4320 fits\n"
     ]
    },
    {
     "name": "stderr",
     "output_type": "stream",
     "text": [
      "[Parallel(n_jobs=-1)]: Using backend LokyBackend with 4 concurrent workers.\n",
      "[Parallel(n_jobs=-1)]: Done  42 tasks      | elapsed:    7.7s\n",
      "[Parallel(n_jobs=-1)]: Done 192 tasks      | elapsed:   27.9s\n",
      "[Parallel(n_jobs=-1)]: Done 442 tasks      | elapsed:   59.5s\n",
      "[Parallel(n_jobs=-1)]: Done 792 tasks      | elapsed:  1.8min\n",
      "[Parallel(n_jobs=-1)]: Done 1242 tasks      | elapsed:  2.7min\n",
      "[Parallel(n_jobs=-1)]: Done 1792 tasks      | elapsed:  3.9min\n",
      "[Parallel(n_jobs=-1)]: Done 2442 tasks      | elapsed:  5.3min\n",
      "[Parallel(n_jobs=-1)]: Done 3192 tasks      | elapsed:  6.9min\n",
      "[Parallel(n_jobs=-1)]: Done 4042 tasks      | elapsed:  8.7min\n",
      "[Parallel(n_jobs=-1)]: Done 4320 out of 4320 | elapsed:  9.3min finished\n"
     ]
    },
    {
     "data": {
      "text/plain": [
       "RandomForestRegressor(max_depth=100, min_samples_leaf=2, min_samples_split=4,\n",
       "                      n_estimators=50)"
      ]
     },
     "execution_count": 34,
     "metadata": {},
     "output_type": "execute_result"
    }
   ],
   "source": [
    "parameters = {'n_estimators': np.arange(50, 300, 50),\n",
    "                           'max_depth': np.arange(50, 500, 50),\n",
    "                           'min_samples_split': np.arange(2, 10, 1),\n",
    "                           'min_samples_leaf': np.arange(1, 5, 1)}\n",
    "grid_search_cv = (GridSearchCV(estimator=RandomForestRegressor(),\n",
    "                               param_grid=parameters, verbose=1, cv=3,\n",
    "                               n_jobs=-1).fit(train_0[columns[:-1]], train_0[columns[-1]]))\n",
    "rf1 = grid_search_cv.best_estimator_\n",
    "rf1"
   ]
  },
  {
   "cell_type": "code",
   "execution_count": 35,
   "metadata": {
    "ExecuteTime": {
     "end_time": "2021-01-25T07:08:56.168668Z",
     "start_time": "2021-01-25T07:08:56.155918Z"
    },
    "hidden": true
   },
   "outputs": [
    {
     "data": {
      "text/plain": [
       "296.956599225871"
      ]
     },
     "execution_count": 35,
     "metadata": {},
     "output_type": "execute_result"
    }
   ],
   "source": [
    "# rmse\n",
    "np.sqrt(mean_squared_error(test_0[columns[-1]], rf1.predict(test_0[columns[:-1]])))"
   ]
  },
  {
   "cell_type": "code",
   "execution_count": 36,
   "metadata": {
    "ExecuteTime": {
     "end_time": "2021-01-25T07:08:56.181852Z",
     "start_time": "2021-01-25T07:08:56.170662Z"
    },
    "hidden": true
   },
   "outputs": [
    {
     "data": {
      "text/plain": [
       "221.2244986089063"
      ]
     },
     "execution_count": 36,
     "metadata": {},
     "output_type": "execute_result"
    }
   ],
   "source": [
    "# mae\n",
    "mean_absolute_error(test_0[columns[-1]], rf1.predict(test_0[columns[:-1]]))"
   ]
  },
  {
   "cell_type": "markdown",
   "metadata": {
    "heading_collapsed": true
   },
   "source": [
    "##### XGBoost"
   ]
  },
  {
   "cell_type": "code",
   "execution_count": 37,
   "metadata": {
    "ExecuteTime": {
     "end_time": "2021-01-25T07:08:58.943508Z",
     "start_time": "2021-01-25T07:08:56.183607Z"
    },
    "hidden": true
   },
   "outputs": [
    {
     "data": {
      "text/plain": [
       "XGBRegressor(base_score=0.5, booster='gbtree', colsample_bylevel=1,\n",
       "             colsample_bynode=1, colsample_bytree=1, gamma=0, gpu_id=-1,\n",
       "             importance_type='gain', interaction_constraints='',\n",
       "             learning_rate=0.300000012, max_delta_step=0, max_depth=6,\n",
       "             min_child_weight=1, missing=nan, monotone_constraints='()',\n",
       "             n_estimators=100, n_jobs=32, num_parallel_tree=1, random_state=0,\n",
       "             reg_alpha=0, reg_lambda=1, scale_pos_weight=1, subsample=1,\n",
       "             tree_method='exact', validate_parameters=1, verbosity=None)"
      ]
     },
     "execution_count": 37,
     "metadata": {},
     "output_type": "execute_result"
    }
   ],
   "source": [
    "xg0 = XGBRegressor()\n",
    "xg0.fit(train_0[columns[:-1]].values, train_0[columns[-1]].values)"
   ]
  },
  {
   "cell_type": "code",
   "execution_count": 38,
   "metadata": {
    "ExecuteTime": {
     "end_time": "2021-01-25T07:08:58.994330Z",
     "start_time": "2021-01-25T07:08:58.945948Z"
    },
    "hidden": true
   },
   "outputs": [
    {
     "data": {
      "text/plain": [
       "306.35182334901657"
      ]
     },
     "execution_count": 38,
     "metadata": {},
     "output_type": "execute_result"
    }
   ],
   "source": [
    "np.sqrt(mean_squared_error(test_0[columns[-1]], xg0.predict(test_0[columns[:-1]].values)))"
   ]
  },
  {
   "cell_type": "code",
   "execution_count": 39,
   "metadata": {
    "ExecuteTime": {
     "end_time": "2021-01-25T07:08:59.240360Z",
     "start_time": "2021-01-25T07:08:58.997321Z"
    },
    "hidden": true
   },
   "outputs": [
    {
     "data": {
      "text/plain": [
       "232.71493489583332"
      ]
     },
     "execution_count": 39,
     "metadata": {},
     "output_type": "execute_result"
    }
   ],
   "source": [
    "mean_absolute_error(test_0[columns[-1]], xg0.predict(test_0[columns[:-1]].values))"
   ]
  },
  {
   "cell_type": "markdown",
   "metadata": {
    "heading_collapsed": true
   },
   "source": [
    "##### GBM"
   ]
  },
  {
   "cell_type": "code",
   "execution_count": 40,
   "metadata": {
    "ExecuteTime": {
     "end_time": "2021-01-25T07:08:59.430109Z",
     "start_time": "2021-01-25T07:08:59.243389Z"
    },
    "hidden": true
   },
   "outputs": [
    {
     "data": {
      "text/plain": [
       "GradientBoostingRegressor(n_estimators=50)"
      ]
     },
     "execution_count": 40,
     "metadata": {},
     "output_type": "execute_result"
    }
   ],
   "source": [
    "gbm0 = GradientBoostingRegressor(n_estimators=50)\n",
    "gbm0.fit(train_0[columns[:-1]], train_0[columns[-1]])"
   ]
  },
  {
   "cell_type": "code",
   "execution_count": 41,
   "metadata": {
    "ExecuteTime": {
     "end_time": "2021-01-25T07:08:59.445151Z",
     "start_time": "2021-01-25T07:08:59.434488Z"
    },
    "hidden": true
   },
   "outputs": [
    {
     "data": {
      "text/plain": [
       "251.6263160997507"
      ]
     },
     "execution_count": 41,
     "metadata": {},
     "output_type": "execute_result"
    }
   ],
   "source": [
    "np.sqrt(mean_squared_error(test_0[columns[-1]], gbm0.predict(test_0[columns[:-1]])))"
   ]
  },
  {
   "cell_type": "code",
   "execution_count": 42,
   "metadata": {
    "ExecuteTime": {
     "end_time": "2021-01-25T07:08:59.455597Z",
     "start_time": "2021-01-25T07:08:59.447404Z"
    },
    "hidden": true
   },
   "outputs": [
    {
     "data": {
      "text/plain": [
       "181.03929723369328"
      ]
     },
     "execution_count": 42,
     "metadata": {},
     "output_type": "execute_result"
    }
   ],
   "source": [
    "mean_absolute_error(test_0[columns[-1]], gbm0.predict(test_0[columns[:-1]]))"
   ]
  },
  {
   "cell_type": "markdown",
   "metadata": {
    "hidden": true
   },
   "source": [
    "###### Hyperparameter Tuning"
   ]
  },
  {
   "cell_type": "code",
   "execution_count": 43,
   "metadata": {
    "ExecuteTime": {
     "end_time": "2021-01-25T07:26:12.813018Z",
     "start_time": "2021-01-25T07:08:59.457630Z"
    },
    "hidden": true
   },
   "outputs": [
    {
     "name": "stdout",
     "output_type": "stream",
     "text": [
      "Fitting 3 folds for each of 900 candidates, totalling 2700 fits\n"
     ]
    },
    {
     "name": "stderr",
     "output_type": "stream",
     "text": [
      "[Parallel(n_jobs=-1)]: Using backend LokyBackend with 4 concurrent workers.\n",
      "[Parallel(n_jobs=-1)]: Done  42 tasks      | elapsed:   10.5s\n",
      "[Parallel(n_jobs=-1)]: Done 192 tasks      | elapsed:   48.6s\n",
      "[Parallel(n_jobs=-1)]: Done 442 tasks      | elapsed:  1.9min\n",
      "[Parallel(n_jobs=-1)]: Done 792 tasks      | elapsed:  3.8min\n",
      "[Parallel(n_jobs=-1)]: Done 1242 tasks      | elapsed:  6.7min\n",
      "[Parallel(n_jobs=-1)]: Done 1792 tasks      | elapsed: 10.6min\n",
      "[Parallel(n_jobs=-1)]: Done 2442 tasks      | elapsed: 15.3min\n",
      "[Parallel(n_jobs=-1)]: Done 2700 out of 2700 | elapsed: 17.2min finished\n"
     ]
    },
    {
     "data": {
      "text/plain": [
       "GradientBoostingRegressor(learning_rate=0.30000000000000004, max_depth=50,\n",
       "                          min_samples_leaf=4, n_estimators=200)"
      ]
     },
     "execution_count": 43,
     "metadata": {},
     "output_type": "execute_result"
    }
   ],
   "source": [
    "# GradientBoostingClassifier\n",
    "parameters = {'learning_rate': np.arange(0.1, 1, 0.2),\n",
    "              'n_estimators': np.arange(50, 300, 50),\n",
    "              'max_depth': np.arange(50, 500, 50),\n",
    "              'min_samples_leaf': np.arange(1, 5, 1)}\n",
    "grid_search_cv = (GridSearchCV(estimator=GradientBoostingRegressor(),\n",
    "                               param_grid=parameters, verbose=1, cv=3,\n",
    "                               n_jobs=-1).fit(train_0[columns[:-1]], train_0[columns[-1]]))\n",
    "gbm1 = grid_search_cv.best_estimator_\n",
    "gbm1"
   ]
  },
  {
   "cell_type": "code",
   "execution_count": 44,
   "metadata": {
    "ExecuteTime": {
     "end_time": "2021-01-25T07:26:12.836058Z",
     "start_time": "2021-01-25T07:26:12.815800Z"
    },
    "hidden": true
   },
   "outputs": [
    {
     "data": {
      "text/plain": [
       "320.23478275044494"
      ]
     },
     "execution_count": 44,
     "metadata": {},
     "output_type": "execute_result"
    }
   ],
   "source": [
    "np.sqrt(mean_squared_error(test_0[columns[-1]], gbm1.predict(test_0[columns[:-1]])))"
   ]
  },
  {
   "cell_type": "code",
   "execution_count": 45,
   "metadata": {
    "ExecuteTime": {
     "end_time": "2021-01-25T07:26:12.854218Z",
     "start_time": "2021-01-25T07:26:12.838260Z"
    },
    "hidden": true
   },
   "outputs": [
    {
     "data": {
      "text/plain": [
       "250.62408773713227"
      ]
     },
     "execution_count": 45,
     "metadata": {},
     "output_type": "execute_result"
    }
   ],
   "source": [
    "mean_absolute_error(test_0[columns[-1]], gbm1.predict(test_0[columns[:-1]]))"
   ]
  },
  {
   "cell_type": "markdown",
   "metadata": {},
   "source": [
    "##### 1-day Forecast Result"
   ]
  },
  {
   "cell_type": "markdown",
   "metadata": {
    "ExecuteTime": {
     "end_time": "2021-01-25T08:19:06.922943Z",
     "start_time": "2021-01-25T08:19:06.918907Z"
    }
   },
   "source": [
    "Our results show that the `GBM` model produced the best performance with a `MAE` of 181.04 and `RMSE` of 251.03. In addition, we observed that the performance of the `Ranfom Forest` and ` XGBoost` are similar with each other. Lastly, the cell below shows us that most important non-price related features are `tone_6` (self/group reference density), `day`, `tone_5` (activity reference density), and `month`.\n",
    "\n",
    "<br>\n",
    "<center><b>Table 5. 1-day Forecast Result</b></center>\n",
    "\n",
    "| Model | MAE Score| RMSE Score|\n",
    "| :--: | :------: | :------: |\n",
    "| Random Forest | 221.22 | 296.96|\n",
    "| XGBoost | 232.71 | 306.35 |\n",
    "| GBM | 181.04 | 251.63 |"
   ]
  },
  {
   "cell_type": "code",
   "execution_count": 91,
   "metadata": {
    "ExecuteTime": {
     "end_time": "2021-01-25T09:50:26.235815Z",
     "start_time": "2021-01-25T09:50:26.219007Z"
    }
   },
   "outputs": [
    {
     "data": {
      "text/html": [
       "<div>\n",
       "<style scoped>\n",
       "    .dataframe tbody tr th:only-of-type {\n",
       "        vertical-align: middle;\n",
       "    }\n",
       "\n",
       "    .dataframe tbody tr th {\n",
       "        vertical-align: top;\n",
       "    }\n",
       "\n",
       "    .dataframe thead th {\n",
       "        text-align: right;\n",
       "    }\n",
       "</style>\n",
       "<table border=\"1\" class=\"dataframe\">\n",
       "  <thead>\n",
       "    <tr style=\"text-align: right;\">\n",
       "      <th></th>\n",
       "      <th>column</th>\n",
       "      <th>importance</th>\n",
       "    </tr>\n",
       "  </thead>\n",
       "  <tbody>\n",
       "    <tr>\n",
       "      <th>0</th>\n",
       "      <td>Price</td>\n",
       "      <td>0.498734</td>\n",
       "    </tr>\n",
       "    <tr>\n",
       "      <th>1</th>\n",
       "      <td>High</td>\n",
       "      <td>0.385096</td>\n",
       "    </tr>\n",
       "    <tr>\n",
       "      <th>2</th>\n",
       "      <td>Low</td>\n",
       "      <td>0.110974</td>\n",
       "    </tr>\n",
       "    <tr>\n",
       "      <th>3</th>\n",
       "      <td>Open</td>\n",
       "      <td>0.002677</td>\n",
       "    </tr>\n",
       "    <tr>\n",
       "      <th>4</th>\n",
       "      <td>tone_6</td>\n",
       "      <td>0.000563</td>\n",
       "    </tr>\n",
       "    <tr>\n",
       "      <th>5</th>\n",
       "      <td>day</td>\n",
       "      <td>0.000562</td>\n",
       "    </tr>\n",
       "    <tr>\n",
       "      <th>6</th>\n",
       "      <td>tone_5</td>\n",
       "      <td>0.000439</td>\n",
       "    </tr>\n",
       "    <tr>\n",
       "      <th>7</th>\n",
       "      <td>month</td>\n",
       "      <td>0.000425</td>\n",
       "    </tr>\n",
       "    <tr>\n",
       "      <th>8</th>\n",
       "      <td>tone_1</td>\n",
       "      <td>0.000152</td>\n",
       "    </tr>\n",
       "    <tr>\n",
       "      <th>9</th>\n",
       "      <td>tone_4</td>\n",
       "      <td>0.000130</td>\n",
       "    </tr>\n",
       "    <tr>\n",
       "      <th>10</th>\n",
       "      <td>Vol.</td>\n",
       "      <td>0.000129</td>\n",
       "    </tr>\n",
       "    <tr>\n",
       "      <th>11</th>\n",
       "      <td>tone_7</td>\n",
       "      <td>0.000119</td>\n",
       "    </tr>\n",
       "    <tr>\n",
       "      <th>12</th>\n",
       "      <td>year</td>\n",
       "      <td>0.000000</td>\n",
       "    </tr>\n",
       "  </tbody>\n",
       "</table>\n",
       "</div>"
      ],
      "text/plain": [
       "    column  importance\n",
       "0    Price    0.498734\n",
       "1     High    0.385096\n",
       "2      Low    0.110974\n",
       "3     Open    0.002677\n",
       "4   tone_6    0.000563\n",
       "5      day    0.000562\n",
       "6   tone_5    0.000439\n",
       "7    month    0.000425\n",
       "8   tone_1    0.000152\n",
       "9   tone_4    0.000130\n",
       "10    Vol.    0.000129\n",
       "11  tone_7    0.000119\n",
       "12    year    0.000000"
      ]
     },
     "execution_count": 91,
     "metadata": {},
     "output_type": "execute_result"
    }
   ],
   "source": [
    "feature_importance1 = sorted([(col,val) for col,val in zip(train_0.columns,gbm0.feature_importances_)], key=lambda x: -x[1])\n",
    "pd.DataFrame(feature_importance1, columns=[\"column\", \"importance\"])"
   ]
  },
  {
   "cell_type": "markdown",
   "metadata": {},
   "source": [
    "#### ML for predicting the next 3days"
   ]
  },
  {
   "cell_type": "code",
   "execution_count": 46,
   "metadata": {
    "ExecuteTime": {
     "end_time": "2021-01-25T07:26:12.883434Z",
     "start_time": "2021-01-25T07:26:12.856744Z"
    }
   },
   "outputs": [
    {
     "name": "stdout",
     "output_type": "stream",
     "text": [
      "shape of train and test df: (838, 14) (360, 14)\n"
     ]
    },
    {
     "data": {
      "text/html": [
       "<div>\n",
       "<style scoped>\n",
       "    .dataframe tbody tr th:only-of-type {\n",
       "        vertical-align: middle;\n",
       "    }\n",
       "\n",
       "    .dataframe tbody tr th {\n",
       "        vertical-align: top;\n",
       "    }\n",
       "\n",
       "    .dataframe thead th {\n",
       "        text-align: right;\n",
       "    }\n",
       "</style>\n",
       "<table border=\"1\" class=\"dataframe\">\n",
       "  <thead>\n",
       "    <tr style=\"text-align: right;\">\n",
       "      <th></th>\n",
       "      <th>tone_1</th>\n",
       "      <th>tone_4</th>\n",
       "      <th>tone_5</th>\n",
       "      <th>tone_6</th>\n",
       "      <th>tone_7</th>\n",
       "      <th>Open</th>\n",
       "      <th>Price</th>\n",
       "      <th>High</th>\n",
       "      <th>Low</th>\n",
       "      <th>Vol.</th>\n",
       "      <th>year</th>\n",
       "      <th>month</th>\n",
       "      <th>day</th>\n",
       "      <th>Close_price_next_3days</th>\n",
       "    </tr>\n",
       "  </thead>\n",
       "  <tbody>\n",
       "    <tr>\n",
       "      <th>0</th>\n",
       "      <td>-1.343669</td>\n",
       "      <td>6.655342</td>\n",
       "      <td>21.979880</td>\n",
       "      <td>0.775952</td>\n",
       "      <td>607.957274</td>\n",
       "      <td>429.0</td>\n",
       "      <td>434.0</td>\n",
       "      <td>436.5</td>\n",
       "      <td>426.3</td>\n",
       "      <td>12.97</td>\n",
       "      <td>2016</td>\n",
       "      <td>1</td>\n",
       "      <td>1</td>\n",
       "      <td>432.9</td>\n",
       "    </tr>\n",
       "    <tr>\n",
       "      <th>1</th>\n",
       "      <td>-1.244109</td>\n",
       "      <td>6.535910</td>\n",
       "      <td>22.072250</td>\n",
       "      <td>0.821951</td>\n",
       "      <td>605.368377</td>\n",
       "      <td>434.0</td>\n",
       "      <td>432.7</td>\n",
       "      <td>435.8</td>\n",
       "      <td>430.0</td>\n",
       "      <td>6.38</td>\n",
       "      <td>2016</td>\n",
       "      <td>1</td>\n",
       "      <td>2</td>\n",
       "      <td>431.8</td>\n",
       "    </tr>\n",
       "    <tr>\n",
       "      <th>2</th>\n",
       "      <td>-1.431284</td>\n",
       "      <td>6.477120</td>\n",
       "      <td>21.925045</td>\n",
       "      <td>0.843433</td>\n",
       "      <td>617.556213</td>\n",
       "      <td>432.7</td>\n",
       "      <td>428.7</td>\n",
       "      <td>433.1</td>\n",
       "      <td>422.0</td>\n",
       "      <td>19.18</td>\n",
       "      <td>2016</td>\n",
       "      <td>1</td>\n",
       "      <td>3</td>\n",
       "      <td>428.0</td>\n",
       "    </tr>\n",
       "    <tr>\n",
       "      <th>3</th>\n",
       "      <td>-1.526447</td>\n",
       "      <td>6.469927</td>\n",
       "      <td>21.797835</td>\n",
       "      <td>0.768344</td>\n",
       "      <td>553.286337</td>\n",
       "      <td>428.6</td>\n",
       "      <td>432.9</td>\n",
       "      <td>435.7</td>\n",
       "      <td>427.0</td>\n",
       "      <td>13.02</td>\n",
       "      <td>2016</td>\n",
       "      <td>1</td>\n",
       "      <td>4</td>\n",
       "      <td>459.0</td>\n",
       "    </tr>\n",
       "    <tr>\n",
       "      <th>4</th>\n",
       "      <td>-1.598543</td>\n",
       "      <td>6.471383</td>\n",
       "      <td>22.078865</td>\n",
       "      <td>0.735785</td>\n",
       "      <td>538.866279</td>\n",
       "      <td>432.9</td>\n",
       "      <td>431.8</td>\n",
       "      <td>434.9</td>\n",
       "      <td>428.2</td>\n",
       "      <td>11.22</td>\n",
       "      <td>2016</td>\n",
       "      <td>1</td>\n",
       "      <td>5</td>\n",
       "      <td>454.0</td>\n",
       "    </tr>\n",
       "    <tr>\n",
       "      <th>...</th>\n",
       "      <td>...</td>\n",
       "      <td>...</td>\n",
       "      <td>...</td>\n",
       "      <td>...</td>\n",
       "      <td>...</td>\n",
       "      <td>...</td>\n",
       "      <td>...</td>\n",
       "      <td>...</td>\n",
       "      <td>...</td>\n",
       "      <td>...</td>\n",
       "      <td>...</td>\n",
       "      <td>...</td>\n",
       "      <td>...</td>\n",
       "      <td>...</td>\n",
       "    </tr>\n",
       "    <tr>\n",
       "      <th>1193</th>\n",
       "      <td>-1.593917</td>\n",
       "      <td>6.643074</td>\n",
       "      <td>22.156372</td>\n",
       "      <td>0.719125</td>\n",
       "      <td>502.867004</td>\n",
       "      <td>5312.4</td>\n",
       "      <td>5216.3</td>\n",
       "      <td>5312.5</td>\n",
       "      <td>5173.5</td>\n",
       "      <td>11.90</td>\n",
       "      <td>2019</td>\n",
       "      <td>4</td>\n",
       "      <td>9</td>\n",
       "      <td>5114.0</td>\n",
       "    </tr>\n",
       "    <tr>\n",
       "      <th>1194</th>\n",
       "      <td>-1.370507</td>\n",
       "      <td>6.542384</td>\n",
       "      <td>22.540806</td>\n",
       "      <td>0.776257</td>\n",
       "      <td>515.239929</td>\n",
       "      <td>5213.0</td>\n",
       "      <td>5311.7</td>\n",
       "      <td>5487.4</td>\n",
       "      <td>5200.5</td>\n",
       "      <td>15.78</td>\n",
       "      <td>2019</td>\n",
       "      <td>4</td>\n",
       "      <td>10</td>\n",
       "      <td>5101.8</td>\n",
       "    </tr>\n",
       "    <tr>\n",
       "      <th>1195</th>\n",
       "      <td>-1.600174</td>\n",
       "      <td>6.664594</td>\n",
       "      <td>22.248266</td>\n",
       "      <td>0.751029</td>\n",
       "      <td>535.301331</td>\n",
       "      <td>5315.5</td>\n",
       "      <td>5065.8</td>\n",
       "      <td>5340.0</td>\n",
       "      <td>5001.1</td>\n",
       "      <td>19.39</td>\n",
       "      <td>2019</td>\n",
       "      <td>4</td>\n",
       "      <td>11</td>\n",
       "      <td>5194.3</td>\n",
       "    </tr>\n",
       "    <tr>\n",
       "      <th>1196</th>\n",
       "      <td>-1.658421</td>\n",
       "      <td>6.708574</td>\n",
       "      <td>22.262007</td>\n",
       "      <td>0.742972</td>\n",
       "      <td>522.282959</td>\n",
       "      <td>5059.0</td>\n",
       "      <td>5114.0</td>\n",
       "      <td>5134.9</td>\n",
       "      <td>4935.2</td>\n",
       "      <td>9.22</td>\n",
       "      <td>2019</td>\n",
       "      <td>4</td>\n",
       "      <td>12</td>\n",
       "      <td>5049.2</td>\n",
       "    </tr>\n",
       "    <tr>\n",
       "      <th>1197</th>\n",
       "      <td>-1.784899</td>\n",
       "      <td>6.596410</td>\n",
       "      <td>22.344313</td>\n",
       "      <td>0.772733</td>\n",
       "      <td>542.421143</td>\n",
       "      <td>5114.1</td>\n",
       "      <td>5101.8</td>\n",
       "      <td>5160.8</td>\n",
       "      <td>5075.3</td>\n",
       "      <td>5.21</td>\n",
       "      <td>2019</td>\n",
       "      <td>4</td>\n",
       "      <td>13</td>\n",
       "      <td>5234.3</td>\n",
       "    </tr>\n",
       "  </tbody>\n",
       "</table>\n",
       "<p>1198 rows × 14 columns</p>\n",
       "</div>"
      ],
      "text/plain": [
       "        tone_1    tone_4     tone_5    tone_6      tone_7    Open   Price  \\\n",
       "0    -1.343669  6.655342  21.979880  0.775952  607.957274   429.0   434.0   \n",
       "1    -1.244109  6.535910  22.072250  0.821951  605.368377   434.0   432.7   \n",
       "2    -1.431284  6.477120  21.925045  0.843433  617.556213   432.7   428.7   \n",
       "3    -1.526447  6.469927  21.797835  0.768344  553.286337   428.6   432.9   \n",
       "4    -1.598543  6.471383  22.078865  0.735785  538.866279   432.9   431.8   \n",
       "...        ...       ...        ...       ...         ...     ...     ...   \n",
       "1193 -1.593917  6.643074  22.156372  0.719125  502.867004  5312.4  5216.3   \n",
       "1194 -1.370507  6.542384  22.540806  0.776257  515.239929  5213.0  5311.7   \n",
       "1195 -1.600174  6.664594  22.248266  0.751029  535.301331  5315.5  5065.8   \n",
       "1196 -1.658421  6.708574  22.262007  0.742972  522.282959  5059.0  5114.0   \n",
       "1197 -1.784899  6.596410  22.344313  0.772733  542.421143  5114.1  5101.8   \n",
       "\n",
       "        High     Low   Vol.  year  month  day  Close_price_next_3days  \n",
       "0      436.5   426.3  12.97  2016      1    1                   432.9  \n",
       "1      435.8   430.0   6.38  2016      1    2                   431.8  \n",
       "2      433.1   422.0  19.18  2016      1    3                   428.0  \n",
       "3      435.7   427.0  13.02  2016      1    4                   459.0  \n",
       "4      434.9   428.2  11.22  2016      1    5                   454.0  \n",
       "...      ...     ...    ...   ...    ...  ...                     ...  \n",
       "1193  5312.5  5173.5  11.90  2019      4    9                  5114.0  \n",
       "1194  5487.4  5200.5  15.78  2019      4   10                  5101.8  \n",
       "1195  5340.0  5001.1  19.39  2019      4   11                  5194.3  \n",
       "1196  5134.9  4935.2   9.22  2019      4   12                  5049.2  \n",
       "1197  5160.8  5075.3   5.21  2019      4   13                  5234.3  \n",
       "\n",
       "[1198 rows x 14 columns]"
      ]
     },
     "execution_count": 46,
     "metadata": {},
     "output_type": "execute_result"
    }
   ],
   "source": [
    "shape = df_3.shape\n",
    "train_3 = df_3.iloc[:int(shape[0]*0.7)]\n",
    "test_3 = df_3.iloc[int(shape[0]*0.7):]\n",
    "columns = train_3.columns\n",
    "print(\"shape of train and test df:\", train_3.shape, test_3.shape)\n",
    "\n",
    "df_3"
   ]
  },
  {
   "cell_type": "markdown",
   "metadata": {
    "heading_collapsed": true
   },
   "source": [
    "##### Random Forest"
   ]
  },
  {
   "cell_type": "code",
   "execution_count": 47,
   "metadata": {
    "ExecuteTime": {
     "end_time": "2021-01-25T07:26:13.054646Z",
     "start_time": "2021-01-25T07:26:12.885658Z"
    },
    "hidden": true
   },
   "outputs": [
    {
     "data": {
      "text/plain": [
       "RandomForestRegressor(n_estimators=50, n_jobs=-1)"
      ]
     },
     "execution_count": 47,
     "metadata": {},
     "output_type": "execute_result"
    }
   ],
   "source": [
    "rf3 = RandomForestRegressor(n_estimators=50, n_jobs=-1)\n",
    "rf3.fit(train_3[columns[:-1]], train_3[columns[-1]])"
   ]
  },
  {
   "cell_type": "code",
   "execution_count": 48,
   "metadata": {
    "ExecuteTime": {
     "end_time": "2021-01-25T07:26:13.087686Z",
     "start_time": "2021-01-25T07:26:13.058046Z"
    },
    "hidden": true
   },
   "outputs": [
    {
     "data": {
      "text/plain": [
       "645.1651365835044"
      ]
     },
     "execution_count": 48,
     "metadata": {},
     "output_type": "execute_result"
    }
   ],
   "source": [
    "# rmse\n",
    "np.sqrt(mean_squared_error(test_3[columns[-1]], rf3.predict(test_3[columns[:-1]])))"
   ]
  },
  {
   "cell_type": "code",
   "execution_count": 49,
   "metadata": {
    "ExecuteTime": {
     "end_time": "2021-01-25T07:26:13.118568Z",
     "start_time": "2021-01-25T07:26:13.089658Z"
    },
    "hidden": true
   },
   "outputs": [
    {
     "data": {
      "text/plain": [
       "514.2767500000004"
      ]
     },
     "execution_count": 49,
     "metadata": {},
     "output_type": "execute_result"
    }
   ],
   "source": [
    "mean_absolute_error(test_3[columns[-1]], rf3.predict(test_3[columns[:-1]]))"
   ]
  },
  {
   "cell_type": "markdown",
   "metadata": {
    "hidden": true
   },
   "source": [
    "###### Hyperparameter Tuning"
   ]
  },
  {
   "cell_type": "code",
   "execution_count": 50,
   "metadata": {
    "ExecuteTime": {
     "end_time": "2021-01-25T07:35:36.906616Z",
     "start_time": "2021-01-25T07:26:13.120777Z"
    },
    "hidden": true
   },
   "outputs": [
    {
     "name": "stdout",
     "output_type": "stream",
     "text": [
      "Fitting 3 folds for each of 1440 candidates, totalling 4320 fits\n"
     ]
    },
    {
     "name": "stderr",
     "output_type": "stream",
     "text": [
      "[Parallel(n_jobs=-1)]: Using backend LokyBackend with 4 concurrent workers.\n",
      "[Parallel(n_jobs=-1)]: Done  42 tasks      | elapsed:    6.3s\n",
      "[Parallel(n_jobs=-1)]: Done 192 tasks      | elapsed:   26.8s\n",
      "[Parallel(n_jobs=-1)]: Done 442 tasks      | elapsed:   58.0s\n",
      "[Parallel(n_jobs=-1)]: Done 792 tasks      | elapsed:  1.8min\n",
      "[Parallel(n_jobs=-1)]: Done 1242 tasks      | elapsed:  2.7min\n",
      "[Parallel(n_jobs=-1)]: Done 1792 tasks      | elapsed:  3.9min\n",
      "[Parallel(n_jobs=-1)]: Done 2442 tasks      | elapsed:  5.3min\n",
      "[Parallel(n_jobs=-1)]: Done 3192 tasks      | elapsed:  7.0min\n",
      "[Parallel(n_jobs=-1)]: Done 4042 tasks      | elapsed:  8.8min\n",
      "[Parallel(n_jobs=-1)]: Done 4320 out of 4320 | elapsed:  9.4min finished\n"
     ]
    },
    {
     "data": {
      "text/plain": [
       "RandomForestRegressor(max_depth=350, min_samples_leaf=2, min_samples_split=9,\n",
       "                      n_estimators=50)"
      ]
     },
     "execution_count": 50,
     "metadata": {},
     "output_type": "execute_result"
    }
   ],
   "source": [
    "parameters = {'n_estimators': np.arange(50, 300, 50),\n",
    "                           'max_depth': np.arange(50, 500, 50),\n",
    "                           'min_samples_split': np.arange(2, 10, 1),\n",
    "                           'min_samples_leaf': np.arange(1, 5, 1)}\n",
    "grid_search_cv = (GridSearchCV(estimator=RandomForestRegressor(),\n",
    "                               param_grid=parameters, verbose=1, cv=3,\n",
    "                               n_jobs=-1).fit(train_3[columns[:-1]], train_3[columns[-1]]))\n",
    "rf4 = grid_search_cv.best_estimator_\n",
    "rf4"
   ]
  },
  {
   "cell_type": "code",
   "execution_count": 51,
   "metadata": {
    "ExecuteTime": {
     "end_time": "2021-01-25T07:35:36.924415Z",
     "start_time": "2021-01-25T07:35:36.909048Z"
    },
    "hidden": true
   },
   "outputs": [
    {
     "data": {
      "text/plain": [
       "618.5063035631165"
      ]
     },
     "execution_count": 51,
     "metadata": {},
     "output_type": "execute_result"
    }
   ],
   "source": [
    "# rmse\n",
    "np.sqrt(mean_squared_error(test_3[columns[-1]], rf4.predict(test_3[columns[:-1]])))"
   ]
  },
  {
   "cell_type": "code",
   "execution_count": 52,
   "metadata": {
    "ExecuteTime": {
     "end_time": "2021-01-25T07:35:36.938636Z",
     "start_time": "2021-01-25T07:35:36.926119Z"
    },
    "hidden": true
   },
   "outputs": [
    {
     "data": {
      "text/plain": [
       "500.04587306411844"
      ]
     },
     "execution_count": 52,
     "metadata": {},
     "output_type": "execute_result"
    }
   ],
   "source": [
    "mean_absolute_error(test_3[columns[-1]], rf4.predict(test_3[columns[:-1]]))"
   ]
  },
  {
   "cell_type": "code",
   "execution_count": 53,
   "metadata": {
    "ExecuteTime": {
     "end_time": "2021-01-25T07:35:40.528259Z",
     "start_time": "2021-01-25T07:35:36.940217Z"
    },
    "hidden": true
   },
   "outputs": [
    {
     "data": {
      "text/plain": [
       "XGBRegressor(base_score=0.5, booster='gbtree', colsample_bylevel=1,\n",
       "             colsample_bynode=1, colsample_bytree=1, gamma=0, gpu_id=-1,\n",
       "             importance_type='gain', interaction_constraints='',\n",
       "             learning_rate=0.300000012, max_delta_step=0, max_depth=6,\n",
       "             min_child_weight=1, missing=nan, monotone_constraints='()',\n",
       "             n_estimators=100, n_jobs=32, num_parallel_tree=1, random_state=0,\n",
       "             reg_alpha=0, reg_lambda=1, scale_pos_weight=1, subsample=1,\n",
       "             tree_method='exact', validate_parameters=1, verbosity=None)"
      ]
     },
     "execution_count": 53,
     "metadata": {},
     "output_type": "execute_result"
    }
   ],
   "source": [
    "xg3 = XGBRegressor()\n",
    "xg3.fit(train_3[columns[:-1]].values, train_3[columns[-1]].values)"
   ]
  },
  {
   "cell_type": "code",
   "execution_count": 54,
   "metadata": {
    "ExecuteTime": {
     "end_time": "2021-01-25T07:35:40.594993Z",
     "start_time": "2021-01-25T07:35:40.530639Z"
    },
    "hidden": true
   },
   "outputs": [
    {
     "data": {
      "text/plain": [
       "407.7883758710827"
      ]
     },
     "execution_count": 54,
     "metadata": {},
     "output_type": "execute_result"
    }
   ],
   "source": [
    "np.sqrt(mean_squared_error(test_3[columns[-1]], xg0.predict(test_3[columns[:-1]].values)))"
   ]
  },
  {
   "cell_type": "code",
   "execution_count": 55,
   "metadata": {
    "ExecuteTime": {
     "end_time": "2021-01-25T07:35:40.694910Z",
     "start_time": "2021-01-25T07:35:40.597585Z"
    },
    "hidden": true
   },
   "outputs": [
    {
     "data": {
      "text/plain": [
       "510.81130289713536"
      ]
     },
     "execution_count": 55,
     "metadata": {},
     "output_type": "execute_result"
    }
   ],
   "source": [
    "mean_absolute_error(test_3[columns[-1]], xg3.predict(test_3[columns[:-1]].values))"
   ]
  },
  {
   "cell_type": "markdown",
   "metadata": {
    "heading_collapsed": true
   },
   "source": [
    "##### GBM"
   ]
  },
  {
   "cell_type": "code",
   "execution_count": 56,
   "metadata": {
    "ExecuteTime": {
     "end_time": "2021-01-25T07:35:40.892302Z",
     "start_time": "2021-01-25T07:35:40.701625Z"
    },
    "hidden": true
   },
   "outputs": [
    {
     "data": {
      "text/plain": [
       "GradientBoostingRegressor(n_estimators=50)"
      ]
     },
     "execution_count": 56,
     "metadata": {},
     "output_type": "execute_result"
    }
   ],
   "source": [
    "gbm3 = GradientBoostingRegressor(n_estimators=50)\n",
    "gbm3.fit(train_3[columns[:-1]], train_3[columns[-1]])"
   ]
  },
  {
   "cell_type": "code",
   "execution_count": 57,
   "metadata": {
    "ExecuteTime": {
     "end_time": "2021-01-25T07:35:40.906074Z",
     "start_time": "2021-01-25T07:35:40.895182Z"
    },
    "hidden": true
   },
   "outputs": [
    {
     "data": {
      "text/plain": [
       "550.7033382794348"
      ]
     },
     "execution_count": 57,
     "metadata": {},
     "output_type": "execute_result"
    }
   ],
   "source": [
    "np.sqrt(mean_squared_error(test_3[columns[-1]], gbm3.predict(test_3[columns[:-1]])))"
   ]
  },
  {
   "cell_type": "code",
   "execution_count": 58,
   "metadata": {
    "ExecuteTime": {
     "end_time": "2021-01-25T07:35:40.916016Z",
     "start_time": "2021-01-25T07:35:40.907884Z"
    },
    "hidden": true
   },
   "outputs": [
    {
     "data": {
      "text/plain": [
       "464.2848434281579"
      ]
     },
     "execution_count": 58,
     "metadata": {},
     "output_type": "execute_result"
    }
   ],
   "source": [
    "mean_absolute_error(test_3[columns[-1]], gbm3.predict(test_3[columns[:-1]]))"
   ]
  },
  {
   "cell_type": "markdown",
   "metadata": {
    "ExecuteTime": {
     "end_time": "2021-01-24T07:19:23.918906Z",
     "start_time": "2021-01-24T07:19:23.917076Z"
    },
    "hidden": true
   },
   "source": [
    "###### Hyperparameter Tuning"
   ]
  },
  {
   "cell_type": "code",
   "execution_count": 59,
   "metadata": {
    "ExecuteTime": {
     "end_time": "2021-01-25T07:52:57.695326Z",
     "start_time": "2021-01-25T07:35:40.917822Z"
    },
    "hidden": true
   },
   "outputs": [
    {
     "name": "stdout",
     "output_type": "stream",
     "text": [
      "Fitting 3 folds for each of 900 candidates, totalling 2700 fits\n"
     ]
    },
    {
     "name": "stderr",
     "output_type": "stream",
     "text": [
      "[Parallel(n_jobs=-1)]: Using backend LokyBackend with 4 concurrent workers.\n",
      "[Parallel(n_jobs=-1)]: Done  42 tasks      | elapsed:   10.4s\n",
      "[Parallel(n_jobs=-1)]: Done 192 tasks      | elapsed:   47.4s\n",
      "[Parallel(n_jobs=-1)]: Done 442 tasks      | elapsed:  1.8min\n",
      "[Parallel(n_jobs=-1)]: Done 792 tasks      | elapsed:  3.7min\n",
      "[Parallel(n_jobs=-1)]: Done 1242 tasks      | elapsed:  6.6min\n",
      "[Parallel(n_jobs=-1)]: Done 1792 tasks      | elapsed: 10.4min\n",
      "[Parallel(n_jobs=-1)]: Done 2442 tasks      | elapsed: 15.3min\n",
      "[Parallel(n_jobs=-1)]: Done 2700 out of 2700 | elapsed: 17.2min finished\n"
     ]
    },
    {
     "data": {
      "text/plain": [
       "GradientBoostingRegressor(max_depth=100, n_estimators=250)"
      ]
     },
     "execution_count": 59,
     "metadata": {},
     "output_type": "execute_result"
    }
   ],
   "source": [
    "# GradientBoostingClassifier\n",
    "parameters = {'learning_rate': np.arange(0.1, 1, 0.2),\n",
    "              'n_estimators': np.arange(50, 300, 50),\n",
    "              'max_depth': np.arange(50, 500, 50),\n",
    "              'min_samples_leaf': np.arange(1, 5, 1)}\n",
    "grid_search_cv = (GridSearchCV(estimator=GradientBoostingRegressor(),\n",
    "                               param_grid=parameters, verbose=1, cv=3,\n",
    "                               n_jobs=-1).fit(train_3[columns[:-1]], train_3[columns[-1]]))\n",
    "gbm4 = grid_search_cv.best_estimator_\n",
    "gbm4"
   ]
  },
  {
   "cell_type": "code",
   "execution_count": 60,
   "metadata": {
    "ExecuteTime": {
     "end_time": "2021-01-25T07:52:57.714906Z",
     "start_time": "2021-01-25T07:52:57.697484Z"
    },
    "hidden": true
   },
   "outputs": [
    {
     "data": {
      "text/plain": [
       "848.2586433606958"
      ]
     },
     "execution_count": 60,
     "metadata": {},
     "output_type": "execute_result"
    }
   ],
   "source": [
    "np.sqrt(mean_squared_error(test_3[columns[-1]], gbm4.predict(test_3[columns[:-1]])))"
   ]
  },
  {
   "cell_type": "code",
   "execution_count": 61,
   "metadata": {
    "ExecuteTime": {
     "end_time": "2021-01-25T07:52:57.738196Z",
     "start_time": "2021-01-25T07:52:57.717355Z"
    },
    "hidden": true
   },
   "outputs": [
    {
     "data": {
      "text/plain": [
       "662.5469289727522"
      ]
     },
     "execution_count": 61,
     "metadata": {},
     "output_type": "execute_result"
    }
   ],
   "source": [
    "mean_absolute_error(test_3[columns[-1]], gbm4.predict(test_3[columns[:-1]]))"
   ]
  },
  {
   "cell_type": "markdown",
   "metadata": {},
   "source": [
    "##### 3-day Forecast Result"
   ]
  },
  {
   "cell_type": "markdown",
   "metadata": {},
   "source": [
    "Our result for this section shows that we may assume two best models for each of our evaluation criteria. The best model in reference to `MAE` is found to be `GBM` while `XGBoost` was the best in terms of the `RMSE` score. We may also note that the performace of these models are poorer as compared to the models from the 1-day forecast. Lastly, the cell below shows us that most important non-price related features are `month`, `day`, `year`, and `tone6`(self/group reference density).\n",
    "\n",
    "\n",
    "<br>\n",
    "<center><b>Table 6. 3-day Forecast Result</b></center>\n",
    "\n",
    "| Model | MAE Score| RMSE Score|\n",
    "| :--: | :------: | :------: |\n",
    "| Random Forest | 500.05 | 618.51|\n",
    "| XGBoost | 510.81 | 407.79 |\n",
    "| GBM | 464.28 | 550.70 |"
   ]
  },
  {
   "cell_type": "code",
   "execution_count": 97,
   "metadata": {
    "ExecuteTime": {
     "end_time": "2021-01-25T09:56:03.378388Z",
     "start_time": "2021-01-25T09:56:03.289395Z"
    }
   },
   "outputs": [
    {
     "data": {
      "text/html": [
       "<div>\n",
       "<style scoped>\n",
       "    .dataframe tbody tr th:only-of-type {\n",
       "        vertical-align: middle;\n",
       "    }\n",
       "\n",
       "    .dataframe tbody tr th {\n",
       "        vertical-align: top;\n",
       "    }\n",
       "\n",
       "    .dataframe thead th {\n",
       "        text-align: right;\n",
       "    }\n",
       "</style>\n",
       "<table border=\"1\" class=\"dataframe\">\n",
       "  <thead>\n",
       "    <tr style=\"text-align: right;\">\n",
       "      <th></th>\n",
       "      <th>column</th>\n",
       "      <th>importance</th>\n",
       "    </tr>\n",
       "  </thead>\n",
       "  <tbody>\n",
       "    <tr>\n",
       "      <th>0</th>\n",
       "      <td>Low</td>\n",
       "      <td>0.434599</td>\n",
       "    </tr>\n",
       "    <tr>\n",
       "      <th>1</th>\n",
       "      <td>High</td>\n",
       "      <td>0.356292</td>\n",
       "    </tr>\n",
       "    <tr>\n",
       "      <th>2</th>\n",
       "      <td>Price</td>\n",
       "      <td>0.131269</td>\n",
       "    </tr>\n",
       "    <tr>\n",
       "      <th>3</th>\n",
       "      <td>Open</td>\n",
       "      <td>0.059570</td>\n",
       "    </tr>\n",
       "    <tr>\n",
       "      <th>4</th>\n",
       "      <td>month</td>\n",
       "      <td>0.014583</td>\n",
       "    </tr>\n",
       "    <tr>\n",
       "      <th>5</th>\n",
       "      <td>day</td>\n",
       "      <td>0.000720</td>\n",
       "    </tr>\n",
       "    <tr>\n",
       "      <th>6</th>\n",
       "      <td>Vol.</td>\n",
       "      <td>0.000625</td>\n",
       "    </tr>\n",
       "    <tr>\n",
       "      <th>7</th>\n",
       "      <td>year</td>\n",
       "      <td>0.000539</td>\n",
       "    </tr>\n",
       "    <tr>\n",
       "      <th>8</th>\n",
       "      <td>tone_6</td>\n",
       "      <td>0.000521</td>\n",
       "    </tr>\n",
       "    <tr>\n",
       "      <th>9</th>\n",
       "      <td>tone_4</td>\n",
       "      <td>0.000409</td>\n",
       "    </tr>\n",
       "    <tr>\n",
       "      <th>10</th>\n",
       "      <td>tone_5</td>\n",
       "      <td>0.000366</td>\n",
       "    </tr>\n",
       "    <tr>\n",
       "      <th>11</th>\n",
       "      <td>tone_1</td>\n",
       "      <td>0.000261</td>\n",
       "    </tr>\n",
       "    <tr>\n",
       "      <th>12</th>\n",
       "      <td>tone_7</td>\n",
       "      <td>0.000247</td>\n",
       "    </tr>\n",
       "  </tbody>\n",
       "</table>\n",
       "</div>"
      ],
      "text/plain": [
       "    column  importance\n",
       "0      Low    0.434599\n",
       "1     High    0.356292\n",
       "2    Price    0.131269\n",
       "3     Open    0.059570\n",
       "4    month    0.014583\n",
       "5      day    0.000720\n",
       "6     Vol.    0.000625\n",
       "7     year    0.000539\n",
       "8   tone_6    0.000521\n",
       "9   tone_4    0.000409\n",
       "10  tone_5    0.000366\n",
       "11  tone_1    0.000261\n",
       "12  tone_7    0.000247"
      ]
     },
     "execution_count": 97,
     "metadata": {},
     "output_type": "execute_result"
    }
   ],
   "source": [
    "feature_importance3 = sorted([(col,val) for col,val in zip(train_3.columns,xg3.feature_importances_)], key=lambda x: -x[1])\n",
    "pd.DataFrame(feature_importance3, columns=[\"column\", \"importance\"])"
   ]
  },
  {
   "cell_type": "markdown",
   "metadata": {},
   "source": [
    "#### ML for predicting the next 7 days"
   ]
  },
  {
   "cell_type": "code",
   "execution_count": 62,
   "metadata": {
    "ExecuteTime": {
     "end_time": "2021-01-25T07:52:57.768973Z",
     "start_time": "2021-01-25T07:52:57.739977Z"
    }
   },
   "outputs": [
    {
     "name": "stdout",
     "output_type": "stream",
     "text": [
      "shape of train and test df: (835, 14) (359, 14)\n"
     ]
    },
    {
     "data": {
      "text/html": [
       "<div>\n",
       "<style scoped>\n",
       "    .dataframe tbody tr th:only-of-type {\n",
       "        vertical-align: middle;\n",
       "    }\n",
       "\n",
       "    .dataframe tbody tr th {\n",
       "        vertical-align: top;\n",
       "    }\n",
       "\n",
       "    .dataframe thead th {\n",
       "        text-align: right;\n",
       "    }\n",
       "</style>\n",
       "<table border=\"1\" class=\"dataframe\">\n",
       "  <thead>\n",
       "    <tr style=\"text-align: right;\">\n",
       "      <th></th>\n",
       "      <th>tone_1</th>\n",
       "      <th>tone_4</th>\n",
       "      <th>tone_5</th>\n",
       "      <th>tone_6</th>\n",
       "      <th>tone_7</th>\n",
       "      <th>Open</th>\n",
       "      <th>Price</th>\n",
       "      <th>High</th>\n",
       "      <th>Low</th>\n",
       "      <th>Vol.</th>\n",
       "      <th>year</th>\n",
       "      <th>month</th>\n",
       "      <th>day</th>\n",
       "      <th>Close_price_next_7days</th>\n",
       "    </tr>\n",
       "  </thead>\n",
       "  <tbody>\n",
       "    <tr>\n",
       "      <th>0</th>\n",
       "      <td>-1.343669</td>\n",
       "      <td>6.655342</td>\n",
       "      <td>21.979880</td>\n",
       "      <td>0.775952</td>\n",
       "      <td>607.957274</td>\n",
       "      <td>429.0</td>\n",
       "      <td>434.0</td>\n",
       "      <td>436.5</td>\n",
       "      <td>426.3</td>\n",
       "      <td>12.97</td>\n",
       "      <td>2016</td>\n",
       "      <td>1</td>\n",
       "      <td>1</td>\n",
       "      <td>454.0</td>\n",
       "    </tr>\n",
       "    <tr>\n",
       "      <th>1</th>\n",
       "      <td>-1.244109</td>\n",
       "      <td>6.535910</td>\n",
       "      <td>22.072250</td>\n",
       "      <td>0.821951</td>\n",
       "      <td>605.368377</td>\n",
       "      <td>434.0</td>\n",
       "      <td>432.7</td>\n",
       "      <td>435.8</td>\n",
       "      <td>430.0</td>\n",
       "      <td>6.38</td>\n",
       "      <td>2016</td>\n",
       "      <td>1</td>\n",
       "      <td>2</td>\n",
       "      <td>449.2</td>\n",
       "    </tr>\n",
       "    <tr>\n",
       "      <th>2</th>\n",
       "      <td>-1.431284</td>\n",
       "      <td>6.477120</td>\n",
       "      <td>21.925045</td>\n",
       "      <td>0.843433</td>\n",
       "      <td>617.556213</td>\n",
       "      <td>432.7</td>\n",
       "      <td>428.7</td>\n",
       "      <td>433.1</td>\n",
       "      <td>422.0</td>\n",
       "      <td>19.18</td>\n",
       "      <td>2016</td>\n",
       "      <td>1</td>\n",
       "      <td>3</td>\n",
       "      <td>449.4</td>\n",
       "    </tr>\n",
       "    <tr>\n",
       "      <th>3</th>\n",
       "      <td>-1.526447</td>\n",
       "      <td>6.469927</td>\n",
       "      <td>21.797835</td>\n",
       "      <td>0.768344</td>\n",
       "      <td>553.286337</td>\n",
       "      <td>428.6</td>\n",
       "      <td>432.9</td>\n",
       "      <td>435.7</td>\n",
       "      <td>427.0</td>\n",
       "      <td>13.02</td>\n",
       "      <td>2016</td>\n",
       "      <td>1</td>\n",
       "      <td>4</td>\n",
       "      <td>449.3</td>\n",
       "    </tr>\n",
       "    <tr>\n",
       "      <th>4</th>\n",
       "      <td>-1.598543</td>\n",
       "      <td>6.471383</td>\n",
       "      <td>22.078865</td>\n",
       "      <td>0.735785</td>\n",
       "      <td>538.866279</td>\n",
       "      <td>432.9</td>\n",
       "      <td>431.8</td>\n",
       "      <td>434.9</td>\n",
       "      <td>428.2</td>\n",
       "      <td>11.22</td>\n",
       "      <td>2016</td>\n",
       "      <td>1</td>\n",
       "      <td>5</td>\n",
       "      <td>432.0</td>\n",
       "    </tr>\n",
       "    <tr>\n",
       "      <th>...</th>\n",
       "      <td>...</td>\n",
       "      <td>...</td>\n",
       "      <td>...</td>\n",
       "      <td>...</td>\n",
       "      <td>...</td>\n",
       "      <td>...</td>\n",
       "      <td>...</td>\n",
       "      <td>...</td>\n",
       "      <td>...</td>\n",
       "      <td>...</td>\n",
       "      <td>...</td>\n",
       "      <td>...</td>\n",
       "      <td>...</td>\n",
       "      <td>...</td>\n",
       "    </tr>\n",
       "    <tr>\n",
       "      <th>1189</th>\n",
       "      <td>-1.578340</td>\n",
       "      <td>6.508352</td>\n",
       "      <td>22.514711</td>\n",
       "      <td>0.731412</td>\n",
       "      <td>516.285278</td>\n",
       "      <td>4939.3</td>\n",
       "      <td>5080.4</td>\n",
       "      <td>5130.0</td>\n",
       "      <td>4930.1</td>\n",
       "      <td>11.36</td>\n",
       "      <td>2019</td>\n",
       "      <td>4</td>\n",
       "      <td>5</td>\n",
       "      <td>5114.0</td>\n",
       "    </tr>\n",
       "    <tr>\n",
       "      <th>1190</th>\n",
       "      <td>-1.623582</td>\n",
       "      <td>6.561295</td>\n",
       "      <td>22.208412</td>\n",
       "      <td>0.815077</td>\n",
       "      <td>556.772400</td>\n",
       "      <td>5080.4</td>\n",
       "      <td>5090.5</td>\n",
       "      <td>5280.0</td>\n",
       "      <td>4968.1</td>\n",
       "      <td>14.20</td>\n",
       "      <td>2019</td>\n",
       "      <td>4</td>\n",
       "      <td>6</td>\n",
       "      <td>5101.8</td>\n",
       "    </tr>\n",
       "    <tr>\n",
       "      <th>1191</th>\n",
       "      <td>-1.286160</td>\n",
       "      <td>6.579202</td>\n",
       "      <td>22.162724</td>\n",
       "      <td>0.828345</td>\n",
       "      <td>553.663635</td>\n",
       "      <td>5091.1</td>\n",
       "      <td>5238.1</td>\n",
       "      <td>5313.1</td>\n",
       "      <td>5075.0</td>\n",
       "      <td>9.95</td>\n",
       "      <td>2019</td>\n",
       "      <td>4</td>\n",
       "      <td>7</td>\n",
       "      <td>5194.3</td>\n",
       "    </tr>\n",
       "    <tr>\n",
       "      <th>1192</th>\n",
       "      <td>-1.303974</td>\n",
       "      <td>6.478998</td>\n",
       "      <td>22.117823</td>\n",
       "      <td>0.754297</td>\n",
       "      <td>521.377441</td>\n",
       "      <td>5238.9</td>\n",
       "      <td>5312.5</td>\n",
       "      <td>5361.7</td>\n",
       "      <td>5148.5</td>\n",
       "      <td>17.82</td>\n",
       "      <td>2019</td>\n",
       "      <td>4</td>\n",
       "      <td>8</td>\n",
       "      <td>5049.2</td>\n",
       "    </tr>\n",
       "    <tr>\n",
       "      <th>1193</th>\n",
       "      <td>-1.593917</td>\n",
       "      <td>6.643074</td>\n",
       "      <td>22.156372</td>\n",
       "      <td>0.719125</td>\n",
       "      <td>502.867004</td>\n",
       "      <td>5312.4</td>\n",
       "      <td>5216.3</td>\n",
       "      <td>5312.5</td>\n",
       "      <td>5173.5</td>\n",
       "      <td>11.90</td>\n",
       "      <td>2019</td>\n",
       "      <td>4</td>\n",
       "      <td>9</td>\n",
       "      <td>5234.3</td>\n",
       "    </tr>\n",
       "  </tbody>\n",
       "</table>\n",
       "<p>1194 rows × 14 columns</p>\n",
       "</div>"
      ],
      "text/plain": [
       "        tone_1    tone_4     tone_5    tone_6      tone_7    Open   Price  \\\n",
       "0    -1.343669  6.655342  21.979880  0.775952  607.957274   429.0   434.0   \n",
       "1    -1.244109  6.535910  22.072250  0.821951  605.368377   434.0   432.7   \n",
       "2    -1.431284  6.477120  21.925045  0.843433  617.556213   432.7   428.7   \n",
       "3    -1.526447  6.469927  21.797835  0.768344  553.286337   428.6   432.9   \n",
       "4    -1.598543  6.471383  22.078865  0.735785  538.866279   432.9   431.8   \n",
       "...        ...       ...        ...       ...         ...     ...     ...   \n",
       "1189 -1.578340  6.508352  22.514711  0.731412  516.285278  4939.3  5080.4   \n",
       "1190 -1.623582  6.561295  22.208412  0.815077  556.772400  5080.4  5090.5   \n",
       "1191 -1.286160  6.579202  22.162724  0.828345  553.663635  5091.1  5238.1   \n",
       "1192 -1.303974  6.478998  22.117823  0.754297  521.377441  5238.9  5312.5   \n",
       "1193 -1.593917  6.643074  22.156372  0.719125  502.867004  5312.4  5216.3   \n",
       "\n",
       "        High     Low   Vol.  year  month  day  Close_price_next_7days  \n",
       "0      436.5   426.3  12.97  2016      1    1                   454.0  \n",
       "1      435.8   430.0   6.38  2016      1    2                   449.2  \n",
       "2      433.1   422.0  19.18  2016      1    3                   449.4  \n",
       "3      435.7   427.0  13.02  2016      1    4                   449.3  \n",
       "4      434.9   428.2  11.22  2016      1    5                   432.0  \n",
       "...      ...     ...    ...   ...    ...  ...                     ...  \n",
       "1189  5130.0  4930.1  11.36  2019      4    5                  5114.0  \n",
       "1190  5280.0  4968.1  14.20  2019      4    6                  5101.8  \n",
       "1191  5313.1  5075.0   9.95  2019      4    7                  5194.3  \n",
       "1192  5361.7  5148.5  17.82  2019      4    8                  5049.2  \n",
       "1193  5312.5  5173.5  11.90  2019      4    9                  5234.3  \n",
       "\n",
       "[1194 rows x 14 columns]"
      ]
     },
     "execution_count": 62,
     "metadata": {},
     "output_type": "execute_result"
    }
   ],
   "source": [
    "shape = df_7.shape\n",
    "train_7 = df_7.iloc[:int(shape[0]*0.7)]\n",
    "test_7 = df_7.iloc[int(shape[0]*0.7):]\n",
    "columns = train_7.columns\n",
    "print(\"shape of train and test df:\", train_7.shape, test_7.shape)\n",
    "\n",
    "df_7"
   ]
  },
  {
   "cell_type": "markdown",
   "metadata": {
    "heading_collapsed": true
   },
   "source": [
    "##### Random Forest"
   ]
  },
  {
   "cell_type": "code",
   "execution_count": 63,
   "metadata": {
    "ExecuteTime": {
     "end_time": "2021-01-25T07:52:57.947007Z",
     "start_time": "2021-01-25T07:52:57.771497Z"
    },
    "hidden": true
   },
   "outputs": [
    {
     "data": {
      "text/plain": [
       "RandomForestRegressor(n_estimators=50, n_jobs=-1)"
      ]
     },
     "execution_count": 63,
     "metadata": {},
     "output_type": "execute_result"
    }
   ],
   "source": [
    "rf7 = RandomForestRegressor(n_estimators=50, n_jobs=-1)\n",
    "rf7.fit(train_7[columns[:-1]], train_7[columns[-1]])"
   ]
  },
  {
   "cell_type": "code",
   "execution_count": 64,
   "metadata": {
    "ExecuteTime": {
     "end_time": "2021-01-25T07:52:57.980349Z",
     "start_time": "2021-01-25T07:52:57.949267Z"
    },
    "hidden": true
   },
   "outputs": [
    {
     "data": {
      "text/plain": [
       "1045.8971480701057"
      ]
     },
     "execution_count": 64,
     "metadata": {},
     "output_type": "execute_result"
    }
   ],
   "source": [
    "# rmse\n",
    "np.sqrt(mean_squared_error(test_7[columns[-1]], rf7.predict(test_7[columns[:-1]])))"
   ]
  },
  {
   "cell_type": "code",
   "execution_count": 65,
   "metadata": {
    "ExecuteTime": {
     "end_time": "2021-01-25T07:52:58.013404Z",
     "start_time": "2021-01-25T07:52:57.982914Z"
    },
    "hidden": true
   },
   "outputs": [
    {
     "data": {
      "text/plain": [
       "854.721376044568"
      ]
     },
     "execution_count": 65,
     "metadata": {},
     "output_type": "execute_result"
    }
   ],
   "source": [
    "mean_absolute_error(test_7[columns[-1]], rf7.predict(test_7[columns[:-1]]))"
   ]
  },
  {
   "cell_type": "markdown",
   "metadata": {
    "hidden": true
   },
   "source": [
    "###### Hyperparameter Tuning"
   ]
  },
  {
   "cell_type": "code",
   "execution_count": 66,
   "metadata": {
    "ExecuteTime": {
     "end_time": "2021-01-25T08:02:17.206260Z",
     "start_time": "2021-01-25T07:52:58.015831Z"
    },
    "hidden": true
   },
   "outputs": [
    {
     "name": "stdout",
     "output_type": "stream",
     "text": [
      "Fitting 3 folds for each of 1440 candidates, totalling 4320 fits\n"
     ]
    },
    {
     "name": "stderr",
     "output_type": "stream",
     "text": [
      "[Parallel(n_jobs=-1)]: Using backend LokyBackend with 4 concurrent workers.\n",
      "[Parallel(n_jobs=-1)]: Done  42 tasks      | elapsed:    6.2s\n",
      "[Parallel(n_jobs=-1)]: Done 192 tasks      | elapsed:   26.3s\n",
      "[Parallel(n_jobs=-1)]: Done 442 tasks      | elapsed:   57.2s\n",
      "[Parallel(n_jobs=-1)]: Done 792 tasks      | elapsed:  1.7min\n",
      "[Parallel(n_jobs=-1)]: Done 1242 tasks      | elapsed:  2.7min\n",
      "[Parallel(n_jobs=-1)]: Done 1792 tasks      | elapsed:  3.9min\n",
      "[Parallel(n_jobs=-1)]: Done 2442 tasks      | elapsed:  5.3min\n",
      "[Parallel(n_jobs=-1)]: Done 3192 tasks      | elapsed:  6.9min\n",
      "[Parallel(n_jobs=-1)]: Done 4042 tasks      | elapsed:  8.7min\n",
      "[Parallel(n_jobs=-1)]: Done 4320 out of 4320 | elapsed:  9.3min finished\n"
     ]
    },
    {
     "data": {
      "text/plain": [
       "RandomForestRegressor(max_depth=250, min_samples_split=6, n_estimators=50)"
      ]
     },
     "execution_count": 66,
     "metadata": {},
     "output_type": "execute_result"
    }
   ],
   "source": [
    "parameters = {'n_estimators': np.arange(50, 300, 50),\n",
    "                           'max_depth': np.arange(50, 500, 50),\n",
    "                           'min_samples_split': np.arange(2, 10, 1),\n",
    "                           'min_samples_leaf': np.arange(1, 5, 1)}\n",
    "grid_search_cv = (GridSearchCV(estimator=RandomForestRegressor(),\n",
    "                               param_grid=parameters, verbose=1, cv=3,\n",
    "                               n_jobs=-1).fit(train_7[columns[:-1]], train_7[columns[-1]]))\n",
    "rf8 = grid_search_cv.best_estimator_\n",
    "rf8"
   ]
  },
  {
   "cell_type": "code",
   "execution_count": 67,
   "metadata": {
    "ExecuteTime": {
     "end_time": "2021-01-25T08:02:17.243386Z",
     "start_time": "2021-01-25T08:02:17.209123Z"
    },
    "hidden": true
   },
   "outputs": [
    {
     "data": {
      "text/plain": [
       "1045.8971480701057"
      ]
     },
     "execution_count": 67,
     "metadata": {},
     "output_type": "execute_result"
    }
   ],
   "source": [
    "# rmse\n",
    "np.sqrt(mean_squared_error(test_7[columns[-1]], rf7.predict(test_7[columns[:-1]])))"
   ]
  },
  {
   "cell_type": "code",
   "execution_count": 68,
   "metadata": {
    "ExecuteTime": {
     "end_time": "2021-01-25T08:02:17.261092Z",
     "start_time": "2021-01-25T08:02:17.245844Z"
    },
    "hidden": true
   },
   "outputs": [
    {
     "data": {
      "text/plain": [
       "861.4949462719343"
      ]
     },
     "execution_count": 68,
     "metadata": {},
     "output_type": "execute_result"
    }
   ],
   "source": [
    "mean_absolute_error(test_7[columns[-1]], rf8.predict(test_7[columns[:-1]]))"
   ]
  },
  {
   "cell_type": "markdown",
   "metadata": {
    "heading_collapsed": true
   },
   "source": [
    "##### XGBoost"
   ]
  },
  {
   "cell_type": "code",
   "execution_count": 69,
   "metadata": {
    "ExecuteTime": {
     "end_time": "2021-01-25T08:02:23.449351Z",
     "start_time": "2021-01-25T08:02:17.262963Z"
    },
    "hidden": true
   },
   "outputs": [
    {
     "data": {
      "text/plain": [
       "XGBRegressor(base_score=0.5, booster='gbtree', colsample_bylevel=1,\n",
       "             colsample_bynode=1, colsample_bytree=1, gamma=0, gpu_id=-1,\n",
       "             importance_type='gain', interaction_constraints='',\n",
       "             learning_rate=0.300000012, max_delta_step=0, max_depth=6,\n",
       "             min_child_weight=1, missing=nan, monotone_constraints='()',\n",
       "             n_estimators=100, n_jobs=32, num_parallel_tree=1, random_state=0,\n",
       "             reg_alpha=0, reg_lambda=1, scale_pos_weight=1, subsample=1,\n",
       "             tree_method='exact', validate_parameters=1, verbosity=None)"
      ]
     },
     "execution_count": 69,
     "metadata": {},
     "output_type": "execute_result"
    }
   ],
   "source": [
    "xg7 = XGBRegressor()\n",
    "xg7.fit(train_7[columns[:-1]].values, train_7[columns[-1]].values)"
   ]
  },
  {
   "cell_type": "code",
   "execution_count": 70,
   "metadata": {
    "ExecuteTime": {
     "end_time": "2021-01-25T08:02:23.496760Z",
     "start_time": "2021-01-25T08:02:23.451411Z"
    },
    "hidden": true
   },
   "outputs": [
    {
     "data": {
      "text/plain": [
       "601.5780029941996"
      ]
     },
     "execution_count": 70,
     "metadata": {},
     "output_type": "execute_result"
    }
   ],
   "source": [
    "np.sqrt(mean_squared_error(test_7[columns[-1]], xg0.predict(test_7[columns[:-1]].values)))"
   ]
  },
  {
   "cell_type": "code",
   "execution_count": 71,
   "metadata": {
    "ExecuteTime": {
     "end_time": "2021-01-25T08:02:23.593938Z",
     "start_time": "2021-01-25T08:02:23.498650Z"
    },
    "hidden": true
   },
   "outputs": [
    {
     "data": {
      "text/plain": [
       "888.9050272567026"
      ]
     },
     "execution_count": 71,
     "metadata": {},
     "output_type": "execute_result"
    }
   ],
   "source": [
    "mean_absolute_error(test_7[columns[-1]], xg7.predict(test_7[columns[:-1]].values))"
   ]
  },
  {
   "cell_type": "markdown",
   "metadata": {
    "heading_collapsed": true
   },
   "source": [
    "##### GBM"
   ]
  },
  {
   "cell_type": "code",
   "execution_count": 72,
   "metadata": {
    "ExecuteTime": {
     "end_time": "2021-01-25T08:02:23.773307Z",
     "start_time": "2021-01-25T08:02:23.596530Z"
    },
    "hidden": true
   },
   "outputs": [
    {
     "data": {
      "text/plain": [
       "GradientBoostingRegressor(n_estimators=50)"
      ]
     },
     "execution_count": 72,
     "metadata": {},
     "output_type": "execute_result"
    }
   ],
   "source": [
    "gbm7 = GradientBoostingRegressor(n_estimators=50)\n",
    "gbm7.fit(train_7[columns[:-1]], train_7[columns[-1]])"
   ]
  },
  {
   "cell_type": "code",
   "execution_count": 73,
   "metadata": {
    "ExecuteTime": {
     "end_time": "2021-01-25T08:02:23.784035Z",
     "start_time": "2021-01-25T08:02:23.775161Z"
    },
    "hidden": true
   },
   "outputs": [
    {
     "data": {
      "text/plain": [
       "802.5168294283957"
      ]
     },
     "execution_count": 73,
     "metadata": {},
     "output_type": "execute_result"
    }
   ],
   "source": [
    "np.sqrt(mean_squared_error(test_7[columns[-1]], gbm7.predict(test_7[columns[:-1]])))"
   ]
  },
  {
   "cell_type": "code",
   "execution_count": 74,
   "metadata": {
    "ExecuteTime": {
     "end_time": "2021-01-25T08:02:23.794329Z",
     "start_time": "2021-01-25T08:02:23.785846Z"
    },
    "hidden": true
   },
   "outputs": [
    {
     "data": {
      "text/plain": [
       "646.8269338516532"
      ]
     },
     "execution_count": 74,
     "metadata": {},
     "output_type": "execute_result"
    }
   ],
   "source": [
    "mean_absolute_error(test_7[columns[-1]], gbm7.predict(test_7[columns[:-1]]))"
   ]
  },
  {
   "cell_type": "markdown",
   "metadata": {
    "hidden": true
   },
   "source": [
    "###### Hyperparameter Tuning"
   ]
  },
  {
   "cell_type": "code",
   "execution_count": 75,
   "metadata": {
    "ExecuteTime": {
     "end_time": "2021-01-25T08:19:05.497842Z",
     "start_time": "2021-01-25T08:02:23.796294Z"
    },
    "hidden": true
   },
   "outputs": [
    {
     "name": "stdout",
     "output_type": "stream",
     "text": [
      "Fitting 3 folds for each of 900 candidates, totalling 2700 fits\n"
     ]
    },
    {
     "name": "stderr",
     "output_type": "stream",
     "text": [
      "[Parallel(n_jobs=-1)]: Using backend LokyBackend with 4 concurrent workers.\n",
      "[Parallel(n_jobs=-1)]: Done  42 tasks      | elapsed:   10.4s\n",
      "[Parallel(n_jobs=-1)]: Done 192 tasks      | elapsed:   47.7s\n",
      "[Parallel(n_jobs=-1)]: Done 442 tasks      | elapsed:  1.8min\n",
      "[Parallel(n_jobs=-1)]: Done 792 tasks      | elapsed:  3.7min\n",
      "[Parallel(n_jobs=-1)]: Done 1242 tasks      | elapsed:  6.6min\n",
      "[Parallel(n_jobs=-1)]: Done 1792 tasks      | elapsed: 10.3min\n",
      "[Parallel(n_jobs=-1)]: Done 2442 tasks      | elapsed: 14.8min\n",
      "[Parallel(n_jobs=-1)]: Done 2700 out of 2700 | elapsed: 16.7min finished\n"
     ]
    },
    {
     "data": {
      "text/plain": [
       "GradientBoostingRegressor(learning_rate=0.5000000000000001, max_depth=300,\n",
       "                          min_samples_leaf=4)"
      ]
     },
     "execution_count": 75,
     "metadata": {},
     "output_type": "execute_result"
    }
   ],
   "source": [
    "# GradientBoostingClassifier\n",
    "parameters = {'learning_rate': np.arange(0.1, 1, 0.2),\n",
    "              'n_estimators': np.arange(50, 300, 50),\n",
    "              'max_depth': np.arange(50, 500, 50),\n",
    "              'min_samples_leaf': np.arange(1, 5, 1)}\n",
    "grid_search_cv = (GridSearchCV(estimator=GradientBoostingRegressor(),\n",
    "                               param_grid=parameters, verbose=1, cv=3,\n",
    "                               n_jobs=-1).fit(train_7[columns[:-1]], train_7[columns[-1]]))\n",
    "gbm8 = grid_search_cv.best_estimator_\n",
    "gbm8"
   ]
  },
  {
   "cell_type": "code",
   "execution_count": 76,
   "metadata": {
    "ExecuteTime": {
     "end_time": "2021-01-25T08:19:05.518102Z",
     "start_time": "2021-01-25T08:19:05.500147Z"
    },
    "hidden": true
   },
   "outputs": [
    {
     "data": {
      "text/plain": [
       "1143.9931227420252"
      ]
     },
     "execution_count": 76,
     "metadata": {},
     "output_type": "execute_result"
    }
   ],
   "source": [
    "np.sqrt(mean_squared_error(test_7[columns[-1]], gbm8.predict(test_7[columns[:-1]])))"
   ]
  },
  {
   "cell_type": "code",
   "execution_count": 77,
   "metadata": {
    "ExecuteTime": {
     "end_time": "2021-01-25T08:19:05.532467Z",
     "start_time": "2021-01-25T08:19:05.519981Z"
    },
    "hidden": true
   },
   "outputs": [
    {
     "data": {
      "text/plain": [
       "912.1079818152198"
      ]
     },
     "execution_count": 77,
     "metadata": {},
     "output_type": "execute_result"
    }
   ],
   "source": [
    "mean_absolute_error(test_7[columns[-1]], gbm8.predict(test_7[columns[:-1]]))"
   ]
  },
  {
   "cell_type": "markdown",
   "metadata": {},
   "source": [
    "##### 7-day Forecast Result"
   ]
  },
  {
   "cell_type": "markdown",
   "metadata": {
    "ExecuteTime": {
     "end_time": "2021-01-25T09:07:21.830470Z",
     "start_time": "2021-01-25T09:07:21.821421Z"
    }
   },
   "source": [
    "Similar with the 3-day forecast, our result for this section shows that we may assume two best models for each of our evaluation criteria. The best model in reference to `MAE` is found to be `GBM` while `XGBoost` was the best in terms of the `RMSE` score. Moreover, we found that the results that we have at this forecasting section is the worst as compared from the previous sections. Lastly, the cell below shows us that most important non-price related features are `month`, `year`, `day`, and `tone_5` (activity reference density).\n",
    "\n",
    "<br>\n",
    "<center><b>Table 7. 7-day Forecast Result</b></center>\n",
    "\n",
    "| Model | MAE Score| RMSE Score|\n",
    "| :--: | :------: | :------: |\n",
    "| Random Forest | 854.72 | 1045.90|\n",
    "| XGBoost | 888.91 | 601.58 |\n",
    "| GBM | 646.83 | 802.52 |"
   ]
  },
  {
   "cell_type": "code",
   "execution_count": 98,
   "metadata": {
    "ExecuteTime": {
     "end_time": "2021-01-25T09:59:41.144043Z",
     "start_time": "2021-01-25T09:59:41.053047Z"
    }
   },
   "outputs": [
    {
     "data": {
      "text/html": [
       "<div>\n",
       "<style scoped>\n",
       "    .dataframe tbody tr th:only-of-type {\n",
       "        vertical-align: middle;\n",
       "    }\n",
       "\n",
       "    .dataframe tbody tr th {\n",
       "        vertical-align: top;\n",
       "    }\n",
       "\n",
       "    .dataframe thead th {\n",
       "        text-align: right;\n",
       "    }\n",
       "</style>\n",
       "<table border=\"1\" class=\"dataframe\">\n",
       "  <thead>\n",
       "    <tr style=\"text-align: right;\">\n",
       "      <th></th>\n",
       "      <th>column</th>\n",
       "      <th>importance</th>\n",
       "    </tr>\n",
       "  </thead>\n",
       "  <tbody>\n",
       "    <tr>\n",
       "      <th>0</th>\n",
       "      <td>High</td>\n",
       "      <td>0.526581</td>\n",
       "    </tr>\n",
       "    <tr>\n",
       "      <th>1</th>\n",
       "      <td>Low</td>\n",
       "      <td>0.281089</td>\n",
       "    </tr>\n",
       "    <tr>\n",
       "      <th>2</th>\n",
       "      <td>Price</td>\n",
       "      <td>0.127703</td>\n",
       "    </tr>\n",
       "    <tr>\n",
       "      <th>3</th>\n",
       "      <td>month</td>\n",
       "      <td>0.042591</td>\n",
       "    </tr>\n",
       "    <tr>\n",
       "      <th>4</th>\n",
       "      <td>year</td>\n",
       "      <td>0.010716</td>\n",
       "    </tr>\n",
       "    <tr>\n",
       "      <th>5</th>\n",
       "      <td>Open</td>\n",
       "      <td>0.007576</td>\n",
       "    </tr>\n",
       "    <tr>\n",
       "      <th>6</th>\n",
       "      <td>day</td>\n",
       "      <td>0.001689</td>\n",
       "    </tr>\n",
       "    <tr>\n",
       "      <th>7</th>\n",
       "      <td>tone_5</td>\n",
       "      <td>0.000584</td>\n",
       "    </tr>\n",
       "    <tr>\n",
       "      <th>8</th>\n",
       "      <td>Vol.</td>\n",
       "      <td>0.000507</td>\n",
       "    </tr>\n",
       "    <tr>\n",
       "      <th>9</th>\n",
       "      <td>tone_6</td>\n",
       "      <td>0.000298</td>\n",
       "    </tr>\n",
       "    <tr>\n",
       "      <th>10</th>\n",
       "      <td>tone_7</td>\n",
       "      <td>0.000270</td>\n",
       "    </tr>\n",
       "    <tr>\n",
       "      <th>11</th>\n",
       "      <td>tone_1</td>\n",
       "      <td>0.000216</td>\n",
       "    </tr>\n",
       "    <tr>\n",
       "      <th>12</th>\n",
       "      <td>tone_4</td>\n",
       "      <td>0.000181</td>\n",
       "    </tr>\n",
       "  </tbody>\n",
       "</table>\n",
       "</div>"
      ],
      "text/plain": [
       "    column  importance\n",
       "0     High    0.526581\n",
       "1      Low    0.281089\n",
       "2    Price    0.127703\n",
       "3    month    0.042591\n",
       "4     year    0.010716\n",
       "5     Open    0.007576\n",
       "6      day    0.001689\n",
       "7   tone_5    0.000584\n",
       "8     Vol.    0.000507\n",
       "9   tone_6    0.000298\n",
       "10  tone_7    0.000270\n",
       "11  tone_1    0.000216\n",
       "12  tone_4    0.000181"
      ]
     },
     "execution_count": 98,
     "metadata": {},
     "output_type": "execute_result"
    }
   ],
   "source": [
    "feature_importance7 = sorted([(col,val) for col,val in zip(train_7.columns,xg7.feature_importances_)], key=lambda x: -x[1])\n",
    "pd.DataFrame(feature_importance7, columns=[\"column\", \"importance\"])"
   ]
  },
  {
   "cell_type": "markdown",
   "metadata": {},
   "source": [
    "### Conclusion and Recommendation"
   ]
  },
  {
   "cell_type": "markdown",
   "metadata": {},
   "source": [
    "This project demonstrated how we can use Big Data and Machine Learning in developing an analytics pipeline in forecasting bitcoin data. From our three elected machine learning models (`RandomForest`, `XGBoost`, and `GradientBoostingRegressor`), we have observed how the daily GDELT news from the top bitcoin trading countries and daily bitcoin information is capable of forecasting the bitcoin price at a later date. Moreover, we found that the `GradientBoostingRegressor` gave the best RMSE score in estimating the BTC price at 1-day ahead while `XGBoost` dominates the forecast for the next 3 and 7 days.\n",
    "It was also evident that the further ahead is our forecast, the less accurate our models become. We may account this observation to the fact that our gathered news may have lost their significance at later dates. \n",
    "<br>\n",
    "<br>\n",
    "From each of the forecast model, we have detected that time-relataed features are important for our models. The `day` and `month` information are paticularly essential for the good performance of our models. For the news tones, `tones_5` and `tones_6` outweighs other news-related features. These highly regarded tones are the `activity reference density` and the `self/group reference density`. From this insight, we can conclude that the manner of delivery of how the news are presented matters. Thus, we may look into these factors and add other journalistic indicators and establish an indicator using news data.\n",
    "<br>\n",
    "<br>\n",
    "To further this study, we recommend that the data should be extended at wider time range (e.g. 2012 to 2020) in order to capture more bitcoin price movements. Expand the news-related features in our data. By doing so, we estimate that it will produce a much better accuracy. Lastly, exploring memory-based Neural Networks like LSTM or RNN for this project will help us in decrypting the seemingly random behavior of bitcoin prices."
   ]
  },
  {
   "cell_type": "markdown",
   "metadata": {},
   "source": [
    "### References"
   ]
  },
  {
   "cell_type": "markdown",
   "metadata": {},
   "source": [
    "[1] Bloomenthal, A. (2020, June 16). What Determines the Price of 1 Bitcoin? (Investopedia) Retrieved January 25, 2021, from https://www.investopedia.com/tech/what-determines-value-1-bitcoin/\n",
    "\n",
    "[2] Frankenfield, J. (2020, May 11). What is Bitcoin? . (Investopedia) Retrieved January 25, 2021, from https://www.investopedia.com/terms/b/bitcoin.asp\n",
    "\n",
    "[3] Hayes, A. (2020, December 17). What Happens to Bitcoin After All 21 Million Are Mined? (Investopedia) Retrieved January 25, 2021, from https://www.investopedia.com/tech/what-happens-bitcoin-after-21-million-mined/\n",
    "\n",
    "[4] The GDELT Project. (n.d.). Retrieved January 25, 2021, from https://www.gdeltproject.org/\n",
    "    \n",
    "[5] Exchange, B. (2020, January 23). 7 Countries with the Most Bitcoin Hodlers. Retrieved January 25, 2021, from https://medium.com/@biditex/7-countries-with-the-most-bitcoin-hodlers-503b205d926f\n",
    "    \n",
    "[6] Introducing a New Amazon EC2 T2 Instance: T2.large. (2015, June 16). Retrieved November 30, 2020, from https://aws.amazon.com/about-aws/whats-new/2015/06/introducing-a-new-amazon-ec2-t2-instance-t2-large/\n",
    "\n",
    "[7] Amazon EC2 Instance Types. (n.d.). Retrieved January 25, 2021, from https://aws.amazon.com/ec2/instance-types/\n",
    "\n",
    "[8] Tuwiner, J. (2021, January 17). Who Accepts Bitcoin? 11 Major Companies. Retrieved from Buy Bitcoin Worldwide: https://www.buybitcoinworldwide.com/who-accepts-bitcoin/"
   ]
  }
 ],
 "metadata": {
  "kernelspec": {
   "display_name": "Python 3",
   "language": "python",
   "name": "python3"
  },
  "language_info": {
   "codemirror_mode": {
    "name": "ipython",
    "version": 3
   },
   "file_extension": ".py",
   "mimetype": "text/x-python",
   "name": "python",
   "nbconvert_exporter": "python",
   "pygments_lexer": "ipython3",
   "version": "3.7.7"
  },
  "latex_envs": {
   "LaTeX_envs_menu_present": true,
   "autoclose": false,
   "autocomplete": true,
   "bibliofile": "biblio.bib",
   "cite_by": "apalike",
   "current_citInitial": 1,
   "eqLabelWithNumbers": true,
   "eqNumInitial": 1,
   "hotkeys": {
    "equation": "Ctrl-E",
    "itemize": "Ctrl-I"
   },
   "labels_anchors": false,
   "latex_user_defs": false,
   "report_style_numbering": false,
   "user_envs_cfg": false
  },
  "toc": {
   "base_numbering": 1,
   "nav_menu": {},
   "number_sections": false,
   "sideBar": true,
   "skip_h1_title": false,
   "title_cell": "Table of Contents",
   "title_sidebar": "Contents",
   "toc_cell": false,
   "toc_position": {},
   "toc_section_display": true,
   "toc_window_display": false
  }
 },
 "nbformat": 4,
 "nbformat_minor": 4
}
